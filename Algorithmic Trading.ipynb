{
 "cells": [
  {
   "cell_type": "code",
   "execution_count": 1,
   "metadata": {},
   "outputs": [],
   "source": [
    "import fxcmpy"
   ]
  },
  {
   "cell_type": "code",
   "execution_count": 3,
   "metadata": {},
   "outputs": [
    {
     "name": "stderr",
     "output_type": "stream",
     "text": [
      "|ERROR|2020-01-14 14:20:25,393|Socket returns unknown error.\n"
     ]
    },
    {
     "ename": "ServerError",
     "evalue": "Can not connect to FXCM Server.",
     "output_type": "error",
     "traceback": [
      "\u001b[1;31m---------------------------------------------------------------------------\u001b[0m",
      "\u001b[1;31mServerError\u001b[0m                               Traceback (most recent call last)",
      "\u001b[1;32m<ipython-input-3-3b7ad9c1dc38>\u001b[0m in \u001b[0;36m<module>\u001b[1;34m\u001b[0m\n\u001b[0;32m      1\u001b[0m api = fxcmpy.fxcmpy(access_token='4bce93fe715889eeed2e95938a007c780b213b58',\n\u001b[1;32m----> 2\u001b[1;33m                    log_level='error')\n\u001b[0m",
      "\u001b[1;32m~\\Miniconda3\\lib\\site-packages\\fxcmpy\\fxcmpy.py\u001b[0m in \u001b[0;36m__init__\u001b[1;34m(self, access_token, config_file, log_file, log_level, server, proxy_url, proxy_port, proxy_type)\u001b[0m\n\u001b[0;32m    215\u001b[0m             \u001b[1;32mraise\u001b[0m \u001b[0mServerError\u001b[0m\u001b[1;33m(\u001b[0m\u001b[1;34m'Can not find FXCM Server.'\u001b[0m\u001b[1;33m)\u001b[0m\u001b[1;33m\u001b[0m\u001b[1;33m\u001b[0m\u001b[0m\n\u001b[0;32m    216\u001b[0m         \u001b[1;32melif\u001b[0m \u001b[0mself\u001b[0m\u001b[1;33m.\u001b[0m\u001b[0mconnection_status\u001b[0m \u001b[1;33m==\u001b[0m \u001b[1;34m'aborted'\u001b[0m\u001b[1;33m:\u001b[0m\u001b[1;33m\u001b[0m\u001b[1;33m\u001b[0m\u001b[0m\n\u001b[1;32m--> 217\u001b[1;33m             \u001b[1;32mraise\u001b[0m \u001b[0mServerError\u001b[0m\u001b[1;33m(\u001b[0m\u001b[1;34m'Can not connect to FXCM Server.'\u001b[0m\u001b[1;33m)\u001b[0m\u001b[1;33m\u001b[0m\u001b[1;33m\u001b[0m\u001b[0m\n\u001b[0m\u001b[0;32m    218\u001b[0m \u001b[1;33m\u001b[0m\u001b[0m\n\u001b[0;32m    219\u001b[0m         \u001b[0mself\u001b[0m\u001b[1;33m.\u001b[0m\u001b[0m__collect_account_ids__\u001b[0m\u001b[1;33m(\u001b[0m\u001b[1;33m)\u001b[0m\u001b[1;33m\u001b[0m\u001b[1;33m\u001b[0m\u001b[0m\n",
      "\u001b[1;31mServerError\u001b[0m: Can not connect to FXCM Server."
     ]
    }
   ],
   "source": [
    "api = fxcmpy.fxcmpy(access_token='4bce93fe715889eeed2e95938a007c780b213b58',\n",
    "                   log_level='error')"
   ]
  },
  {
   "cell_type": "code",
   "execution_count": 3,
   "metadata": {},
   "outputs": [],
   "source": [
    "import time\n",
    "import numpy as np\n",
    "import pandas as pd\n",
    "import datetime as dt\n",
    "from pylab import mpl, plt"
   ]
  },
  {
   "cell_type": "code",
   "execution_count": 4,
   "metadata": {},
   "outputs": [],
   "source": [
    "plt.style.use('seaborn')\n",
    "mpl.rcParams['font.family'] = 'serif'\n",
    "%matplotlib inline"
   ]
  },
  {
   "cell_type": "code",
   "execution_count": 5,
   "metadata": {},
   "outputs": [],
   "source": [
    "from fxcmpy import fxcmpy_tick_data_reader as tdr"
   ]
  },
  {
   "cell_type": "code",
   "execution_count": 6,
   "metadata": {},
   "outputs": [
    {
     "name": "stdout",
     "output_type": "stream",
     "text": [
      "('AUDCAD', 'AUDCHF', 'AUDJPY', 'AUDNZD', 'CADCHF', 'EURAUD', 'EURCHF', 'EURGBP', 'EURJPY', 'EURUSD', 'GBPCHF', 'GBPJPY', 'GBPNZD', 'GBPUSD', 'GBPCHF', 'GBPJPY', 'GBPNZD', 'NZDCAD', 'NZDCHF', 'NZDJPY', 'NZDUSD', 'USDCAD', 'USDCHF', 'USDJPY')\n"
     ]
    }
   ],
   "source": [
    "print(tdr.get_available_symbols())"
   ]
  },
  {
   "cell_type": "code",
   "execution_count": 7,
   "metadata": {},
   "outputs": [],
   "source": [
    "start = pd.datetime(2018, 6, 25)\n",
    "stop= pd.datetime(2018, 6, 30)\n",
    "\n",
    "td = tdr('EURUSD', start, stop)"
   ]
  },
  {
   "cell_type": "code",
   "execution_count": 8,
   "metadata": {},
   "outputs": [
    {
     "name": "stdout",
     "output_type": "stream",
     "text": [
      "<class 'pandas.core.frame.DataFrame'>\n",
      "Index: 1963779 entries, 06/24/2018 21:00:12.290 to 06/29/2018 20:59:00.607\n",
      "Data columns (total 2 columns):\n",
      "Bid    float64\n",
      "Ask    float64\n",
      "dtypes: float64(2)\n",
      "memory usage: 44.9+ MB\n"
     ]
    }
   ],
   "source": [
    "td.get_raw_data().info()"
   ]
  },
  {
   "cell_type": "code",
   "execution_count": 9,
   "metadata": {},
   "outputs": [
    {
     "name": "stdout",
     "output_type": "stream",
     "text": [
      "<class 'pandas.core.frame.DataFrame'>\n",
      "DatetimeIndex: 1963779 entries, 2018-06-24 21:00:12.290000 to 2018-06-29 20:59:00.607000\n",
      "Data columns (total 2 columns):\n",
      "Bid    float64\n",
      "Ask    float64\n",
      "dtypes: float64(2)\n",
      "memory usage: 44.9 MB\n"
     ]
    }
   ],
   "source": [
    "td.get_data().info()"
   ]
  },
  {
   "cell_type": "code",
   "execution_count": 10,
   "metadata": {},
   "outputs": [
    {
     "data": {
      "text/html": [
       "<div>\n",
       "<style scoped>\n",
       "    .dataframe tbody tr th:only-of-type {\n",
       "        vertical-align: middle;\n",
       "    }\n",
       "\n",
       "    .dataframe tbody tr th {\n",
       "        vertical-align: top;\n",
       "    }\n",
       "\n",
       "    .dataframe thead th {\n",
       "        text-align: right;\n",
       "    }\n",
       "</style>\n",
       "<table border=\"1\" class=\"dataframe\">\n",
       "  <thead>\n",
       "    <tr style=\"text-align: right;\">\n",
       "      <th></th>\n",
       "      <th>Bid</th>\n",
       "      <th>Ask</th>\n",
       "    </tr>\n",
       "  </thead>\n",
       "  <tbody>\n",
       "    <tr>\n",
       "      <td>2018-06-24 21:00:12.290</td>\n",
       "      <td>1.1662</td>\n",
       "      <td>1.16660</td>\n",
       "    </tr>\n",
       "    <tr>\n",
       "      <td>2018-06-24 21:00:16.046</td>\n",
       "      <td>1.1662</td>\n",
       "      <td>1.16650</td>\n",
       "    </tr>\n",
       "    <tr>\n",
       "      <td>2018-06-24 21:00:22.846</td>\n",
       "      <td>1.1662</td>\n",
       "      <td>1.16658</td>\n",
       "    </tr>\n",
       "    <tr>\n",
       "      <td>2018-06-24 21:00:22.907</td>\n",
       "      <td>1.1662</td>\n",
       "      <td>1.16660</td>\n",
       "    </tr>\n",
       "    <tr>\n",
       "      <td>2018-06-24 21:00:23.441</td>\n",
       "      <td>1.1662</td>\n",
       "      <td>1.16663</td>\n",
       "    </tr>\n",
       "  </tbody>\n",
       "</table>\n",
       "</div>"
      ],
      "text/plain": [
       "                            Bid      Ask\n",
       "2018-06-24 21:00:12.290  1.1662  1.16660\n",
       "2018-06-24 21:00:16.046  1.1662  1.16650\n",
       "2018-06-24 21:00:22.846  1.1662  1.16658\n",
       "2018-06-24 21:00:22.907  1.1662  1.16660\n",
       "2018-06-24 21:00:23.441  1.1662  1.16663"
      ]
     },
     "execution_count": 10,
     "metadata": {},
     "output_type": "execute_result"
    }
   ],
   "source": [
    "td.get_data().head()"
   ]
  },
  {
   "cell_type": "code",
   "execution_count": 11,
   "metadata": {},
   "outputs": [],
   "source": [
    "sub = td.get_data(start='2018-06-29 12:00', end='2018-06-29 12:15')"
   ]
  },
  {
   "cell_type": "code",
   "execution_count": 12,
   "metadata": {},
   "outputs": [
    {
     "data": {
      "text/html": [
       "<div>\n",
       "<style scoped>\n",
       "    .dataframe tbody tr th:only-of-type {\n",
       "        vertical-align: middle;\n",
       "    }\n",
       "\n",
       "    .dataframe tbody tr th {\n",
       "        vertical-align: top;\n",
       "    }\n",
       "\n",
       "    .dataframe thead th {\n",
       "        text-align: right;\n",
       "    }\n",
       "</style>\n",
       "<table border=\"1\" class=\"dataframe\">\n",
       "  <thead>\n",
       "    <tr style=\"text-align: right;\">\n",
       "      <th></th>\n",
       "      <th>Bid</th>\n",
       "      <th>Ask</th>\n",
       "    </tr>\n",
       "  </thead>\n",
       "  <tbody>\n",
       "    <tr>\n",
       "      <td>2018-06-29 12:00:00.011</td>\n",
       "      <td>1.16497</td>\n",
       "      <td>1.16498</td>\n",
       "    </tr>\n",
       "    <tr>\n",
       "      <td>2018-06-29 12:00:00.071</td>\n",
       "      <td>1.16497</td>\n",
       "      <td>1.16497</td>\n",
       "    </tr>\n",
       "    <tr>\n",
       "      <td>2018-06-29 12:00:00.079</td>\n",
       "      <td>1.16497</td>\n",
       "      <td>1.16498</td>\n",
       "    </tr>\n",
       "    <tr>\n",
       "      <td>2018-06-29 12:00:00.091</td>\n",
       "      <td>1.16495</td>\n",
       "      <td>1.16498</td>\n",
       "    </tr>\n",
       "    <tr>\n",
       "      <td>2018-06-29 12:00:00.205</td>\n",
       "      <td>1.16496</td>\n",
       "      <td>1.16498</td>\n",
       "    </tr>\n",
       "  </tbody>\n",
       "</table>\n",
       "</div>"
      ],
      "text/plain": [
       "                             Bid      Ask\n",
       "2018-06-29 12:00:00.011  1.16497  1.16498\n",
       "2018-06-29 12:00:00.071  1.16497  1.16497\n",
       "2018-06-29 12:00:00.079  1.16497  1.16498\n",
       "2018-06-29 12:00:00.091  1.16495  1.16498\n",
       "2018-06-29 12:00:00.205  1.16496  1.16498"
      ]
     },
     "execution_count": 12,
     "metadata": {},
     "output_type": "execute_result"
    }
   ],
   "source": [
    "sub.head()"
   ]
  },
  {
   "cell_type": "code",
   "execution_count": 13,
   "metadata": {},
   "outputs": [],
   "source": [
    "sub['Mid'] = sub.mean(axis=1)"
   ]
  },
  {
   "cell_type": "code",
   "execution_count": 14,
   "metadata": {},
   "outputs": [],
   "source": [
    "sub['SMA'] = sub['Mid'].rolling(1000).mean()"
   ]
  },
  {
   "cell_type": "code",
   "execution_count": 15,
   "metadata": {},
   "outputs": [
    {
     "data": {
      "text/plain": [
       "<matplotlib.axes._subplots.AxesSubplot at 0x26c80f2a6c8>"
      ]
     },
     "execution_count": 15,
     "metadata": {},
     "output_type": "execute_result"
    },
    {
     "data": {
      "image/png": "[encoded data removed]",
      "text/plain": [
       "<Figure size 720x432 with 1 Axes>"
      ]
     },
     "metadata": {
      "needs_background": "light"
     },
     "output_type": "display_data"
    }
   ],
   "source": [
    "sub[['Mid', 'SMA']].plot(figsize=(10,6), lw=0.75)"
   ]
  },
  {
   "cell_type": "code",
   "execution_count": 16,
   "metadata": {},
   "outputs": [],
   "source": [
    "from fxcmpy import fxcmpy_candles_data_reader as cdr"
   ]
  },
  {
   "cell_type": "code",
   "execution_count": 17,
   "metadata": {},
   "outputs": [
    {
     "name": "stdout",
     "output_type": "stream",
     "text": [
      "('AUDCAD', 'AUDCHF', 'AUDJPY', 'AUDNZD', 'CADCHF', 'EURAUD', 'EURCHF', 'EURGBP', 'EURJPY', 'EURUSD', 'GBPCHF', 'GBPJPY', 'GBPNZD', 'GBPUSD', 'GBPCHF', 'GBPJPY', 'GBPNZD', 'NZDCAD', 'NZDCHF', 'NZDJPY', 'NZDUSD', 'USDCAD', 'USDCHF', 'USDJPY')\n"
     ]
    }
   ],
   "source": [
    "print(cdr.get_available_symbols())"
   ]
  },
  {
   "cell_type": "code",
   "execution_count": 18,
   "metadata": {},
   "outputs": [],
   "source": [
    "start = dt.datetime(2018, 5, 1)\n",
    "stop = dt.datetime(2018, 6, 30)"
   ]
  },
  {
   "cell_type": "code",
   "execution_count": 19,
   "metadata": {},
   "outputs": [],
   "source": [
    "period = 'H1'"
   ]
  },
  {
   "cell_type": "code",
   "execution_count": 20,
   "metadata": {},
   "outputs": [],
   "source": [
    "candles = cdr('EURUSD', start, stop, period)"
   ]
  },
  {
   "cell_type": "code",
   "execution_count": 21,
   "metadata": {},
   "outputs": [],
   "source": [
    "data = candles.get_data()"
   ]
  },
  {
   "cell_type": "code",
   "execution_count": 22,
   "metadata": {},
   "outputs": [
    {
     "data": {
      "text/html": [
       "<div>\n",
       "<style scoped>\n",
       "    .dataframe tbody tr th:only-of-type {\n",
       "        vertical-align: middle;\n",
       "    }\n",
       "\n",
       "    .dataframe tbody tr th {\n",
       "        vertical-align: top;\n",
       "    }\n",
       "\n",
       "    .dataframe thead th {\n",
       "        text-align: right;\n",
       "    }\n",
       "</style>\n",
       "<table border=\"1\" class=\"dataframe\">\n",
       "  <thead>\n",
       "    <tr style=\"text-align: right;\">\n",
       "      <th></th>\n",
       "      <th>AskOpen</th>\n",
       "      <th>AskHigh</th>\n",
       "      <th>AskLow</th>\n",
       "      <th>AskClose</th>\n",
       "    </tr>\n",
       "  </thead>\n",
       "  <tbody>\n",
       "    <tr>\n",
       "      <td>2018-06-29 16:00:00</td>\n",
       "      <td>1.16769</td>\n",
       "      <td>1.16820</td>\n",
       "      <td>1.16732</td>\n",
       "      <td>1.16771</td>\n",
       "    </tr>\n",
       "    <tr>\n",
       "      <td>2018-06-29 17:00:00</td>\n",
       "      <td>1.16771</td>\n",
       "      <td>1.16827</td>\n",
       "      <td>1.16711</td>\n",
       "      <td>1.16782</td>\n",
       "    </tr>\n",
       "    <tr>\n",
       "      <td>2018-06-29 18:00:00</td>\n",
       "      <td>1.16782</td>\n",
       "      <td>1.16817</td>\n",
       "      <td>1.16669</td>\n",
       "      <td>1.16686</td>\n",
       "    </tr>\n",
       "    <tr>\n",
       "      <td>2018-06-29 19:00:00</td>\n",
       "      <td>1.16686</td>\n",
       "      <td>1.16794</td>\n",
       "      <td>1.16640</td>\n",
       "      <td>1.16775</td>\n",
       "    </tr>\n",
       "    <tr>\n",
       "      <td>2018-06-29 20:00:00</td>\n",
       "      <td>1.16775</td>\n",
       "      <td>1.16907</td>\n",
       "      <td>1.16760</td>\n",
       "      <td>1.16861</td>\n",
       "    </tr>\n",
       "  </tbody>\n",
       "</table>\n",
       "</div>"
      ],
      "text/plain": [
       "                     AskOpen  AskHigh   AskLow  AskClose\n",
       "2018-06-29 16:00:00  1.16769  1.16820  1.16732   1.16771\n",
       "2018-06-29 17:00:00  1.16771  1.16827  1.16711   1.16782\n",
       "2018-06-29 18:00:00  1.16782  1.16817  1.16669   1.16686\n",
       "2018-06-29 19:00:00  1.16686  1.16794  1.16640   1.16775\n",
       "2018-06-29 20:00:00  1.16775  1.16907  1.16760   1.16861"
      ]
     },
     "execution_count": 22,
     "metadata": {},
     "output_type": "execute_result"
    }
   ],
   "source": [
    "data[data.columns[4:]].tail()"
   ]
  },
  {
   "cell_type": "code",
   "execution_count": 23,
   "metadata": {},
   "outputs": [
    {
     "data": {
      "text/html": [
       "<div>\n",
       "<style scoped>\n",
       "    .dataframe tbody tr th:only-of-type {\n",
       "        vertical-align: middle;\n",
       "    }\n",
       "\n",
       "    .dataframe tbody tr th {\n",
       "        vertical-align: top;\n",
       "    }\n",
       "\n",
       "    .dataframe thead th {\n",
       "        text-align: right;\n",
       "    }\n",
       "</style>\n",
       "<table border=\"1\" class=\"dataframe\">\n",
       "  <thead>\n",
       "    <tr style=\"text-align: right;\">\n",
       "      <th></th>\n",
       "      <th>BidOpen</th>\n",
       "      <th>BidHigh</th>\n",
       "      <th>BidLow</th>\n",
       "      <th>BidClose</th>\n",
       "    </tr>\n",
       "  </thead>\n",
       "  <tbody>\n",
       "    <tr>\n",
       "      <td>2018-06-29 16:00:00</td>\n",
       "      <td>1.16768</td>\n",
       "      <td>1.16820</td>\n",
       "      <td>1.16731</td>\n",
       "      <td>1.16769</td>\n",
       "    </tr>\n",
       "    <tr>\n",
       "      <td>2018-06-29 17:00:00</td>\n",
       "      <td>1.16769</td>\n",
       "      <td>1.16826</td>\n",
       "      <td>1.16709</td>\n",
       "      <td>1.16781</td>\n",
       "    </tr>\n",
       "    <tr>\n",
       "      <td>2018-06-29 18:00:00</td>\n",
       "      <td>1.16781</td>\n",
       "      <td>1.16816</td>\n",
       "      <td>1.16668</td>\n",
       "      <td>1.16684</td>\n",
       "    </tr>\n",
       "    <tr>\n",
       "      <td>2018-06-29 19:00:00</td>\n",
       "      <td>1.16684</td>\n",
       "      <td>1.16792</td>\n",
       "      <td>1.16638</td>\n",
       "      <td>1.16774</td>\n",
       "    </tr>\n",
       "    <tr>\n",
       "      <td>2018-06-29 20:00:00</td>\n",
       "      <td>1.16774</td>\n",
       "      <td>1.16904</td>\n",
       "      <td>1.16758</td>\n",
       "      <td>1.16816</td>\n",
       "    </tr>\n",
       "  </tbody>\n",
       "</table>\n",
       "</div>"
      ],
      "text/plain": [
       "                     BidOpen  BidHigh   BidLow  BidClose\n",
       "2018-06-29 16:00:00  1.16768  1.16820  1.16731   1.16769\n",
       "2018-06-29 17:00:00  1.16769  1.16826  1.16709   1.16781\n",
       "2018-06-29 18:00:00  1.16781  1.16816  1.16668   1.16684\n",
       "2018-06-29 19:00:00  1.16684  1.16792  1.16638   1.16774\n",
       "2018-06-29 20:00:00  1.16774  1.16904  1.16758   1.16816"
      ]
     },
     "execution_count": 23,
     "metadata": {},
     "output_type": "execute_result"
    }
   ],
   "source": [
    "data[data.columns[:4]].tail()"
   ]
  },
  {
   "cell_type": "code",
   "execution_count": 24,
   "metadata": {},
   "outputs": [],
   "source": [
    "data['MidClose'] = data[['BidClose', 'AskClose']].mean(axis=1)"
   ]
  },
  {
   "cell_type": "code",
   "execution_count": 25,
   "metadata": {},
   "outputs": [],
   "source": [
    "data['SMA1'] = data['MidClose'].rolling(30).mean()"
   ]
  },
  {
   "cell_type": "code",
   "execution_count": 26,
   "metadata": {},
   "outputs": [],
   "source": [
    "data['SMA2'] = data['MidClose'].rolling(200).mean()"
   ]
  },
  {
   "cell_type": "code",
   "execution_count": 27,
   "metadata": {},
   "outputs": [
    {
     "data": {
      "text/plain": [
       "<matplotlib.axes._subplots.AxesSubplot at 0x26c81f96888>"
      ]
     },
     "execution_count": 27,
     "metadata": {},
     "output_type": "execute_result"
    },
    {
     "data": {
      "image/png": "[encoded data removed]",
      "text/plain": [
       "<Figure size 720x432 with 1 Axes>"
      ]
     },
     "metadata": {
      "needs_background": "light"
     },
     "output_type": "display_data"
    }
   ],
   "source": [
    "data[['MidClose', 'SMA1', 'SMA2']].plot(figsize=(10,6))"
   ]
  },
  {
   "cell_type": "code",
   "execution_count": 28,
   "metadata": {},
   "outputs": [],
   "source": [
    "#working with API"
   ]
  },
  {
   "cell_type": "code",
   "execution_count": 29,
   "metadata": {},
   "outputs": [],
   "source": [
    "instruments = api.get_instruments()"
   ]
  },
  {
   "cell_type": "code",
   "execution_count": 30,
   "metadata": {},
   "outputs": [
    {
     "name": "stdout",
     "output_type": "stream",
     "text": [
      "['EUR/USD', 'USD/JPY', 'GBP/USD', 'USD/CHF', 'EUR/CHF', 'AUD/USD', 'USD/CAD', 'NZD/USD', 'EUR/GBP', 'EUR/JPY', 'GBP/JPY', 'CHF/JPY', 'GBP/CHF', 'EUR/AUD', 'EUR/CAD', 'AUD/CAD', 'AUD/JPY', 'CAD/JPY', 'NZD/JPY', 'GBP/CAD', 'GBP/NZD', 'GBP/AUD', 'AUD/NZD', 'USD/SEK', 'EUR/SEK', 'EUR/NOK', 'USD/NOK', 'USD/MXN', 'AUD/CHF', 'EUR/NZD', 'USD/ZAR', 'USD/HKD', 'ZAR/JPY', 'USD/TRY', 'EUR/TRY', 'NZD/CHF', 'CAD/CHF', 'NZD/CAD', 'TRY/JPY', 'USD/CNH', 'AUS200', 'ESP35', 'FRA40', 'GER30', 'HKG33', 'JPN225', 'NAS100', 'SPX500', 'UK100', 'US30', 'CHN50', 'EUSTX50', 'USDOLLAR', 'US2000', 'USOil', 'UKOil', 'NGAS', 'WHEATF', 'CORNF', 'Bund', 'XAU/USD', 'XAG/USD', 'EMBasket', 'JPYBasket', 'BCH/USD', 'ETH/USD', 'LTC/USD', 'XRP/USD', 'CryptoMajor', 'USEquities']\n"
     ]
    }
   ],
   "source": [
    "print(instruments)"
   ]
  },
  {
   "cell_type": "code",
   "execution_count": 31,
   "metadata": {},
   "outputs": [],
   "source": [
    "candles = api.get_candles('USD/JPY', period='D1', number=10)"
   ]
  },
  {
   "cell_type": "code",
   "execution_count": 32,
   "metadata": {},
   "outputs": [
    {
     "data": {
      "text/html": [
       "<div>\n",
       "<style scoped>\n",
       "    .dataframe tbody tr th:only-of-type {\n",
       "        vertical-align: middle;\n",
       "    }\n",
       "\n",
       "    .dataframe tbody tr th {\n",
       "        vertical-align: top;\n",
       "    }\n",
       "\n",
       "    .dataframe thead th {\n",
       "        text-align: right;\n",
       "    }\n",
       "</style>\n",
       "<table border=\"1\" class=\"dataframe\">\n",
       "  <thead>\n",
       "    <tr style=\"text-align: right;\">\n",
       "      <th></th>\n",
       "      <th>bidopen</th>\n",
       "      <th>bidclose</th>\n",
       "      <th>bidhigh</th>\n",
       "      <th>bidlow</th>\n",
       "    </tr>\n",
       "    <tr>\n",
       "      <th>date</th>\n",
       "      <th></th>\n",
       "      <th></th>\n",
       "      <th></th>\n",
       "      <th></th>\n",
       "    </tr>\n",
       "  </thead>\n",
       "  <tbody>\n",
       "    <tr>\n",
       "      <td>2019-10-11 21:00:00</td>\n",
       "      <td>107.953</td>\n",
       "      <td>108.437</td>\n",
       "      <td>108.627</td>\n",
       "      <td>107.840</td>\n",
       "    </tr>\n",
       "    <tr>\n",
       "      <td>2019-10-13 21:00:00</td>\n",
       "      <td>108.437</td>\n",
       "      <td>108.324</td>\n",
       "      <td>108.395</td>\n",
       "      <td>108.291</td>\n",
       "    </tr>\n",
       "    <tr>\n",
       "      <td>2019-10-14 21:00:00</td>\n",
       "      <td>108.324</td>\n",
       "      <td>108.396</td>\n",
       "      <td>108.522</td>\n",
       "      <td>108.031</td>\n",
       "    </tr>\n",
       "    <tr>\n",
       "      <td>2019-10-15 21:00:00</td>\n",
       "      <td>108.396</td>\n",
       "      <td>108.850</td>\n",
       "      <td>108.899</td>\n",
       "      <td>108.156</td>\n",
       "    </tr>\n",
       "    <tr>\n",
       "      <td>2019-10-16 21:00:00</td>\n",
       "      <td>108.850</td>\n",
       "      <td>108.767</td>\n",
       "      <td>108.865</td>\n",
       "      <td>108.558</td>\n",
       "    </tr>\n",
       "    <tr>\n",
       "      <td>2019-10-17 21:00:00</td>\n",
       "      <td>108.767</td>\n",
       "      <td>108.632</td>\n",
       "      <td>108.939</td>\n",
       "      <td>108.451</td>\n",
       "    </tr>\n",
       "    <tr>\n",
       "      <td>2019-10-18 21:00:00</td>\n",
       "      <td>108.632</td>\n",
       "      <td>108.383</td>\n",
       "      <td>108.722</td>\n",
       "      <td>108.377</td>\n",
       "    </tr>\n",
       "    <tr>\n",
       "      <td>2019-10-20 21:00:00</td>\n",
       "      <td>108.484</td>\n",
       "      <td>108.405</td>\n",
       "      <td>108.527</td>\n",
       "      <td>108.399</td>\n",
       "    </tr>\n",
       "    <tr>\n",
       "      <td>2019-10-21 21:00:00</td>\n",
       "      <td>108.405</td>\n",
       "      <td>108.608</td>\n",
       "      <td>108.664</td>\n",
       "      <td>108.291</td>\n",
       "    </tr>\n",
       "    <tr>\n",
       "      <td>2019-10-22 21:00:00</td>\n",
       "      <td>108.608</td>\n",
       "      <td>108.483</td>\n",
       "      <td>108.725</td>\n",
       "      <td>108.440</td>\n",
       "    </tr>\n",
       "  </tbody>\n",
       "</table>\n",
       "</div>"
      ],
      "text/plain": [
       "                     bidopen  bidclose  bidhigh   bidlow\n",
       "date                                                    \n",
       "2019-10-11 21:00:00  107.953   108.437  108.627  107.840\n",
       "2019-10-13 21:00:00  108.437   108.324  108.395  108.291\n",
       "2019-10-14 21:00:00  108.324   108.396  108.522  108.031\n",
       "2019-10-15 21:00:00  108.396   108.850  108.899  108.156\n",
       "2019-10-16 21:00:00  108.850   108.767  108.865  108.558\n",
       "2019-10-17 21:00:00  108.767   108.632  108.939  108.451\n",
       "2019-10-18 21:00:00  108.632   108.383  108.722  108.377\n",
       "2019-10-20 21:00:00  108.484   108.405  108.527  108.399\n",
       "2019-10-21 21:00:00  108.405   108.608  108.664  108.291\n",
       "2019-10-22 21:00:00  108.608   108.483  108.725  108.440"
      ]
     },
     "execution_count": 32,
     "metadata": {},
     "output_type": "execute_result"
    }
   ],
   "source": [
    "candles[candles.columns[:4]]"
   ]
  },
  {
   "cell_type": "code",
   "execution_count": 33,
   "metadata": {},
   "outputs": [
    {
     "data": {
      "text/html": [
       "<div>\n",
       "<style scoped>\n",
       "    .dataframe tbody tr th:only-of-type {\n",
       "        vertical-align: middle;\n",
       "    }\n",
       "\n",
       "    .dataframe tbody tr th {\n",
       "        vertical-align: top;\n",
       "    }\n",
       "\n",
       "    .dataframe thead th {\n",
       "        text-align: right;\n",
       "    }\n",
       "</style>\n",
       "<table border=\"1\" class=\"dataframe\">\n",
       "  <thead>\n",
       "    <tr style=\"text-align: right;\">\n",
       "      <th></th>\n",
       "      <th>askopen</th>\n",
       "      <th>askclose</th>\n",
       "      <th>askhigh</th>\n",
       "      <th>asklow</th>\n",
       "      <th>tickqty</th>\n",
       "    </tr>\n",
       "    <tr>\n",
       "      <th>date</th>\n",
       "      <th></th>\n",
       "      <th></th>\n",
       "      <th></th>\n",
       "      <th></th>\n",
       "      <th></th>\n",
       "    </tr>\n",
       "  </thead>\n",
       "  <tbody>\n",
       "    <tr>\n",
       "      <td>2019-10-11 21:00:00</td>\n",
       "      <td>108.001</td>\n",
       "      <td>108.453</td>\n",
       "      <td>108.634</td>\n",
       "      <td>107.849</td>\n",
       "      <td>313830</td>\n",
       "    </tr>\n",
       "    <tr>\n",
       "      <td>2019-10-13 21:00:00</td>\n",
       "      <td>108.453</td>\n",
       "      <td>108.384</td>\n",
       "      <td>108.421</td>\n",
       "      <td>108.299</td>\n",
       "      <td>362</td>\n",
       "    </tr>\n",
       "    <tr>\n",
       "      <td>2019-10-14 21:00:00</td>\n",
       "      <td>108.384</td>\n",
       "      <td>108.405</td>\n",
       "      <td>108.524</td>\n",
       "      <td>108.034</td>\n",
       "      <td>170826</td>\n",
       "    </tr>\n",
       "    <tr>\n",
       "      <td>2019-10-15 21:00:00</td>\n",
       "      <td>108.405</td>\n",
       "      <td>108.863</td>\n",
       "      <td>108.900</td>\n",
       "      <td>108.155</td>\n",
       "      <td>210829</td>\n",
       "    </tr>\n",
       "    <tr>\n",
       "      <td>2019-10-16 21:00:00</td>\n",
       "      <td>108.863</td>\n",
       "      <td>108.783</td>\n",
       "      <td>108.872</td>\n",
       "      <td>108.565</td>\n",
       "      <td>239413</td>\n",
       "    </tr>\n",
       "    <tr>\n",
       "      <td>2019-10-17 21:00:00</td>\n",
       "      <td>108.783</td>\n",
       "      <td>108.687</td>\n",
       "      <td>108.938</td>\n",
       "      <td>108.454</td>\n",
       "      <td>239343</td>\n",
       "    </tr>\n",
       "    <tr>\n",
       "      <td>2019-10-18 21:00:00</td>\n",
       "      <td>108.687</td>\n",
       "      <td>108.419</td>\n",
       "      <td>108.723</td>\n",
       "      <td>108.387</td>\n",
       "      <td>199458</td>\n",
       "    </tr>\n",
       "    <tr>\n",
       "      <td>2019-10-20 21:00:00</td>\n",
       "      <td>108.545</td>\n",
       "      <td>108.464</td>\n",
       "      <td>108.589</td>\n",
       "      <td>108.460</td>\n",
       "      <td>66</td>\n",
       "    </tr>\n",
       "    <tr>\n",
       "      <td>2019-10-21 21:00:00</td>\n",
       "      <td>108.464</td>\n",
       "      <td>108.616</td>\n",
       "      <td>108.665</td>\n",
       "      <td>108.297</td>\n",
       "      <td>189374</td>\n",
       "    </tr>\n",
       "    <tr>\n",
       "      <td>2019-10-22 21:00:00</td>\n",
       "      <td>108.616</td>\n",
       "      <td>108.488</td>\n",
       "      <td>108.729</td>\n",
       "      <td>108.440</td>\n",
       "      <td>158687</td>\n",
       "    </tr>\n",
       "  </tbody>\n",
       "</table>\n",
       "</div>"
      ],
      "text/plain": [
       "                     askopen  askclose  askhigh   asklow  tickqty\n",
       "date                                                             \n",
       "2019-10-11 21:00:00  108.001   108.453  108.634  107.849   313830\n",
       "2019-10-13 21:00:00  108.453   108.384  108.421  108.299      362\n",
       "2019-10-14 21:00:00  108.384   108.405  108.524  108.034   170826\n",
       "2019-10-15 21:00:00  108.405   108.863  108.900  108.155   210829\n",
       "2019-10-16 21:00:00  108.863   108.783  108.872  108.565   239413\n",
       "2019-10-17 21:00:00  108.783   108.687  108.938  108.454   239343\n",
       "2019-10-18 21:00:00  108.687   108.419  108.723  108.387   199458\n",
       "2019-10-20 21:00:00  108.545   108.464  108.589  108.460       66\n",
       "2019-10-21 21:00:00  108.464   108.616  108.665  108.297   189374\n",
       "2019-10-22 21:00:00  108.616   108.488  108.729  108.440   158687"
      ]
     },
     "execution_count": 33,
     "metadata": {},
     "output_type": "execute_result"
    }
   ],
   "source": [
    "candles[candles.columns[4:]]"
   ]
  },
  {
   "cell_type": "code",
   "execution_count": 34,
   "metadata": {},
   "outputs": [],
   "source": [
    "start = dt.datetime(2017, 1, 1)\n",
    "end = dt.datetime(2018, 1, 1)"
   ]
  },
  {
   "cell_type": "code",
   "execution_count": 35,
   "metadata": {},
   "outputs": [],
   "source": [
    "candles = api.get_candles('EUR/JPY', period='D1',\n",
    "                          start=start, stop=end)"
   ]
  },
  {
   "cell_type": "code",
   "execution_count": 36,
   "metadata": {},
   "outputs": [
    {
     "name": "stdout",
     "output_type": "stream",
     "text": [
      "<class 'pandas.core.frame.DataFrame'>\n",
      "DatetimeIndex: 305 entries, 2017-01-03 22:00:00 to 2018-01-01 22:00:00\n",
      "Data columns (total 9 columns):\n",
      "bidopen     305 non-null float64\n",
      "bidclose    305 non-null float64\n",
      "bidhigh     305 non-null float64\n",
      "bidlow      305 non-null float64\n",
      "askopen     305 non-null float64\n",
      "askclose    305 non-null float64\n",
      "askhigh     305 non-null float64\n",
      "asklow      305 non-null float64\n",
      "tickqty     305 non-null int64\n",
      "dtypes: float64(8), int64(1)\n",
      "memory usage: 23.8 KB\n"
     ]
    }
   ],
   "source": [
    "candles.info()"
   ]
  },
  {
   "cell_type": "code",
   "execution_count": 37,
   "metadata": {},
   "outputs": [],
   "source": [
    "candles = api.get_candles('EUR/USD', period='m1', number=250)"
   ]
  },
  {
   "cell_type": "code",
   "execution_count": 38,
   "metadata": {},
   "outputs": [
    {
     "data": {
      "text/plain": [
       "<matplotlib.axes._subplots.AxesSubplot at 0x26c8210bfc8>"
      ]
     },
     "execution_count": 38,
     "metadata": {},
     "output_type": "execute_result"
    },
    {
     "data": {
      "image/png": "[encoded data removed]",
      "text/plain": [
       "<Figure size 720x432 with 1 Axes>"
      ]
     },
     "metadata": {
      "needs_background": "light"
     },
     "output_type": "display_data"
    }
   ],
   "source": [
    "candles['askclose'].plot(figsize=(10,6))"
   ]
  },
  {
   "cell_type": "code",
   "execution_count": 39,
   "metadata": {},
   "outputs": [],
   "source": [
    "#streaming data"
   ]
  },
  {
   "cell_type": "code",
   "execution_count": 40,
   "metadata": {},
   "outputs": [],
   "source": [
    "def output(data, dataframe):\n",
    "    print('3%d | %s |%s | %6.5f, %6.5f'\n",
    "         % (len(dataframe), data['Symbol'],\n",
    "           pd.to_datetime(int(data['Updated']), unit='ms'),\n",
    "           data['Rates'][0], data['Rates'][1]))"
   ]
  },
  {
   "cell_type": "code",
   "execution_count": 41,
   "metadata": {},
   "outputs": [],
   "source": [
    "api.subscribe_market_data('EUR/USD', (output,))"
   ]
  },
  {
   "cell_type": "code",
   "execution_count": 42,
   "metadata": {},
   "outputs": [
    {
     "data": {
      "text/plain": [
       "Bid     1.11233\n",
       "Ask     1.11239\n",
       "High    1.11280\n",
       "Low     1.11231\n",
       "Name: 2019-10-22 21:41:06.499000, dtype: float64"
      ]
     },
     "execution_count": 42,
     "metadata": {},
     "output_type": "execute_result"
    },
    {
     "name": "stdout",
     "output_type": "stream",
     "text": [
      "32 | EUR/USD |2019-10-22 21:41:41.744000 | 1.11234, 1.11240\n",
      "33 | EUR/USD |2019-10-22 21:41:41.948000 | 1.11234, 1.11241\n",
      "34 | EUR/USD |2019-10-22 21:41:51.489000 | 1.11235, 1.11242\n",
      "35 | EUR/USD |2019-10-22 21:41:53.108000 | 1.11235, 1.11241\n",
      "36 | EUR/USD |2019-10-22 21:41:54.729000 | 1.11234, 1.11241\n",
      "37 | EUR/USD |2019-10-22 21:41:54.934000 | 1.11235, 1.11241\n",
      "38 | EUR/USD |2019-10-22 21:42:25.808000 | 1.11234, 1.11241\n",
      "39 | EUR/USD |2019-10-22 21:42:25.882000 | 1.11233, 1.11241\n",
      "310 | EUR/USD |2019-10-22 21:42:35.780000 | 1.11233, 1.11242\n",
      "311 | EUR/USD |2019-10-22 21:42:36.705000 | 1.11233, 1.11241\n",
      "312 | EUR/USD |2019-10-22 21:42:37.205000 | 1.11233, 1.11242\n",
      "313 | EUR/USD |2019-10-22 21:42:37.705000 | 1.11233, 1.11243\n",
      "314 | EUR/USD |2019-10-22 21:42:38.205000 | 1.11233, 1.11242\n",
      "315 | EUR/USD |2019-10-22 21:42:39.267000 | 1.11233, 1.11242\n",
      "316 | EUR/USD |2019-10-22 21:42:41.879000 | 1.11234, 1.11243\n",
      "317 | EUR/USD |2019-10-22 21:42:42.937000 | 1.11235, 1.11244\n",
      "318 | EUR/USD |2019-10-22 21:42:44.388000 | 1.11235, 1.11242\n",
      "319 | EUR/USD |2019-10-22 21:42:46.045000 | 1.11234, 1.11244\n",
      "320 | EUR/USD |2019-10-22 21:42:51.955000 | 1.11234, 1.11242\n",
      "321 | EUR/USD |2019-10-22 21:42:52.453000 | 1.11234, 1.11241\n",
      "322 | EUR/USD |2019-10-22 21:42:56.074000 | 1.11235, 1.11241\n",
      "323 | EUR/USD |2019-10-22 21:42:58.317000 | 1.11235, 1.11243\n",
      "324 | EUR/USD |2019-10-22 21:42:59.781000 | 1.11236, 1.11241\n",
      "325 | EUR/USD |2019-10-22 21:43:00.281000 | 1.11235, 1.11243\n",
      "326 | EUR/USD |2019-10-22 21:43:00.835000 | 1.11243, 1.11257\n",
      "327 | EUR/USD |2019-10-22 21:43:01.039000 | 1.11243, 1.11261\n",
      "328 | EUR/USD |2019-10-22 21:43:01.815000 | 1.11244, 1.11261\n",
      "329 | EUR/USD |2019-10-22 21:43:03.413000 | 1.11241, 1.11261\n"
     ]
    }
   ],
   "source": [
    "api.get_last_price('EUR/USD')"
   ]
  },
  {
   "cell_type": "code",
   "execution_count": 43,
   "metadata": {},
   "outputs": [],
   "source": [
    "api.unsubscribe_market_data('EUR/USD')"
   ]
  },
  {
   "cell_type": "code",
   "execution_count": 44,
   "metadata": {},
   "outputs": [],
   "source": [
    "#placing order"
   ]
  },
  {
   "cell_type": "code",
   "execution_count": 45,
   "metadata": {},
   "outputs": [
    {
     "data": {
      "text/html": [
       "<div>\n",
       "<style scoped>\n",
       "    .dataframe tbody tr th:only-of-type {\n",
       "        vertical-align: middle;\n",
       "    }\n",
       "\n",
       "    .dataframe tbody tr th {\n",
       "        vertical-align: top;\n",
       "    }\n",
       "\n",
       "    .dataframe thead th {\n",
       "        text-align: right;\n",
       "    }\n",
       "</style>\n",
       "<table border=\"1\" class=\"dataframe\">\n",
       "  <thead>\n",
       "    <tr style=\"text-align: right;\">\n",
       "      <th></th>\n",
       "    </tr>\n",
       "  </thead>\n",
       "  <tbody>\n",
       "  </tbody>\n",
       "</table>\n",
       "</div>"
      ],
      "text/plain": [
       "Empty DataFrame\n",
       "Columns: []\n",
       "Index: []"
      ]
     },
     "execution_count": 45,
     "metadata": {},
     "output_type": "execute_result"
    }
   ],
   "source": [
    "api.get_open_positions()"
   ]
  },
  {
   "cell_type": "code",
   "execution_count": 46,
   "metadata": {},
   "outputs": [],
   "source": [
    "order = api.create_market_buy_order('EUR/USD', 10)"
   ]
  },
  {
   "cell_type": "code",
   "execution_count": 51,
   "metadata": {},
   "outputs": [],
   "source": [
    "sel = ['tradeId', 'amountK', 'currency',\n",
    "      'grossPL', 'isBuy']"
   ]
  },
  {
   "cell_type": "code",
   "execution_count": 52,
   "metadata": {},
   "outputs": [
    {
     "data": {
      "text/html": [
       "<div>\n",
       "<style scoped>\n",
       "    .dataframe tbody tr th:only-of-type {\n",
       "        vertical-align: middle;\n",
       "    }\n",
       "\n",
       "    .dataframe tbody tr th {\n",
       "        vertical-align: top;\n",
       "    }\n",
       "\n",
       "    .dataframe thead th {\n",
       "        text-align: right;\n",
       "    }\n",
       "</style>\n",
       "<table border=\"1\" class=\"dataframe\">\n",
       "  <thead>\n",
       "    <tr style=\"text-align: right;\">\n",
       "      <th></th>\n",
       "      <th>tradeId</th>\n",
       "      <th>amountK</th>\n",
       "      <th>currency</th>\n",
       "      <th>grossPL</th>\n",
       "      <th>isBuy</th>\n",
       "    </tr>\n",
       "  </thead>\n",
       "  <tbody>\n",
       "    <tr>\n",
       "      <td>0</td>\n",
       "      <td>209734544</td>\n",
       "      <td>10</td>\n",
       "      <td>EUR/USD</td>\n",
       "      <td>-1.4</td>\n",
       "      <td>True</td>\n",
       "    </tr>\n",
       "  </tbody>\n",
       "</table>\n",
       "</div>"
      ],
      "text/plain": [
       "     tradeId  amountK currency  grossPL  isBuy\n",
       "0  209734544       10  EUR/USD     -1.4   True"
      ]
     },
     "execution_count": 52,
     "metadata": {},
     "output_type": "execute_result"
    }
   ],
   "source": [
    "api.get_open_positions()[sel]"
   ]
  },
  {
   "cell_type": "code",
   "execution_count": 53,
   "metadata": {},
   "outputs": [],
   "source": [
    "order = api.create_market_buy_order('EUR/GBP', 5)"
   ]
  },
  {
   "cell_type": "code",
   "execution_count": 54,
   "metadata": {},
   "outputs": [
    {
     "data": {
      "text/html": [
       "<div>\n",
       "<style scoped>\n",
       "    .dataframe tbody tr th:only-of-type {\n",
       "        vertical-align: middle;\n",
       "    }\n",
       "\n",
       "    .dataframe tbody tr th {\n",
       "        vertical-align: top;\n",
       "    }\n",
       "\n",
       "    .dataframe thead th {\n",
       "        text-align: right;\n",
       "    }\n",
       "</style>\n",
       "<table border=\"1\" class=\"dataframe\">\n",
       "  <thead>\n",
       "    <tr style=\"text-align: right;\">\n",
       "      <th></th>\n",
       "      <th>tradeId</th>\n",
       "      <th>amountK</th>\n",
       "      <th>currency</th>\n",
       "      <th>grossPL</th>\n",
       "      <th>isBuy</th>\n",
       "    </tr>\n",
       "  </thead>\n",
       "  <tbody>\n",
       "    <tr>\n",
       "      <td>0</td>\n",
       "      <td>209734544</td>\n",
       "      <td>10</td>\n",
       "      <td>EUR/USD</td>\n",
       "      <td>-1.50</td>\n",
       "      <td>True</td>\n",
       "    </tr>\n",
       "    <tr>\n",
       "      <td>1</td>\n",
       "      <td>209734597</td>\n",
       "      <td>5</td>\n",
       "      <td>EUR/USD</td>\n",
       "      <td>-0.65</td>\n",
       "      <td>True</td>\n",
       "    </tr>\n",
       "  </tbody>\n",
       "</table>\n",
       "</div>"
      ],
      "text/plain": [
       "     tradeId  amountK currency  grossPL  isBuy\n",
       "0  209734544       10  EUR/USD    -1.50   True\n",
       "1  209734597        5  EUR/USD    -0.65   True"
      ]
     },
     "execution_count": 54,
     "metadata": {},
     "output_type": "execute_result"
    }
   ],
   "source": [
    "api.get_open_positions()[sel]"
   ]
  },
  {
   "cell_type": "code",
   "execution_count": 55,
   "metadata": {},
   "outputs": [],
   "source": [
    "order = api.create_market_sell_order('EUR/USD', 3)"
   ]
  },
  {
   "cell_type": "code",
   "execution_count": 58,
   "metadata": {},
   "outputs": [],
   "source": [
    "order = api.create_market_buy_order('EUR/GBP', 5)"
   ]
  },
  {
   "cell_type": "code",
   "execution_count": 59,
   "metadata": {},
   "outputs": [
    {
     "data": {
      "text/html": [
       "<div>\n",
       "<style scoped>\n",
       "    .dataframe tbody tr th:only-of-type {\n",
       "        vertical-align: middle;\n",
       "    }\n",
       "\n",
       "    .dataframe tbody tr th {\n",
       "        vertical-align: top;\n",
       "    }\n",
       "\n",
       "    .dataframe thead th {\n",
       "        text-align: right;\n",
       "    }\n",
       "</style>\n",
       "<table border=\"1\" class=\"dataframe\">\n",
       "  <thead>\n",
       "    <tr style=\"text-align: right;\">\n",
       "      <th></th>\n",
       "      <th>tradeId</th>\n",
       "      <th>amountK</th>\n",
       "      <th>currency</th>\n",
       "      <th>grossPL</th>\n",
       "      <th>isBuy</th>\n",
       "    </tr>\n",
       "  </thead>\n",
       "  <tbody>\n",
       "    <tr>\n",
       "      <td>0</td>\n",
       "      <td>209734544</td>\n",
       "      <td>10</td>\n",
       "      <td>EUR/USD</td>\n",
       "      <td>-1.40000</td>\n",
       "      <td>True</td>\n",
       "    </tr>\n",
       "    <tr>\n",
       "      <td>1</td>\n",
       "      <td>209734597</td>\n",
       "      <td>5</td>\n",
       "      <td>EUR/USD</td>\n",
       "      <td>-0.60000</td>\n",
       "      <td>True</td>\n",
       "    </tr>\n",
       "    <tr>\n",
       "      <td>2</td>\n",
       "      <td>209734607</td>\n",
       "      <td>3</td>\n",
       "      <td>EUR/USD</td>\n",
       "      <td>-0.42000</td>\n",
       "      <td>False</td>\n",
       "    </tr>\n",
       "    <tr>\n",
       "      <td>3</td>\n",
       "      <td>209734608</td>\n",
       "      <td>5</td>\n",
       "      <td>EUR/USD</td>\n",
       "      <td>-0.75000</td>\n",
       "      <td>True</td>\n",
       "    </tr>\n",
       "    <tr>\n",
       "      <td>4</td>\n",
       "      <td>209734610</td>\n",
       "      <td>5</td>\n",
       "      <td>EUR/GBP</td>\n",
       "      <td>-2.12356</td>\n",
       "      <td>True</td>\n",
       "    </tr>\n",
       "  </tbody>\n",
       "</table>\n",
       "</div>"
      ],
      "text/plain": [
       "     tradeId  amountK currency  grossPL  isBuy\n",
       "0  209734544       10  EUR/USD -1.40000   True\n",
       "1  209734597        5  EUR/USD -0.60000   True\n",
       "2  209734607        3  EUR/USD -0.42000  False\n",
       "3  209734608        5  EUR/USD -0.75000   True\n",
       "4  209734610        5  EUR/GBP -2.12356   True"
      ]
     },
     "execution_count": 59,
     "metadata": {},
     "output_type": "execute_result"
    }
   ],
   "source": [
    "api.get_open_positions()[sel]"
   ]
  },
  {
   "cell_type": "code",
   "execution_count": 60,
   "metadata": {},
   "outputs": [],
   "source": [
    "api.close_all_for_symbol('EUR/USD')"
   ]
  },
  {
   "cell_type": "code",
   "execution_count": 61,
   "metadata": {},
   "outputs": [
    {
     "data": {
      "text/html": [
       "<div>\n",
       "<style scoped>\n",
       "    .dataframe tbody tr th:only-of-type {\n",
       "        vertical-align: middle;\n",
       "    }\n",
       "\n",
       "    .dataframe tbody tr th {\n",
       "        vertical-align: top;\n",
       "    }\n",
       "\n",
       "    .dataframe thead th {\n",
       "        text-align: right;\n",
       "    }\n",
       "</style>\n",
       "<table border=\"1\" class=\"dataframe\">\n",
       "  <thead>\n",
       "    <tr style=\"text-align: right;\">\n",
       "      <th></th>\n",
       "      <th>tradeId</th>\n",
       "      <th>amountK</th>\n",
       "      <th>currency</th>\n",
       "      <th>grossPL</th>\n",
       "      <th>isBuy</th>\n",
       "    </tr>\n",
       "  </thead>\n",
       "  <tbody>\n",
       "    <tr>\n",
       "      <td>0</td>\n",
       "      <td>209734610</td>\n",
       "      <td>5</td>\n",
       "      <td>EUR/GBP</td>\n",
       "      <td>-1.86614</td>\n",
       "      <td>True</td>\n",
       "    </tr>\n",
       "  </tbody>\n",
       "</table>\n",
       "</div>"
      ],
      "text/plain": [
       "     tradeId  amountK currency  grossPL  isBuy\n",
       "0  209734610        5  EUR/GBP -1.86614   True"
      ]
     },
     "execution_count": 61,
     "metadata": {},
     "output_type": "execute_result"
    }
   ],
   "source": [
    "api.get_open_positions()[sel]"
   ]
  },
  {
   "cell_type": "code",
   "execution_count": 62,
   "metadata": {},
   "outputs": [],
   "source": [
    "api.close_all()"
   ]
  },
  {
   "cell_type": "code",
   "execution_count": 63,
   "metadata": {},
   "outputs": [
    {
     "data": {
      "text/html": [
       "<div>\n",
       "<style scoped>\n",
       "    .dataframe tbody tr th:only-of-type {\n",
       "        vertical-align: middle;\n",
       "    }\n",
       "\n",
       "    .dataframe tbody tr th {\n",
       "        vertical-align: top;\n",
       "    }\n",
       "\n",
       "    .dataframe thead th {\n",
       "        text-align: right;\n",
       "    }\n",
       "</style>\n",
       "<table border=\"1\" class=\"dataframe\">\n",
       "  <thead>\n",
       "    <tr style=\"text-align: right;\">\n",
       "      <th></th>\n",
       "    </tr>\n",
       "  </thead>\n",
       "  <tbody>\n",
       "  </tbody>\n",
       "</table>\n",
       "</div>"
      ],
      "text/plain": [
       "Empty DataFrame\n",
       "Columns: []\n",
       "Index: []"
      ]
     },
     "execution_count": 63,
     "metadata": {},
     "output_type": "execute_result"
    }
   ],
   "source": [
    "api.get_open_positions()"
   ]
  },
  {
   "cell_type": "code",
   "execution_count": 64,
   "metadata": {},
   "outputs": [
    {
     "data": {
      "text/plain": [
       "3325931"
      ]
     },
     "execution_count": 64,
     "metadata": {},
     "output_type": "execute_result"
    }
   ],
   "source": [
    "api.get_default_account()"
   ]
  },
  {
   "cell_type": "code",
   "execution_count": 68,
   "metadata": {},
   "outputs": [
    {
     "data": {
      "text/html": [
       "<div>\n",
       "<style scoped>\n",
       "    .dataframe tbody tr th:only-of-type {\n",
       "        vertical-align: middle;\n",
       "    }\n",
       "\n",
       "    .dataframe tbody tr th {\n",
       "        vertical-align: top;\n",
       "    }\n",
       "\n",
       "    .dataframe thead th {\n",
       "        text-align: right;\n",
       "    }\n",
       "</style>\n",
       "<table border=\"1\" class=\"dataframe\">\n",
       "  <thead>\n",
       "    <tr style=\"text-align: right;\">\n",
       "      <th></th>\n",
       "      <th>0</th>\n",
       "    </tr>\n",
       "  </thead>\n",
       "  <tbody>\n",
       "    <tr>\n",
       "      <td>t</td>\n",
       "      <td>6</td>\n",
       "    </tr>\n",
       "    <tr>\n",
       "      <td>ratePrecision</td>\n",
       "      <td>0</td>\n",
       "    </tr>\n",
       "    <tr>\n",
       "      <td>accountId</td>\n",
       "      <td>3325931</td>\n",
       "    </tr>\n",
       "    <tr>\n",
       "      <td>balance</td>\n",
       "      <td>49992.6</td>\n",
       "    </tr>\n",
       "    <tr>\n",
       "      <td>usdMr</td>\n",
       "      <td>0</td>\n",
       "    </tr>\n",
       "    <tr>\n",
       "      <td>mc</td>\n",
       "      <td>N</td>\n",
       "    </tr>\n",
       "    <tr>\n",
       "      <td>mcDate</td>\n",
       "      <td></td>\n",
       "    </tr>\n",
       "    <tr>\n",
       "      <td>accountName</td>\n",
       "      <td>03325931</td>\n",
       "    </tr>\n",
       "    <tr>\n",
       "      <td>usdMr3</td>\n",
       "      <td>0</td>\n",
       "    </tr>\n",
       "    <tr>\n",
       "      <td>hedging</td>\n",
       "      <td>Y</td>\n",
       "    </tr>\n",
       "    <tr>\n",
       "      <td>usableMargin3</td>\n",
       "      <td>49992.6</td>\n",
       "    </tr>\n",
       "    <tr>\n",
       "      <td>usableMarginPerc</td>\n",
       "      <td>100</td>\n",
       "    </tr>\n",
       "    <tr>\n",
       "      <td>usableMargin3Perc</td>\n",
       "      <td>100</td>\n",
       "    </tr>\n",
       "    <tr>\n",
       "      <td>equity</td>\n",
       "      <td>49992.6</td>\n",
       "    </tr>\n",
       "    <tr>\n",
       "      <td>usableMargin</td>\n",
       "      <td>49992.6</td>\n",
       "    </tr>\n",
       "    <tr>\n",
       "      <td>dayPL</td>\n",
       "      <td>-7.41</td>\n",
       "    </tr>\n",
       "    <tr>\n",
       "      <td>grossPL</td>\n",
       "      <td>0</td>\n",
       "    </tr>\n",
       "  </tbody>\n",
       "</table>\n",
       "</div>"
      ],
      "text/plain": [
       "                          0\n",
       "t                         6\n",
       "ratePrecision             0\n",
       "accountId           3325931\n",
       "balance             49992.6\n",
       "usdMr                     0\n",
       "mc                        N\n",
       "mcDate                     \n",
       "accountName        03325931\n",
       "usdMr3                    0\n",
       "hedging                   Y\n",
       "usableMargin3       49992.6\n",
       "usableMarginPerc        100\n",
       "usableMargin3Perc       100\n",
       "equity              49992.6\n",
       "usableMargin        49992.6\n",
       "dayPL                 -7.41\n",
       "grossPL                   0"
      ]
     },
     "execution_count": 68,
     "metadata": {},
     "output_type": "execute_result"
    }
   ],
   "source": [
    "api.get_accounts().T"
   ]
  },
  {
   "cell_type": "code",
   "execution_count": null,
   "metadata": {},
   "outputs": [],
   "source": []
  }
 ],
 "metadata": {
  "kernelspec": {
   "display_name": "Python 3",
   "language": "python",
   "name": "python3"
  },
  "language_info": {
   "codemirror_mode": {
    "name": "ipython",
    "version": 3
   },
   "file_extension": ".py",
   "mimetype": "text/x-python",
   "name": "python",
   "nbconvert_exporter": "python",
   "pygments_lexer": "ipython3",
   "version": "3.7.4"
  }
 },
 "nbformat": 4,
 "nbformat_minor": 2
}
