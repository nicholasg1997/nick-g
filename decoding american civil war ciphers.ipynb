{
 "cells": [
  {
   "cell_type": "code",
   "execution_count": 1,
   "metadata": {},
   "outputs": [],
   "source": [
    "list_of_lists = [['16','12','8'],['9',]]"
   ]
  },
  {
   "cell_type": "code",
   "execution_count": 3,
   "metadata": {},
   "outputs": [
    {
     "name": "stdout",
     "output_type": "stream",
     "text": [
      "['16', '12', '8']\n",
      "['9']\n"
     ]
    }
   ],
   "source": [
    "for i in range(len(list_of_lists)):\n",
    "    print(list_of_lists[i])"
   ]
  },
  {
   "cell_type": "code",
   "execution_count": 4,
   "metadata": {},
   "outputs": [],
   "source": [
    "ciphertext = \"16 12 8 4 0 1 5 9 13  17 18 14 10 6 2 3 7 11 15 19\""
   ]
  },
  {
   "cell_type": "code",
   "execution_count": 13,
   "metadata": {},
   "outputs": [],
   "source": [
    "cipherlist = list(ciphertext.split())"
   ]
  },
  {
   "cell_type": "code",
   "execution_count": 21,
   "metadata": {},
   "outputs": [
    {
     "name": "stdout",
     "output_type": "stream",
     "text": [
      "\n",
      "ciphertext = 16 12 8 4 0 1 5 9 13  17 18 14 10 6 2 3 7 11 15 19\n",
      "\n",
      "translation = \n",
      "['16', '12', '8', '4', '0']\n",
      "['17', '13', '9', '5', '1']\n",
      "['18', '14', '10', '6', '2']\n",
      "['19', '15', '11', '7', '3']\n",
      "\n",
      "key length = 4\n",
      "\n",
      "plaintext = 0 1 2 3 4 5 6 7 8 9 10 11 12 13 14 15 16 17 18 19 \n"
     ]
    }
   ],
   "source": [
    "# initialize variables\n",
    "COLS = 4\n",
    "ROWS = 5\n",
    "key = '-1 2 -3 4'\n",
    "translation_matrix = [None] * COLS\n",
    "plaintext = ''\n",
    "start = 0\n",
    "stop = ROWS\n",
    "\n",
    "#turn key_int into list of integers\n",
    "key_int = [int(i) for i in key.split()]\n",
    "\n",
    "# turn colums into items in lists of lists\n",
    "for k in key_int:\n",
    "    if k < 0: #reading bottom to top of column\n",
    "        col_items = cipherlist[start:stop]\n",
    "    elif k > 0:\n",
    "        col_items = list((reversed(cipherlist[start:stop])))\n",
    "    translation_matrix[abs(k) - 1] = col_items\n",
    "    start += ROWS\n",
    "    stop += ROWS\n",
    "    \n",
    "print(\"\\nciphertext = {}\".format(ciphertext))\n",
    "print(\"\\ntranslation = \", *translation_matrix, sep=\"\\n\")\n",
    "print(\"\\nkey length = {}\".format(len(key_int)))\n",
    "\n",
    "#loop through nested lists popping off last item in list\n",
    "for i in range(ROWS):\n",
    "    for col_items in translation_matrix:\n",
    "        word = str(col_items.pop())\n",
    "        plaintext += word + ' '\n",
    "print(\"\\nplaintext = {}\".format(plaintext))"
   ]
  },
  {
   "cell_type": "code",
   "execution_count": null,
   "metadata": {},
   "outputs": [],
   "source": []
  },
  {
   "cell_type": "code",
   "execution_count": null,
   "metadata": {},
   "outputs": [],
   "source": []
  }
 ],
 "metadata": {
  "kernelspec": {
   "display_name": "Python 3",
   "language": "python",
   "name": "python3"
  },
  "language_info": {
   "codemirror_mode": {
    "name": "ipython",
    "version": 3
   },
   "file_extension": ".py",
   "mimetype": "text/x-python",
   "name": "python",
   "nbconvert_exporter": "python",
   "pygments_lexer": "ipython3",
   "version": "3.7.4"
  }
 },
 "nbformat": 4,
 "nbformat_minor": 2
}
