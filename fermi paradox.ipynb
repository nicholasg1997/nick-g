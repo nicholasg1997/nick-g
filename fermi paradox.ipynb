{
 "cells": [
  {
   "cell_type": "code",
   "execution_count": 1,
   "metadata": {},
   "outputs": [],
   "source": [
    "# calculate probability of detection"
   ]
  },
  {
   "cell_type": "code",
   "execution_count": 2,
   "metadata": {},
   "outputs": [],
   "source": [
    "from random import randint\n",
    "from collections import Counter\n",
    "import numpy as np\n",
    "import matplotlib.pyplot as plt"
   ]
  },
  {
   "cell_type": "code",
   "execution_count": 24,
   "metadata": {},
   "outputs": [
    {
     "name": "stdout",
     "output_type": "stream",
     "text": [
      "0.0020 0.0000\n",
      "0.1020 0.0982\n",
      "0.2020 0.1832\n",
      "0.3020 0.2603\n",
      "0.4020 0.3310\n",
      "0.5020 0.3927\n",
      "0.6020 0.4517\n",
      "0.7020 0.5036\n",
      "0.8020 0.5515\n",
      "0.9020 0.5943\n",
      "1.0020 0.6324\n",
      "1.1020 0.6668\n",
      "1.2020 0.6995\n",
      "1.3020 0.7280\n",
      "1.4020 0.7533\n",
      "1.5020 0.7773\n",
      "1.6020 0.7986\n",
      "1.7020 0.8178\n",
      "1.8020 0.8353\n",
      "1.9020 0.8506\n",
      "2.0020 0.8650\n",
      "2.1020 0.8781\n",
      "2.2020 0.8892\n",
      "2.3020 0.8999\n",
      "2.4020 0.9098\n",
      "2.5020 0.9181\n",
      "2.6020 0.9259\n",
      "2.7020 0.9331\n",
      "2.8020 0.9393\n",
      "2.9020 0.9452\n",
      "3.0020 0.9502\n",
      "3.1020 0.9551\n",
      "3.2020 0.9595\n",
      "3.3020 0.9631\n",
      "3.4020 0.9667\n",
      "3.5020 0.9699\n",
      "3.6020 0.9728\n",
      "3.7020 0.9754\n",
      "3.8020 0.9777\n",
      "3.9020 0.9797\n",
      "4.0020 0.9817\n",
      "4.1020 0.9835\n",
      "4.2020 0.9851\n",
      "4.3020 0.9864\n",
      "4.4020 0.9878\n",
      "4.5020 0.9890\n",
      "4.6020 0.9900\n",
      "4.7020 0.9909\n",
      "4.8020 0.9918\n",
      "4.9020 0.9925\n"
     ]
    }
   ],
   "source": [
    "NUM_EQUIV_VOLUMES = 1000 # number of locations to place civilizations\n",
    "MAX_CIVS = 5000 # max number of advanced civilizations\n",
    "TRIALS = 1000 # number of times to model a given number of civilizations\n",
    "CIV_STEP_SIZE = 100 # civilization count step size\n",
    "\n",
    "x = [] # x values for polynomial fit\n",
    "y = [] # y values for polynomial fit\n",
    "\n",
    "for num_civs in range(2, MAX_CIVS + 2, CIV_STEP_SIZE):\n",
    "    civs_per_vol = num_civs / NUM_EQUIV_VOLUMES\n",
    "    num_single_civs = 0\n",
    "    for trial in range(TRIALS):\n",
    "        locations = [] # equivalant volumes contaiing civilizations\n",
    "        while len(locations) < num_civs:\n",
    "            location = randint(1, NUM_EQUIV_VOLUMES)\n",
    "            locations.append(location)\n",
    "        overlap_count = Counter(locations)\n",
    "        overlap_rollup = Counter(overlap_count.values())\n",
    "        num_single_civs += overlap_rollup[1]\n",
    "\n",
    "    \n",
    "    prob = 1 - (num_single_civs / (num_civs * TRIALS))\n",
    "    \n",
    "    #print ratio of civs-per-volume vs probability of 2+ civs per location\n",
    "    print(\"{:.4f} {:.4f}\".format(civs_per_vol, prob))\n",
    "    x.append(civs_per_vol)\n",
    "    y.append(prob)"
   ]
  },
  {
   "cell_type": "code",
   "execution_count": 26,
   "metadata": {},
   "outputs": [
    {
     "name": "stdout",
     "output_type": "stream",
     "text": [
      "\n",
      "           4           3          2\n",
      "-0.004715 x + 0.06633 x - 0.3586 x + 0.9184 x + 0.009856\n"
     ]
    },
    {
     "data": {
      "image/png": "[encoded data removed]",
      "text/plain": [
       "<Figure size 432x288 with 1 Axes>"
      ]
     },
     "metadata": {
      "needs_background": "light"
     },
     "output_type": "display_data"
    }
   ],
   "source": [
    "#generate predictive formula\n",
    "coefficients = np.polyfit(x, y, 4) #4th order loynomial fit\n",
    "p = np.poly1d(coefficients)\n",
    "print(\"\\n{}\".format(p))\n",
    "xp = np.linspace(0,5)\n",
    "_ = plt.plot(x,y, '.', xp, p(xp), '-')\n",
    "plt.ylim(-0.5, 1.5)\n",
    "plt.show()"
   ]
  },
  {
   "cell_type": "code",
   "execution_count": 27,
   "metadata": {},
   "outputs": [],
   "source": [
    "# drwaing galaxy"
   ]
  },
  {
   "cell_type": "code",
   "execution_count": 29,
   "metadata": {},
   "outputs": [],
   "source": [
    "import tkinter as tk\n",
    "from random import randint, uniform, random\n",
    "import math"
   ]
  },
  {
   "cell_type": "code",
   "execution_count": 30,
   "metadata": {},
   "outputs": [],
   "source": [
    "#====================================================================================\n",
    "#MAIN INPUT\n",
    "\n",
    "#Scale (radio bubble diameter) in light years\n",
    "SCALE = 225 # enter 225 to see Earths radio bubble\n",
    "\n",
    "# number of advanced civs from drake equation\n",
    "NUM_CIVS = 15600000\n",
    "#==================================================================================="
   ]
  },
  {
   "cell_type": "code",
   "execution_count": 73,
   "metadata": {},
   "outputs": [],
   "source": [
    "# set up display canvas\n",
    "root = tk.Tk()\n",
    "root.title(\"Milky Way Galaxy\")\n",
    "c = tk.Canvas(root, width=1000, height=800, bg='black')\n",
    "c.grid()\n",
    "c.configure(scrollregion=(-500, -400, 500, 400))\n",
    "\n",
    "# actuall milky way dimensions (light years)\n",
    "DISC_RADIUS = 50000\n",
    "DISC_HEIGHT = 1000\n",
    "DISC_VOL = math.pi * DISC_RADIUS**2 * DISC_HEIGHT"
   ]
  },
  {
   "cell_type": "code",
   "execution_count": 74,
   "metadata": {},
   "outputs": [],
   "source": [
    "def scale_galaxy():\n",
    "    \"\"\"Scale galaxy dimensions based on radius bubble size\"\"\"\n",
    "    disc_radius_scaled = round(DISC_RADIUS / SCALE)\n",
    "    bubble_vol = 4/3 * math.pi * (SCALE / 2)**3\n",
    "    disc_vol_scaled = DISC_VOL/bubble_vol\n",
    "    return disc_radius_scaled, disc_vol_scaled\n",
    "\n",
    "def detect_prob(disc_vol_scaled):\n",
    "    \"\"\"calculate prob of galactic civs detecting each other\"\"\"\n",
    "    ratio = NUM_CIVS / disc_vol_scaled # ratio of civs to scaled galaxy volume\n",
    "    if ratio < 0.002:  # set very low ratios to probability of 0\n",
    "        detection_prob = 0\n",
    "    elif ratio >= 5:   # set high ratios to probablity of 1\n",
    "        detection_prob = 1\n",
    "    else:\n",
    "        detection_prob = -0.004715 * ratio**4 + 0.06633* ratio**3 - 0.3586 * ratio**2 + 0.9184 * ratio + 0.009856\n",
    "    return round(detection_prob, 3)"
   ]
  },
  {
   "cell_type": "code",
   "execution_count": 75,
   "metadata": {},
   "outputs": [],
   "source": [
    "def random_polar_coordinates(disc_radius_scaled):\n",
    "    \"\"\"generate uniform random (x,y) point within a disc for 2d display\"\"\"\n",
    "    r = random()\n",
    "    theta = uniform(0, 2 * math.pi)\n",
    "    x = round(math.sqrt(r) * math.cos(theta) * disc_radius_scaled)\n",
    "    y = round(math.sqrt(r) * math.sin(theta) * disc_radius_scaled)\n",
    "    return x,y"
   ]
  },
  {
   "cell_type": "code",
   "execution_count": 76,
   "metadata": {},
   "outputs": [],
   "source": [
    "def spirals(b, r, rot_fac, fuz_fac, arm):\n",
    "    \"\"\"build spiral arms from tkinter dispaly using log spiral formula\n",
    "    b= arbitrary constant in log spiral equation\n",
    "    r = scaled galactic disc radius\n",
    "    rot_fac = rotation factor\n",
    "    fuz_fac = random shift in star position in arm, applied to 'fuzz' variable\n",
    "    arm = spiral arm (0 = main arm, 1 = trailing star)\"\"\"\n",
    "    \n",
    "    spiral_stars = []\n",
    "    fuzz = int(0.030 * abs(r)) # randomly shift star locations\n",
    "    theta_max_degrees = 520\n",
    "    for i in range(0, 600, 2):  # range (0,600,2)\n",
    "        theta = math.radians(i)\n",
    "        x = r * math.exp(b * theta) * math.cos(theta + math.pi * rot_fac) + randint(-fuzz, fuzz) * fuz_fac\n",
    "        y = r * math.exp(b * theta) * math.sin(theta + math.pi * rot_fac) + randint(-fuzz, fuzz) * fuz_fac\n",
    "        spiral_stars.append((x,y))\n",
    "    for x, y in spiral_stars:\n",
    "        if arm == 0 and int(x % 2) == 0:\n",
    "            c.create_oval(x-2, y-2, x+2, y+2, fill='white', outline='')\n",
    "        elif arm == 0 and int(x % 2) != 0:\n",
    "            c.create_oval(x-1, y-1, x+1, y+1, fill='white', outline='')\n",
    "        elif arm == 1:\n",
    "            c.create_oval(x, y, x, y, fill='white', outline='')\n",
    "                "
   ]
  },
  {
   "cell_type": "code",
   "execution_count": 77,
   "metadata": {},
   "outputs": [],
   "source": [
    "def star_haze(disc_radius_scaled, density):\n",
    "    \"\"\"randomly distribute faint stars\"\"\"\n",
    "    for i in range(0, disc_radius_scaled * density):\n",
    "        x, y = random_polar_coordinates(disc_radius_scaled)\n",
    "        c.create_text(x, y, fill='white', font=('Helvetica', '7'), text='.')"
   ]
  },
  {
   "cell_type": "code",
   "execution_count": 78,
   "metadata": {},
   "outputs": [],
   "source": [
    "def main():\n",
    "    \"\"\"calculate detection probability & post galaxy display & stats\"\"\"\n",
    "    disc_radius_scaled, disc_vol_scaled = scale_galaxy()\n",
    "    detection_prob = detect_prob(disc_vol_scaled)\n",
    "    \n",
    "    #build 4 main spiral arms & 4 trailing arms\n",
    "    spirals(b=-0.4, r=disc_radius_scaled, rot_fac=2, fuz_fac=1.5, arm=0)\n",
    "    spirals(b=-0.4, r=disc_radius_scaled, rot_fac=1.91, fuz_fac=1.5, arm=1)\n",
    "    spirals(b=-0.4, r=disc_radius_scaled, rot_fac=2, fuz_fac=1.5, arm=0)\n",
    "    spirals(b=-0.4, r=disc_radius_scaled, rot_fac=-2.09, fuz_fac=1.5, arm=1)\n",
    "    spirals(b=-0.4, r=disc_radius_scaled, rot_fac=0.5, fuz_fac=1.5, arm=0)\n",
    "    spirals(b=-0.4, r=disc_radius_scaled, rot_fac=0.4, fuz_fac=1.5, arm=1)\n",
    "    spirals(b=-0.4, r=disc_radius_scaled, rot_fac=-0.5, fuz_fac=1.5, arm=0)\n",
    "    spirals(b=-0.4, r=disc_radius_scaled, rot_fac=-0.6, fuz_fac=1.5, arm=1)\n",
    "    star_haze(disc_radius_scaled, density=8)\n",
    "    \n",
    "    #display legend\n",
    "    c.create_text(-455, -360, fill='white', anchor='w',\n",
    "                  text='One pixel = {} LY'.format(SCALE))\n",
    "    c.create_text(-455, -330, fill='white', anchor='w',\n",
    "                  text='radio bubble diameter = {} LY'.format(SCALE))\n",
    "    c.create_text(-455, -300, fill='white', anchor='w',\n",
    "                  text='probability of detection for {:,} civilizations = {}'.format(NUM_CIVS, detection_prob))\n",
    "    \n",
    "    #post earths 225 ly diameter bubble and annotate\n",
    "    if SCALE == 225:\n",
    "        c.create_rectangle(115, 75, 116, 76, fill='red', outline='')\n",
    "        c.create_text(118, 72, fill='red', anchor='w',\n",
    "                     text=\"<---------- earths radio bubble\")\n",
    "        # run tkinter loop\n",
    "        root.mainloop()"
   ]
  },
  {
   "cell_type": "code",
   "execution_count": 79,
   "metadata": {},
   "outputs": [],
   "source": [
    "main()"
   ]
  },
  {
   "cell_type": "code",
   "execution_count": null,
   "metadata": {},
   "outputs": [],
   "source": []
  }
 ],
 "metadata": {
  "kernelspec": {
   "display_name": "Python 3",
   "language": "python",
   "name": "python3"
  },
  "language_info": {
   "codemirror_mode": {
    "name": "ipython",
    "version": 3
   },
   "file_extension": ".py",
   "mimetype": "text/x-python",
   "name": "python",
   "nbconvert_exporter": "python",
   "pygments_lexer": "ipython3",
   "version": "3.7.7"
  }
 },
 "nbformat": 4,
 "nbformat_minor": 4
}
