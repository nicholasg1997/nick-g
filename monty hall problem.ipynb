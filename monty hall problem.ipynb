{
 "cells": [
  {
   "cell_type": "code",
   "execution_count": 2,
   "metadata": {},
   "outputs": [
    {
     "name": "stdout",
     "output_type": "stream",
     "text": [
      " probability of success: 0.0154\n"
     ]
    }
   ],
   "source": [
    "from random import randint\n",
    "trials = 100000\n",
    "success = 0\n",
    "for trial in range(trials):\n",
    "    faces = set()\n",
    "    for rolls in range(6):\n",
    "        roll = randint(1, 6)\n",
    "        faces.add(roll)\n",
    "    if len(faces) == 6:\n",
    "        success += 1\n",
    "print(\" probability of success: {}\".format(success/trials))"
   ]
  },
  {
   "cell_type": "code",
   "execution_count": 15,
   "metadata": {},
   "outputs": [],
   "source": [
    " # monty hall"
   ]
  },
  {
   "cell_type": "code",
   "execution_count": 16,
   "metadata": {},
   "outputs": [],
   "source": [
    "import random"
   ]
  },
  {
   "cell_type": "code",
   "execution_count": 22,
   "metadata": {},
   "outputs": [
    {
     "name": "stdout",
     "output_type": "stream",
     "text": [
      "input number of runs [2000]:20000\n",
      "Wins with original pick: 6664\n",
      "Wins with changed pick: 13336\n",
      "probability of winning with original guess: 0.33\n",
      "probability of winning by switching: 0.67\n"
     ]
    }
   ],
   "source": [
    "def user_prompt(prompt, default=None):\n",
    "    \"\"\"allow use of default values in input\"\"\"\n",
    "    prompt = '{} [{}]:'.format(prompt, default)\n",
    "    response = input(prompt)\n",
    "    if not response and default:\n",
    "        return default\n",
    "    else:\n",
    "        return response\n",
    "    \n",
    "\n",
    "# input number of times to run sim\n",
    "num_runs = int(user_prompt(\"input number of runs\", \"2000\"))\n",
    " \n",
    "# assign counter for ways to win\n",
    "first_choice_wins = 0\n",
    "pick_change_wins = 0\n",
    "doors= ['a', 'b', 'c']\n",
    "\n",
    "# run Monte Carlo sim\n",
    "for i in range(num_runs):\n",
    "    winner = random.choice(doors)\n",
    "    pick = random.choice(doors)\n",
    "    \n",
    "    if pick == winner:\n",
    "        first_choice_wins += 1\n",
    "    else:\n",
    "        pick_change_wins += 1\n",
    "    \n",
    "print(\"Wins with original pick: {}\".format(first_choice_wins))\n",
    "print(\"Wins with changed pick: {}\".format(pick_change_wins))\n",
    "print(\"probability of winning with original guess: {:.2f}\".format(first_choice_wins/num_runs))\n",
    "print(\"probability of winning by switching: {:.2f}\".format(pick_change_wins/num_runs))"
   ]
  },
  {
   "cell_type": "code",
   "execution_count": 23,
   "metadata": {},
   "outputs": [],
   "source": [
    "# D&D character creator"
   ]
  },
  {
   "cell_type": "code",
   "execution_count": 24,
   "metadata": {},
   "outputs": [],
   "source": [
    "import random\n",
    "class Dwarf(object):\n",
    "    def __init__(self, name):\n",
    "        self.name = name\n",
    "        self.attack = 3\n",
    "        self.defend = 4\n",
    "        self.body = 5\n",
    "    def talk(self):\n",
    "        print(\"im talking\")\n",
    "        "
   ]
  },
  {
   "cell_type": "code",
   "execution_count": 27,
   "metadata": {},
   "outputs": [],
   "source": [
    "dwarf = Dwarf('Lenn')"
   ]
  },
  {
   "cell_type": "code",
   "execution_count": 32,
   "metadata": {},
   "outputs": [
    {
     "name": "stdout",
     "output_type": "stream",
     "text": [
      "dwarf name = Lenn\n"
     ]
    }
   ],
   "source": [
    "print(\"dwarf name = {}\".format(dwarf.name))"
   ]
  },
  {
   "cell_type": "code",
   "execution_count": 33,
   "metadata": {},
   "outputs": [
    {
     "name": "stdout",
     "output_type": "stream",
     "text": [
      "lenn strength = 3\n"
     ]
    }
   ],
   "source": [
    "print(\"lenn strength = {}\".format(dwarf.attack))"
   ]
  },
  {
   "cell_type": "code",
   "execution_count": 34,
   "metadata": {},
   "outputs": [
    {
     "name": "stdout",
     "output_type": "stream",
     "text": [
      "im talking\n"
     ]
    }
   ],
   "source": [
    "lenn.talk()"
   ]
  },
  {
   "cell_type": "code",
   "execution_count": null,
   "metadata": {},
   "outputs": [],
   "source": [
    "   "
   ]
  }
 ],
 "metadata": {
  "kernelspec": {
   "display_name": "Python 3",
   "language": "python",
   "name": "python3"
  },
  "language_info": {
   "codemirror_mode": {
    "name": "ipython",
    "version": 3
   },
   "file_extension": ".py",
   "mimetype": "text/x-python",
   "name": "python",
   "nbconvert_exporter": "python",
   "pygments_lexer": "ipython3",
   "version": "3.7.7"
  }
 },
 "nbformat": 4,
 "nbformat_minor": 4
}
