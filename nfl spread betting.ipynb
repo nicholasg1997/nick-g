{
 "cells": [
  {
   "cell_type": "code",
   "execution_count": 1,
   "metadata": {},
   "outputs": [],
   "source": [
    "from __future__ import absolute_import, division, print_function, unicode_literals\n",
    "import tensorflow as tf\n",
    "#tf.enable_eager_execution()\n",
    "import pandas as pd\n",
    "import numpy as np\n",
    "from sklearn.metrics import accuracy_score\n",
    "import matplotlib.pyplot as plt"
   ]
  },
  {
   "cell_type": "code",
   "execution_count": 60,
   "metadata": {},
   "outputs": [],
   "source": [
    "nfl = pd.read_csv('data/nfl_scores.csv')"
   ]
  },
  {
   "cell_type": "code",
   "execution_count": 61,
   "metadata": {},
   "outputs": [],
   "source": [
    "nfl['schedule_date'] = pd.to_datetime(nfl['schedule_date'])"
   ]
  },
  {
   "cell_type": "code",
   "execution_count": 62,
   "metadata": {},
   "outputs": [],
   "source": [
    "nfl.index = nfl['schedule_date']"
   ]
  },
  {
   "cell_type": "code",
   "execution_count": 63,
   "metadata": {},
   "outputs": [],
   "source": [
    "nfl = nfl.drop(columns='schedule_date')"
   ]
  },
  {
   "cell_type": "code",
   "execution_count": 64,
   "metadata": {},
   "outputs": [],
   "source": [
    "nfl_1 = nfl['2014-09-04':'2019-12-15']"
   ]
  },
  {
   "cell_type": "code",
   "execution_count": 65,
   "metadata": {},
   "outputs": [
    {
     "name": "stderr",
     "output_type": "stream",
     "text": [
      "C:\\Users\\nickg\\Miniconda3\\lib\\site-packages\\ipykernel_launcher.py:6: SettingWithCopyWarning: \n",
      "A value is trying to be set on a copy of a slice from a DataFrame.\n",
      "Try using .loc[row_indexer,col_indexer] = value instead\n",
      "\n",
      "See the caveats in the documentation: http://pandas.pydata.org/pandas-docs/stable/user_guide/indexing.html#returning-a-view-versus-a-copy\n",
      "  \n"
     ]
    }
   ],
   "source": [
    "#normalize weather temp\n",
    "nfl_1['weather_temperature'].max()\n",
    "nfl_1['weather_temperature'] = pd.cut(nfl_1['weather_temperature'],\n",
    "                                     bins = [-10,-5,0,5,10,15,20,25,30,35,40,45,50,55,60,65,70,75,80,85,90,95,100,np.inf],\n",
    "                                     labels = [-7.5,-2.5,2.5,7.5,12.5,17.5,22.5,27.5,32.5,37.5,42.5,\n",
    "                                               47.5,52.5,57.5,62.5,67.5,72.5,77.5,82.5,87.5,92.5,97.5,102.5])"
   ]
  },
  {
   "cell_type": "code",
   "execution_count": null,
   "metadata": {},
   "outputs": [],
   "source": []
  },
  {
   "cell_type": "code",
   "execution_count": null,
   "metadata": {},
   "outputs": [],
   "source": []
  },
  {
   "cell_type": "code",
   "execution_count": null,
   "metadata": {},
   "outputs": [],
   "source": []
  },
  {
   "cell_type": "markdown",
   "metadata": {},
   "source": []
  },
  {
   "cell_type": "code",
   "execution_count": 66,
   "metadata": {},
   "outputs": [],
   "source": [
    "undecided = nfl_1"
   ]
  },
  {
   "cell_type": "code",
   "execution_count": 67,
   "metadata": {},
   "outputs": [],
   "source": [
    "undecided_2 = undecided"
   ]
  },
  {
   "cell_type": "code",
   "execution_count": 68,
   "metadata": {},
   "outputs": [],
   "source": [
    "undecided_2 = undecided_2.replace(['Arizona Cardinals', \n",
    "                                  'Atlanta Falcons',\n",
    "                                  'Baltimore Ravens',\n",
    "                                   'Buffalo Bills',\n",
    "                                   'Carolina Panthers',\n",
    "                                   'Chicago Bears',\n",
    "                                   'Cincinnati Bengals',\n",
    "                                   'Cleveland Browns',\n",
    "                                   'Dallas Cowboys',\n",
    "                                   'Denver Broncos',\n",
    "                                   'Detroit Lions',\n",
    "                                   'Green Bay Packers',\n",
    "                                   'Houston Texans',\n",
    "                                   'Indianapolis Colts',\n",
    "                                   'Jacksonville Jaguars',\n",
    "                                   'Kansas City Chiefs',\n",
    "                                   'Los Angeles Chargers',\n",
    "                                   'Los Angeles Rams',\n",
    "                                   'Miami Dolphins',\n",
    "                                   'Minnesota Vikings',\n",
    "                                   'New Orleans Saints',\n",
    "                                   'New York Giants',\n",
    "                                   'New York Jets',\n",
    "                                   'Oakland Raiders',\n",
    "                                   'Philadelphia Eagles',\n",
    "                                   'Pittsburgh Steelers',\n",
    "                                   'San Francisco 49ers',\n",
    "                                   'Seattle Seahawks',\n",
    "                                   'Tampa Bay Buccaneers',\n",
    "                                   'Tennessee Titans',\n",
    "                                   'Washington Redskins',\n",
    "                                  'St. Louis Rams',\n",
    "                                  'San Diego Chargers',\n",
    "                                  'New England Patriots',\n",
    "                                  'Division',\n",
    "                                  'Conference',\n",
    "                                  'SuperBowl',\n",
    "                                   'Superbowl',\n",
    "                                  'WildCard'],\n",
    "                                  [1,2,3,4,5,6,7,8,9,10,11,12,13,14,15,16,17,\n",
    "                                   18,19,20,21,22,23,24,25,26,27,28,29,30,31,\n",
    "                                   32,33,34,35,36,37,37, 38])"
   ]
  },
  {
   "cell_type": "code",
   "execution_count": 69,
   "metadata": {},
   "outputs": [],
   "source": [
    "#fav home\n",
    "undecided_2 = undecided_2.replace(['ARI', \n",
    "                                  'ATL',\n",
    "                                  'BAL',\n",
    "                                   'BUF',\n",
    "                                   'CAR',\n",
    "                                   'CHI',\n",
    "                                   'CIN',\n",
    "                                   'CLE',\n",
    "                                   'DAL',\n",
    "                                   'DEN',\n",
    "                                   'DET',\n",
    "                                   'GB',\n",
    "                                   'HOU',\n",
    "                                   'IND',\n",
    "                                   'JAX',\n",
    "                                   'KC',\n",
    "                                   'LAC',\n",
    "                                   'LAR',\n",
    "                                   'MIA',\n",
    "                                   'MIN',\n",
    "                                   'NO',\n",
    "                                   'NYG',\n",
    "                                   'NYJ',\n",
    "                                   'OAK',\n",
    "                                   'PHI',\n",
    "                                   'PIT',\n",
    "                                   'SF',\n",
    "                                   'SEA',\n",
    "                                   'TB',\n",
    "                                   'TEN',\n",
    "                                   'WAS',\n",
    "                                  'STR',\n",
    "                                  'SDC',\n",
    "                                  'NE',\n",
    "                                  ],\n",
    "                                  [1,2,3,4,5,6,7,8,9,10,11,12,13,14,15,16,17,\n",
    "                                   18,19,20,21,22,23,24,25,26,27,28,29,30,31,\n",
    "                                   32,33,34])"
   ]
  },
  {
   "cell_type": "code",
   "execution_count": null,
   "metadata": {},
   "outputs": [],
   "source": []
  },
  {
   "cell_type": "code",
   "execution_count": 70,
   "metadata": {},
   "outputs": [],
   "source": [
    "#fav home\n",
    "undecided_2['home_fav'] = undecided_2['team_home'] == undecided_2['team_favorite_id']\n",
    "undecided_2.home_fav = undecided_2.home_fav.astype(int)"
   ]
  },
  {
   "cell_type": "code",
   "execution_count": 71,
   "metadata": {},
   "outputs": [],
   "source": [
    "features = ['schedule_week', 'weather_temperature', 'weather_wind_mph',\n",
    "           'team_home', 'team_away', 'spread_favorite', 'over_under_line','home_fav'\n",
    "            ]"
   ]
  },
  {
   "cell_type": "code",
   "execution_count": 72,
   "metadata": {},
   "outputs": [],
   "source": [
    "x = undecided_2.loc[:, features]\n",
    "x = x.replace('Wildcard', 18, regex=True)"
   ]
  },
  {
   "cell_type": "code",
   "execution_count": null,
   "metadata": {},
   "outputs": [],
   "source": []
  },
  {
   "cell_type": "code",
   "execution_count": 73,
   "metadata": {},
   "outputs": [],
   "source": [
    "conditions = [\n",
    "    (undecided_2['home_fav'] == 0),\n",
    "    (undecided_2['home_fav'] == 1)]\n",
    "choices = [undecided_2['score_home']-undecided_2['spread_favorite'],\n",
    "          undecided_2['score_home']+undecided_2['spread_favorite']]\n",
    "\n",
    "undecided_2['score_home'] = np.select(conditions, choices, default='null')"
   ]
  },
  {
   "cell_type": "code",
   "execution_count": null,
   "metadata": {},
   "outputs": [],
   "source": []
  },
  {
   "cell_type": "code",
   "execution_count": 74,
   "metadata": {},
   "outputs": [],
   "source": [
    "undecided_2.score_home = undecided_2.score_home.astype(float)\n",
    "undecided_2.score_away = undecided_2.score_away.astype(float)\n",
    "undecided_2['home_win'] = undecided_2['score_home'] > undecided_2['score_away']\n"
   ]
  },
  {
   "cell_type": "code",
   "execution_count": null,
   "metadata": {},
   "outputs": [],
   "source": []
  },
  {
   "cell_type": "code",
   "execution_count": 75,
   "metadata": {},
   "outputs": [],
   "source": [
    "undecided_2.home_win = undecided_2.home_win.astype(int)"
   ]
  },
  {
   "cell_type": "code",
   "execution_count": 76,
   "metadata": {},
   "outputs": [],
   "source": [
    "y = undecided_2.home_win"
   ]
  },
  {
   "cell_type": "code",
   "execution_count": 77,
   "metadata": {},
   "outputs": [
    {
     "name": "stderr",
     "output_type": "stream",
     "text": [
      "C:\\Users\\nickg\\Miniconda3\\lib\\site-packages\\ipykernel_launcher.py:1: SettingWithCopyWarning: \n",
      "A value is trying to be set on a copy of a slice from a DataFrame.\n",
      "Try using .loc[row_indexer,col_indexer] = value instead\n",
      "\n",
      "See the caveats in the documentation: http://pandas.pydata.org/pandas-docs/stable/user_guide/indexing.html#returning-a-view-versus-a-copy\n",
      "  \"\"\"Entry point for launching an IPython kernel.\n"
     ]
    }
   ],
   "source": [
    "nfl_1['home_win'] = undecided_2['home_win']"
   ]
  },
  {
   "cell_type": "code",
   "execution_count": 78,
   "metadata": {},
   "outputs": [],
   "source": [
    "#train data one day behind"
   ]
  },
  {
   "cell_type": "code",
   "execution_count": 79,
   "metadata": {},
   "outputs": [],
   "source": [
    "train_data = x['2014-09-04':'2019-12-14']"
   ]
  },
  {
   "cell_type": "code",
   "execution_count": 80,
   "metadata": {},
   "outputs": [],
   "source": [
    "train_y = undecided_2.home_win"
   ]
  },
  {
   "cell_type": "code",
   "execution_count": 81,
   "metadata": {},
   "outputs": [],
   "source": [
    "train_y_data = train_y['2014-09-04':'2019-12-14']"
   ]
  },
  {
   "cell_type": "code",
   "execution_count": 82,
   "metadata": {},
   "outputs": [],
   "source": [
    "#test range(optional)\n",
    "test_data = x['2019-09-08':'2019-12-04']\n",
    "test_y_data = train_y['2019-09-08':'2019-12-04']"
   ]
  },
  {
   "cell_type": "code",
   "execution_count": null,
   "metadata": {},
   "outputs": [],
   "source": []
  },
  {
   "cell_type": "code",
   "execution_count": 83,
   "metadata": {},
   "outputs": [],
   "source": [
    "#scikit DNN"
   ]
  },
  {
   "cell_type": "code",
   "execution_count": 84,
   "metadata": {},
   "outputs": [],
   "source": [
    "from sklearn.neural_network import MLPClassifier"
   ]
  },
  {
   "cell_type": "code",
   "execution_count": 85,
   "metadata": {},
   "outputs": [],
   "source": [
    "from sklearn.model_selection import train_test_split"
   ]
  },
  {
   "cell_type": "code",
   "execution_count": 86,
   "metadata": {},
   "outputs": [],
   "source": [
    "model = MLPClassifier(solver='lbfgs', alpha=1e-5,\n",
    "                     hidden_layer_sizes=8*[94], random_state=10)"
   ]
  },
  {
   "cell_type": "code",
   "execution_count": 87,
   "metadata": {},
   "outputs": [
    {
     "data": {
      "text/plain": [
       "MLPClassifier(activation='relu', alpha=1e-05, batch_size='auto', beta_1=0.9,\n",
       "              beta_2=0.999, early_stopping=False, epsilon=1e-08,\n",
       "              hidden_layer_sizes=[94, 94, 94, 94, 94, 94, 94, 94],\n",
       "              learning_rate='constant', learning_rate_init=0.001, max_iter=200,\n",
       "              momentum=0.9, n_iter_no_change=10, nesterovs_momentum=True,\n",
       "              power_t=0.5, random_state=10, shuffle=True, solver='lbfgs',\n",
       "              tol=0.0001, validation_fraction=0.1, verbose=False,\n",
       "              warm_start=False)"
      ]
     },
     "execution_count": 87,
     "metadata": {},
     "output_type": "execute_result"
    }
   ],
   "source": [
    "model.fit(train_data,train_y_data)"
   ]
  },
  {
   "cell_type": "code",
   "execution_count": 88,
   "metadata": {},
   "outputs": [],
   "source": [
    "pred = model.predict(x)"
   ]
  },
  {
   "cell_type": "code",
   "execution_count": 89,
   "metadata": {},
   "outputs": [],
   "source": [
    "pred = pd.DataFrame(pred)"
   ]
  },
  {
   "cell_type": "code",
   "execution_count": 90,
   "metadata": {},
   "outputs": [
    {
     "data": {
      "text/html": [
       "<div>\n",
       "<style scoped>\n",
       "    .dataframe tbody tr th:only-of-type {\n",
       "        vertical-align: middle;\n",
       "    }\n",
       "\n",
       "    .dataframe tbody tr th {\n",
       "        vertical-align: top;\n",
       "    }\n",
       "\n",
       "    .dataframe thead th {\n",
       "        text-align: right;\n",
       "    }\n",
       "</style>\n",
       "<table border=\"1\" class=\"dataframe\">\n",
       "  <thead>\n",
       "    <tr style=\"text-align: right;\">\n",
       "      <th></th>\n",
       "      <th>schedule_season</th>\n",
       "      <th>schedule_week</th>\n",
       "      <th>schedule_playoff</th>\n",
       "      <th>team_home</th>\n",
       "      <th>score_home</th>\n",
       "      <th>score_away</th>\n",
       "      <th>team_away</th>\n",
       "      <th>team_favorite_id</th>\n",
       "      <th>spread_favorite</th>\n",
       "      <th>over_under_line</th>\n",
       "      <th>stadium</th>\n",
       "      <th>stadium_neutral</th>\n",
       "      <th>weather_temperature</th>\n",
       "      <th>weather_wind_mph</th>\n",
       "      <th>weather_humidity</th>\n",
       "      <th>weather_detail</th>\n",
       "      <th>home_win</th>\n",
       "    </tr>\n",
       "    <tr>\n",
       "      <th>schedule_date</th>\n",
       "      <th></th>\n",
       "      <th></th>\n",
       "      <th></th>\n",
       "      <th></th>\n",
       "      <th></th>\n",
       "      <th></th>\n",
       "      <th></th>\n",
       "      <th></th>\n",
       "      <th></th>\n",
       "      <th></th>\n",
       "      <th></th>\n",
       "      <th></th>\n",
       "      <th></th>\n",
       "      <th></th>\n",
       "      <th></th>\n",
       "      <th></th>\n",
       "      <th></th>\n",
       "    </tr>\n",
       "  </thead>\n",
       "  <tbody>\n",
       "    <tr>\n",
       "      <td>2019-12-15</td>\n",
       "      <td>2019</td>\n",
       "      <td>15</td>\n",
       "      <td>False</td>\n",
       "      <td>Arizona Cardinals</td>\n",
       "      <td>38.0</td>\n",
       "      <td>24.0</td>\n",
       "      <td>Cleveland Browns</td>\n",
       "      <td>CLE</td>\n",
       "      <td>-3.0</td>\n",
       "      <td>49</td>\n",
       "      <td>University of Phoenix Stadium</td>\n",
       "      <td>False</td>\n",
       "      <td>72.5</td>\n",
       "      <td>0.0</td>\n",
       "      <td>NaN</td>\n",
       "      <td>DOME</td>\n",
       "      <td>1</td>\n",
       "    </tr>\n",
       "    <tr>\n",
       "      <td>2019-12-15</td>\n",
       "      <td>2019</td>\n",
       "      <td>15</td>\n",
       "      <td>False</td>\n",
       "      <td>Carolina Panthers</td>\n",
       "      <td>24.0</td>\n",
       "      <td>30.0</td>\n",
       "      <td>Seattle Seahawks</td>\n",
       "      <td>SEA</td>\n",
       "      <td>-6.5</td>\n",
       "      <td>48.5</td>\n",
       "      <td>Bank of America Stadium</td>\n",
       "      <td>False</td>\n",
       "      <td>47.5</td>\n",
       "      <td>5.0</td>\n",
       "      <td>NaN</td>\n",
       "      <td>NaN</td>\n",
       "      <td>1</td>\n",
       "    </tr>\n",
       "    <tr>\n",
       "      <td>2019-12-15</td>\n",
       "      <td>2019</td>\n",
       "      <td>15</td>\n",
       "      <td>False</td>\n",
       "      <td>Cincinnati Bengals</td>\n",
       "      <td>13.0</td>\n",
       "      <td>34.0</td>\n",
       "      <td>New England Patriots</td>\n",
       "      <td>NE</td>\n",
       "      <td>-10.0</td>\n",
       "      <td>41.5</td>\n",
       "      <td>Paul Brown Stadium</td>\n",
       "      <td>False</td>\n",
       "      <td>32.5</td>\n",
       "      <td>4.0</td>\n",
       "      <td>NaN</td>\n",
       "      <td>NaN</td>\n",
       "      <td>0</td>\n",
       "    </tr>\n",
       "    <tr>\n",
       "      <td>2019-12-15</td>\n",
       "      <td>2019</td>\n",
       "      <td>15</td>\n",
       "      <td>False</td>\n",
       "      <td>Dallas Cowboys</td>\n",
       "      <td>44.0</td>\n",
       "      <td>21.0</td>\n",
       "      <td>Los Angeles Rams</td>\n",
       "      <td>LAR</td>\n",
       "      <td>-1.0</td>\n",
       "      <td>48.5</td>\n",
       "      <td>AT&amp;T Stadium</td>\n",
       "      <td>False</td>\n",
       "      <td>72.5</td>\n",
       "      <td>7.0</td>\n",
       "      <td>NaN</td>\n",
       "      <td>DOME</td>\n",
       "      <td>1</td>\n",
       "    </tr>\n",
       "    <tr>\n",
       "      <td>2019-12-15</td>\n",
       "      <td>2019</td>\n",
       "      <td>15</td>\n",
       "      <td>False</td>\n",
       "      <td>Detroit Lions</td>\n",
       "      <td>17.0</td>\n",
       "      <td>38.0</td>\n",
       "      <td>Tampa Bay Buccaneers</td>\n",
       "      <td>TB</td>\n",
       "      <td>-4.5</td>\n",
       "      <td>45.5</td>\n",
       "      <td>Ford Field</td>\n",
       "      <td>False</td>\n",
       "      <td>72.5</td>\n",
       "      <td>0.0</td>\n",
       "      <td>NaN</td>\n",
       "      <td>DOME</td>\n",
       "      <td>0</td>\n",
       "    </tr>\n",
       "    <tr>\n",
       "      <td>2019-12-15</td>\n",
       "      <td>2019</td>\n",
       "      <td>15</td>\n",
       "      <td>False</td>\n",
       "      <td>Green Bay Packers</td>\n",
       "      <td>21.0</td>\n",
       "      <td>13.0</td>\n",
       "      <td>Chicago Bears</td>\n",
       "      <td>GB</td>\n",
       "      <td>-4.5</td>\n",
       "      <td>40.5</td>\n",
       "      <td>Lambeau Field</td>\n",
       "      <td>False</td>\n",
       "      <td>12.5</td>\n",
       "      <td>7.0</td>\n",
       "      <td>NaN</td>\n",
       "      <td>NaN</td>\n",
       "      <td>1</td>\n",
       "    </tr>\n",
       "    <tr>\n",
       "      <td>2019-12-15</td>\n",
       "      <td>2019</td>\n",
       "      <td>15</td>\n",
       "      <td>False</td>\n",
       "      <td>Kansas City Chiefs</td>\n",
       "      <td>23.0</td>\n",
       "      <td>3.0</td>\n",
       "      <td>Denver Broncos</td>\n",
       "      <td>KC</td>\n",
       "      <td>-10.0</td>\n",
       "      <td>45.5</td>\n",
       "      <td>Arrowhead Stadium</td>\n",
       "      <td>False</td>\n",
       "      <td>27.5</td>\n",
       "      <td>11.0</td>\n",
       "      <td>NaN</td>\n",
       "      <td>NaN</td>\n",
       "      <td>1</td>\n",
       "    </tr>\n",
       "    <tr>\n",
       "      <td>2019-12-15</td>\n",
       "      <td>2019</td>\n",
       "      <td>15</td>\n",
       "      <td>False</td>\n",
       "      <td>Los Angeles Chargers</td>\n",
       "      <td>10.0</td>\n",
       "      <td>39.0</td>\n",
       "      <td>Minnesota Vikings</td>\n",
       "      <td>MIN</td>\n",
       "      <td>-1.5</td>\n",
       "      <td>45.5</td>\n",
       "      <td>StubHub Center</td>\n",
       "      <td>False</td>\n",
       "      <td>62.5</td>\n",
       "      <td>11.0</td>\n",
       "      <td>NaN</td>\n",
       "      <td>NaN</td>\n",
       "      <td>0</td>\n",
       "    </tr>\n",
       "    <tr>\n",
       "      <td>2019-12-15</td>\n",
       "      <td>2019</td>\n",
       "      <td>15</td>\n",
       "      <td>False</td>\n",
       "      <td>New York Giants</td>\n",
       "      <td>36.0</td>\n",
       "      <td>20.0</td>\n",
       "      <td>Miami Dolphins</td>\n",
       "      <td>NYG</td>\n",
       "      <td>-3.0</td>\n",
       "      <td>46.5</td>\n",
       "      <td>MetLife Stadium</td>\n",
       "      <td>False</td>\n",
       "      <td>42.5</td>\n",
       "      <td>15.0</td>\n",
       "      <td>NaN</td>\n",
       "      <td>NaN</td>\n",
       "      <td>1</td>\n",
       "    </tr>\n",
       "    <tr>\n",
       "      <td>2019-12-15</td>\n",
       "      <td>2019</td>\n",
       "      <td>15</td>\n",
       "      <td>False</td>\n",
       "      <td>Oakland Raiders</td>\n",
       "      <td>16.0</td>\n",
       "      <td>20.0</td>\n",
       "      <td>Jacksonville Jaguars</td>\n",
       "      <td>OAK</td>\n",
       "      <td>-6.5</td>\n",
       "      <td>46.5</td>\n",
       "      <td>Oakland Coliseum</td>\n",
       "      <td>False</td>\n",
       "      <td>52.5</td>\n",
       "      <td>5.0</td>\n",
       "      <td>NaN</td>\n",
       "      <td>NaN</td>\n",
       "      <td>0</td>\n",
       "    </tr>\n",
       "    <tr>\n",
       "      <td>2019-12-15</td>\n",
       "      <td>2019</td>\n",
       "      <td>15</td>\n",
       "      <td>False</td>\n",
       "      <td>Pittsburgh Steelers</td>\n",
       "      <td>10.0</td>\n",
       "      <td>17.0</td>\n",
       "      <td>Buffalo Bills</td>\n",
       "      <td>PIT</td>\n",
       "      <td>-1.0</td>\n",
       "      <td>37</td>\n",
       "      <td>Heinz Field</td>\n",
       "      <td>False</td>\n",
       "      <td>27.5</td>\n",
       "      <td>3.0</td>\n",
       "      <td>NaN</td>\n",
       "      <td>NaN</td>\n",
       "      <td>0</td>\n",
       "    </tr>\n",
       "    <tr>\n",
       "      <td>2019-12-15</td>\n",
       "      <td>2019</td>\n",
       "      <td>15</td>\n",
       "      <td>False</td>\n",
       "      <td>San Francisco 49ers</td>\n",
       "      <td>22.0</td>\n",
       "      <td>29.0</td>\n",
       "      <td>Atlanta Falcons</td>\n",
       "      <td>SF</td>\n",
       "      <td>-11.0</td>\n",
       "      <td>48.5</td>\n",
       "      <td>Levi's Stadium</td>\n",
       "      <td>False</td>\n",
       "      <td>52.5</td>\n",
       "      <td>6.0</td>\n",
       "      <td>NaN</td>\n",
       "      <td>NaN</td>\n",
       "      <td>0</td>\n",
       "    </tr>\n",
       "    <tr>\n",
       "      <td>2019-12-15</td>\n",
       "      <td>2019</td>\n",
       "      <td>15</td>\n",
       "      <td>False</td>\n",
       "      <td>Tennessee Titans</td>\n",
       "      <td>21.0</td>\n",
       "      <td>24.0</td>\n",
       "      <td>Houston Texans</td>\n",
       "      <td>TEN</td>\n",
       "      <td>-3.0</td>\n",
       "      <td>51</td>\n",
       "      <td>Nissan Stadium</td>\n",
       "      <td>False</td>\n",
       "      <td>47.5</td>\n",
       "      <td>4.0</td>\n",
       "      <td>NaN</td>\n",
       "      <td>NaN</td>\n",
       "      <td>0</td>\n",
       "    </tr>\n",
       "    <tr>\n",
       "      <td>2019-12-15</td>\n",
       "      <td>2019</td>\n",
       "      <td>15</td>\n",
       "      <td>False</td>\n",
       "      <td>Washington Redskins</td>\n",
       "      <td>27.0</td>\n",
       "      <td>37.0</td>\n",
       "      <td>Philadelphia Eagles</td>\n",
       "      <td>PHI</td>\n",
       "      <td>-5.5</td>\n",
       "      <td>39</td>\n",
       "      <td>FedEx Field</td>\n",
       "      <td>False</td>\n",
       "      <td>47.5</td>\n",
       "      <td>11.0</td>\n",
       "      <td>NaN</td>\n",
       "      <td>NaN</td>\n",
       "      <td>0</td>\n",
       "    </tr>\n",
       "  </tbody>\n",
       "</table>\n",
       "</div>"
      ],
      "text/plain": [
       "               schedule_season schedule_week  schedule_playoff  \\\n",
       "schedule_date                                                    \n",
       "2019-12-15                2019            15             False   \n",
       "2019-12-15                2019            15             False   \n",
       "2019-12-15                2019            15             False   \n",
       "2019-12-15                2019            15             False   \n",
       "2019-12-15                2019            15             False   \n",
       "2019-12-15                2019            15             False   \n",
       "2019-12-15                2019            15             False   \n",
       "2019-12-15                2019            15             False   \n",
       "2019-12-15                2019            15             False   \n",
       "2019-12-15                2019            15             False   \n",
       "2019-12-15                2019            15             False   \n",
       "2019-12-15                2019            15             False   \n",
       "2019-12-15                2019            15             False   \n",
       "2019-12-15                2019            15             False   \n",
       "\n",
       "                          team_home  score_home  score_away  \\\n",
       "schedule_date                                                 \n",
       "2019-12-15        Arizona Cardinals        38.0        24.0   \n",
       "2019-12-15        Carolina Panthers        24.0        30.0   \n",
       "2019-12-15       Cincinnati Bengals        13.0        34.0   \n",
       "2019-12-15           Dallas Cowboys        44.0        21.0   \n",
       "2019-12-15            Detroit Lions        17.0        38.0   \n",
       "2019-12-15        Green Bay Packers        21.0        13.0   \n",
       "2019-12-15       Kansas City Chiefs        23.0         3.0   \n",
       "2019-12-15     Los Angeles Chargers        10.0        39.0   \n",
       "2019-12-15          New York Giants        36.0        20.0   \n",
       "2019-12-15          Oakland Raiders        16.0        20.0   \n",
       "2019-12-15      Pittsburgh Steelers        10.0        17.0   \n",
       "2019-12-15      San Francisco 49ers        22.0        29.0   \n",
       "2019-12-15         Tennessee Titans        21.0        24.0   \n",
       "2019-12-15      Washington Redskins        27.0        37.0   \n",
       "\n",
       "                          team_away team_favorite_id  spread_favorite  \\\n",
       "schedule_date                                                           \n",
       "2019-12-15         Cleveland Browns              CLE             -3.0   \n",
       "2019-12-15         Seattle Seahawks              SEA             -6.5   \n",
       "2019-12-15     New England Patriots               NE            -10.0   \n",
       "2019-12-15         Los Angeles Rams              LAR             -1.0   \n",
       "2019-12-15     Tampa Bay Buccaneers               TB             -4.5   \n",
       "2019-12-15            Chicago Bears               GB             -4.5   \n",
       "2019-12-15           Denver Broncos               KC            -10.0   \n",
       "2019-12-15        Minnesota Vikings              MIN             -1.5   \n",
       "2019-12-15           Miami Dolphins              NYG             -3.0   \n",
       "2019-12-15     Jacksonville Jaguars              OAK             -6.5   \n",
       "2019-12-15            Buffalo Bills              PIT             -1.0   \n",
       "2019-12-15          Atlanta Falcons               SF            -11.0   \n",
       "2019-12-15           Houston Texans              TEN             -3.0   \n",
       "2019-12-15      Philadelphia Eagles              PHI             -5.5   \n",
       "\n",
       "              over_under_line                        stadium  stadium_neutral  \\\n",
       "schedule_date                                                                   \n",
       "2019-12-15                 49  University of Phoenix Stadium            False   \n",
       "2019-12-15               48.5        Bank of America Stadium            False   \n",
       "2019-12-15               41.5             Paul Brown Stadium            False   \n",
       "2019-12-15               48.5                   AT&T Stadium            False   \n",
       "2019-12-15               45.5                     Ford Field            False   \n",
       "2019-12-15               40.5                  Lambeau Field            False   \n",
       "2019-12-15               45.5              Arrowhead Stadium            False   \n",
       "2019-12-15               45.5                 StubHub Center            False   \n",
       "2019-12-15               46.5                MetLife Stadium            False   \n",
       "2019-12-15               46.5               Oakland Coliseum            False   \n",
       "2019-12-15                 37                    Heinz Field            False   \n",
       "2019-12-15               48.5                 Levi's Stadium            False   \n",
       "2019-12-15                 51                 Nissan Stadium            False   \n",
       "2019-12-15                 39                    FedEx Field            False   \n",
       "\n",
       "              weather_temperature  weather_wind_mph weather_humidity  \\\n",
       "schedule_date                                                          \n",
       "2019-12-15                   72.5               0.0              NaN   \n",
       "2019-12-15                   47.5               5.0              NaN   \n",
       "2019-12-15                   32.5               4.0              NaN   \n",
       "2019-12-15                   72.5               7.0              NaN   \n",
       "2019-12-15                   72.5               0.0              NaN   \n",
       "2019-12-15                   12.5               7.0              NaN   \n",
       "2019-12-15                   27.5              11.0              NaN   \n",
       "2019-12-15                   62.5              11.0              NaN   \n",
       "2019-12-15                   42.5              15.0              NaN   \n",
       "2019-12-15                   52.5               5.0              NaN   \n",
       "2019-12-15                   27.5               3.0              NaN   \n",
       "2019-12-15                   52.5               6.0              NaN   \n",
       "2019-12-15                   47.5               4.0              NaN   \n",
       "2019-12-15                   47.5              11.0              NaN   \n",
       "\n",
       "              weather_detail  home_win  \n",
       "schedule_date                           \n",
       "2019-12-15              DOME         1  \n",
       "2019-12-15               NaN         1  \n",
       "2019-12-15               NaN         0  \n",
       "2019-12-15              DOME         1  \n",
       "2019-12-15              DOME         0  \n",
       "2019-12-15               NaN         1  \n",
       "2019-12-15               NaN         1  \n",
       "2019-12-15               NaN         0  \n",
       "2019-12-15               NaN         1  \n",
       "2019-12-15               NaN         0  \n",
       "2019-12-15               NaN         0  \n",
       "2019-12-15               NaN         0  \n",
       "2019-12-15               NaN         0  \n",
       "2019-12-15               NaN         0  "
      ]
     },
     "execution_count": 90,
     "metadata": {},
     "output_type": "execute_result"
    }
   ],
   "source": [
    "nfl_1.tail(14)"
   ]
  },
  {
   "cell_type": "code",
   "execution_count": null,
   "metadata": {},
   "outputs": [],
   "source": []
  },
  {
   "cell_type": "code",
   "execution_count": 69,
   "metadata": {},
   "outputs": [
    {
     "data": {
      "text/plain": [
       "0.2857142857142857"
      ]
     },
     "execution_count": 69,
     "metadata": {},
     "output_type": "execute_result"
    }
   ],
   "source": [
    "#accuarcy predictor day of\n",
    "pred_final = pred.tail(14)\n",
    "y = nfl_1['home_win']\n",
    "y_final = y.tail(14)\n",
    "y_final = pd.DataFrame(y_final)\n",
    "accuracy_score(pred_final, y_final)"
   ]
  },
  {
   "cell_type": "code",
   "execution_count": null,
   "metadata": {},
   "outputs": [],
   "source": []
  },
  {
   "cell_type": "code",
   "execution_count": null,
   "metadata": {},
   "outputs": [],
   "source": [
    "#TTS 3.0 final predictions\n",
    "pred_final"
   ]
  },
  {
   "cell_type": "code",
   "execution_count": null,
   "metadata": {},
   "outputs": [],
   "source": [
    "stop\n",
    "print('{:>8s} | {:8s}'.format('depth', 'accuracy'))\n",
    "print(20 * '-')\n",
    "for depth in range(90,110):\n",
    "    model = MLPClassifier(solver='lbfgs', alpha=1e-5,\n",
    "                     hidden_layer_sizes=8*[depth], random_state=10)\n",
    "    model.fit(train_data,train_y_data)\n",
    "    acc = accuracy_score(test_y_data, model.predict(test_data))\n",
    "    print('{:>8d} | {:8.2f}'.format(depth, acc))"
   ]
  },
  {
   "cell_type": "code",
   "execution_count": null,
   "metadata": {},
   "outputs": [],
   "source": []
  },
  {
   "cell_type": "code",
   "execution_count": null,
   "metadata": {},
   "outputs": [],
   "source": [
    "accuracy_score(pred,y)"
   ]
  },
  {
   "cell_type": "code",
   "execution_count": null,
   "metadata": {},
   "outputs": [],
   "source": [
    "#decision tree"
   ]
  },
  {
   "cell_type": "code",
   "execution_count": null,
   "metadata": {},
   "outputs": [],
   "source": [
    "from sklearn.tree import DecisionTreeClassifier"
   ]
  },
  {
   "cell_type": "code",
   "execution_count": null,
   "metadata": {},
   "outputs": [],
   "source": [
    "model = DecisionTreeClassifier(max_depth=28,random_state=50)"
   ]
  },
  {
   "cell_type": "code",
   "execution_count": null,
   "metadata": {},
   "outputs": [],
   "source": [
    "model.fit(train_data, train_y_data)"
   ]
  },
  {
   "cell_type": "code",
   "execution_count": null,
   "metadata": {},
   "outputs": [],
   "source": [
    "pred = model.predict(x)"
   ]
  },
  {
   "cell_type": "code",
   "execution_count": null,
   "metadata": {},
   "outputs": [],
   "source": [
    "pred = pd.DataFrame(pred)"
   ]
  },
  {
   "cell_type": "code",
   "execution_count": null,
   "metadata": {},
   "outputs": [],
   "source": [
    "#decision tree predictions\n",
    "pred.tail(14)"
   ]
  },
  {
   "cell_type": "code",
   "execution_count": null,
   "metadata": {},
   "outputs": [],
   "source": [
    "final_pred = pred.tail(11)\n",
    "y = nfl_1['home_win']\n",
    "y_final = y.tail(11)\n",
    "y_final = pd.DataFrame(y_final)"
   ]
  },
  {
   "cell_type": "code",
   "execution_count": null,
   "metadata": {},
   "outputs": [],
   "source": [
    "accuracy_score(final_pred,y_final)"
   ]
  },
  {
   "cell_type": "code",
   "execution_count": null,
   "metadata": {},
   "outputs": [],
   "source": [
    "stop\n",
    "print('{:>8s} | {:8s}'.format('depth', 'accuracy'))\n",
    "print(20 * '-')\n",
    "for depth in range(10,100,10):\n",
    "    model = DecisionTreeClassifier(max_depth=depth, random_state = 50)\n",
    "    model.fit(train_data,train_y_data)\n",
    "    acc = accuracy_score(test_y_data, model.predict(test_data))\n",
    "    print('{:>8d} | {:8.2f}'.format(depth, acc))"
   ]
  },
  {
   "cell_type": "code",
   "execution_count": null,
   "metadata": {},
   "outputs": [],
   "source": [
    "#scalar data"
   ]
  },
  {
   "cell_type": "code",
   "execution_count": null,
   "metadata": {},
   "outputs": [],
   "source": [
    "#from sklearn import preprocessing"
   ]
  },
  {
   "cell_type": "code",
   "execution_count": null,
   "metadata": {},
   "outputs": [],
   "source": [
    "#scaler = preprocessing.MinMaxScaler()"
   ]
  },
  {
   "cell_type": "code",
   "execution_count": null,
   "metadata": {},
   "outputs": [],
   "source": [
    "#train_data = scaler.fit_transform(train_data)"
   ]
  },
  {
   "cell_type": "code",
   "execution_count": null,
   "metadata": {},
   "outputs": [],
   "source": [
    "#train_data = pd.DataFrame(train_data)"
   ]
  },
  {
   "cell_type": "code",
   "execution_count": null,
   "metadata": {},
   "outputs": [],
   "source": [
    "#train_data"
   ]
  },
  {
   "cell_type": "code",
   "execution_count": null,
   "metadata": {},
   "outputs": [],
   "source": [
    "#pred"
   ]
  },
  {
   "cell_type": "code",
   "execution_count": null,
   "metadata": {},
   "outputs": [],
   "source": [
    "#pred[0].value_counts()"
   ]
  },
  {
   "cell_type": "code",
   "execution_count": null,
   "metadata": {},
   "outputs": [],
   "source": [
    "#SGDClassifier\n",
    "from sklearn.linear_model import SGDClassifier"
   ]
  },
  {
   "cell_type": "code",
   "execution_count": null,
   "metadata": {},
   "outputs": [],
   "source": [
    "model = SGDClassifier(loss=\"hinge\", penalty=\"l2\", max_iter=100, random_state=42)"
   ]
  },
  {
   "cell_type": "code",
   "execution_count": null,
   "metadata": {},
   "outputs": [],
   "source": [
    "model.fit(train_data, train_y_data)"
   ]
  },
  {
   "cell_type": "code",
   "execution_count": null,
   "metadata": {},
   "outputs": [],
   "source": [
    "pred = model.predict(x)"
   ]
  },
  {
   "cell_type": "code",
   "execution_count": null,
   "metadata": {},
   "outputs": [],
   "source": [
    "pred = pd.DataFrame(pred)"
   ]
  },
  {
   "cell_type": "code",
   "execution_count": null,
   "metadata": {},
   "outputs": [],
   "source": [
    "pred.tail(12)"
   ]
  },
  {
   "cell_type": "code",
   "execution_count": null,
   "metadata": {},
   "outputs": [],
   "source": [
    "final_pred = pred.tail(12)\n",
    "y = nfl_1['home_win']\n",
    "y_final = y.tail(12)\n",
    "y_final = pd.DataFrame(y_final)"
   ]
  },
  {
   "cell_type": "code",
   "execution_count": null,
   "metadata": {},
   "outputs": [],
   "source": [
    "stop\n",
    "print('{:>8s} | {:8s}'.format('depth', 'accuracy'))\n",
    "print(20 * '-')\n",
    "for depth in range(10,200,10):\n",
    "    model = SGDClassifier(loss=\"hinge\", penalty=\"l2\", max_iter=depth)\n",
    "    model.fit(train_data,train_y_data)\n",
    "    acc = accuracy_score(test_y_data, model.predict(test_data))\n",
    "    print('{:>8d} | {:8.2f}'.format(depth, acc))"
   ]
  },
  {
   "cell_type": "code",
   "execution_count": null,
   "metadata": {},
   "outputs": [],
   "source": [
    "accuracy_score(final_pred, y_final)"
   ]
  },
  {
   "cell_type": "code",
   "execution_count": 93,
   "metadata": {},
   "outputs": [],
   "source": [
    "#gradient boosting classifier"
   ]
  },
  {
   "cell_type": "code",
   "execution_count": 56,
   "metadata": {},
   "outputs": [],
   "source": [
    "from sklearn.ensemble import GradientBoostingClassifier"
   ]
  },
  {
   "cell_type": "code",
   "execution_count": 64,
   "metadata": {},
   "outputs": [],
   "source": [
    "model = GradientBoostingClassifier(n_estimators=100, learning_rate=0.3,\n",
    "        max_depth=1, random_state=0, loss='deviance')"
   ]
  },
  {
   "cell_type": "code",
   "execution_count": 65,
   "metadata": {},
   "outputs": [
    {
     "data": {
      "text/plain": [
       "GradientBoostingClassifier(criterion='friedman_mse', init=None,\n",
       "                           learning_rate=0.3, loss='deviance', max_depth=6,\n",
       "                           max_features=None, max_leaf_nodes=None,\n",
       "                           min_impurity_decrease=0.0, min_impurity_split=None,\n",
       "                           min_samples_leaf=1, min_samples_split=2,\n",
       "                           min_weight_fraction_leaf=0.0, n_estimators=100,\n",
       "                           n_iter_no_change=None, presort='auto',\n",
       "                           random_state=0, subsample=1.0, tol=0.0001,\n",
       "                           validation_fraction=0.1, verbose=0,\n",
       "                           warm_start=False)"
      ]
     },
     "execution_count": 65,
     "metadata": {},
     "output_type": "execute_result"
    }
   ],
   "source": [
    "model.fit(train_data, train_y_data)"
   ]
  },
  {
   "cell_type": "code",
   "execution_count": 66,
   "metadata": {},
   "outputs": [],
   "source": [
    "pred = model.predict(x)\n",
    "pred = pd.DataFrame(pred)"
   ]
  },
  {
   "cell_type": "code",
   "execution_count": 67,
   "metadata": {},
   "outputs": [
    {
     "data": {
      "text/html": [
       "<div>\n",
       "<style scoped>\n",
       "    .dataframe tbody tr th:only-of-type {\n",
       "        vertical-align: middle;\n",
       "    }\n",
       "\n",
       "    .dataframe tbody tr th {\n",
       "        vertical-align: top;\n",
       "    }\n",
       "\n",
       "    .dataframe thead th {\n",
       "        text-align: right;\n",
       "    }\n",
       "</style>\n",
       "<table border=\"1\" class=\"dataframe\">\n",
       "  <thead>\n",
       "    <tr style=\"text-align: right;\">\n",
       "      <th></th>\n",
       "      <th>0</th>\n",
       "    </tr>\n",
       "  </thead>\n",
       "  <tbody>\n",
       "    <tr>\n",
       "      <td>1544</td>\n",
       "      <td>0</td>\n",
       "    </tr>\n",
       "    <tr>\n",
       "      <td>1545</td>\n",
       "      <td>0</td>\n",
       "    </tr>\n",
       "    <tr>\n",
       "      <td>1546</td>\n",
       "      <td>1</td>\n",
       "    </tr>\n",
       "    <tr>\n",
       "      <td>1547</td>\n",
       "      <td>0</td>\n",
       "    </tr>\n",
       "    <tr>\n",
       "      <td>1548</td>\n",
       "      <td>0</td>\n",
       "    </tr>\n",
       "    <tr>\n",
       "      <td>1549</td>\n",
       "      <td>0</td>\n",
       "    </tr>\n",
       "    <tr>\n",
       "      <td>1550</td>\n",
       "      <td>0</td>\n",
       "    </tr>\n",
       "    <tr>\n",
       "      <td>1551</td>\n",
       "      <td>0</td>\n",
       "    </tr>\n",
       "    <tr>\n",
       "      <td>1552</td>\n",
       "      <td>0</td>\n",
       "    </tr>\n",
       "    <tr>\n",
       "      <td>1553</td>\n",
       "      <td>0</td>\n",
       "    </tr>\n",
       "    <tr>\n",
       "      <td>1554</td>\n",
       "      <td>0</td>\n",
       "    </tr>\n",
       "    <tr>\n",
       "      <td>1555</td>\n",
       "      <td>1</td>\n",
       "    </tr>\n",
       "    <tr>\n",
       "      <td>1556</td>\n",
       "      <td>1</td>\n",
       "    </tr>\n",
       "    <tr>\n",
       "      <td>1557</td>\n",
       "      <td>1</td>\n",
       "    </tr>\n",
       "  </tbody>\n",
       "</table>\n",
       "</div>"
      ],
      "text/plain": [
       "      0\n",
       "1544  0\n",
       "1545  0\n",
       "1546  1\n",
       "1547  0\n",
       "1548  0\n",
       "1549  0\n",
       "1550  0\n",
       "1551  0\n",
       "1552  0\n",
       "1553  0\n",
       "1554  0\n",
       "1555  1\n",
       "1556  1\n",
       "1557  1"
      ]
     },
     "execution_count": 67,
     "metadata": {},
     "output_type": "execute_result"
    }
   ],
   "source": [
    "pred.tail(14)"
   ]
  },
  {
   "cell_type": "code",
   "execution_count": 68,
   "metadata": {},
   "outputs": [
    {
     "data": {
      "text/plain": [
       "0.993581514762516"
      ]
     },
     "execution_count": 68,
     "metadata": {},
     "output_type": "execute_result"
    }
   ],
   "source": [
    "accuracy_score(pred,y)"
   ]
  },
  {
   "cell_type": "code",
   "execution_count": 62,
   "metadata": {},
   "outputs": [
    {
     "data": {
      "text/html": [
       "<div>\n",
       "<style scoped>\n",
       "    .dataframe tbody tr th:only-of-type {\n",
       "        vertical-align: middle;\n",
       "    }\n",
       "\n",
       "    .dataframe tbody tr th {\n",
       "        vertical-align: top;\n",
       "    }\n",
       "\n",
       "    .dataframe thead th {\n",
       "        text-align: right;\n",
       "    }\n",
       "</style>\n",
       "<table border=\"1\" class=\"dataframe\">\n",
       "  <thead>\n",
       "    <tr style=\"text-align: right;\">\n",
       "      <th></th>\n",
       "      <th>schedule_season</th>\n",
       "      <th>schedule_week</th>\n",
       "      <th>schedule_playoff</th>\n",
       "      <th>team_home</th>\n",
       "      <th>score_home</th>\n",
       "      <th>score_away</th>\n",
       "      <th>team_away</th>\n",
       "      <th>team_favorite_id</th>\n",
       "      <th>spread_favorite</th>\n",
       "      <th>over_under_line</th>\n",
       "      <th>stadium</th>\n",
       "      <th>stadium_neutral</th>\n",
       "      <th>weather_temperature</th>\n",
       "      <th>weather_wind_mph</th>\n",
       "      <th>weather_humidity</th>\n",
       "      <th>weather_detail</th>\n",
       "      <th>home_win</th>\n",
       "    </tr>\n",
       "    <tr>\n",
       "      <th>schedule_date</th>\n",
       "      <th></th>\n",
       "      <th></th>\n",
       "      <th></th>\n",
       "      <th></th>\n",
       "      <th></th>\n",
       "      <th></th>\n",
       "      <th></th>\n",
       "      <th></th>\n",
       "      <th></th>\n",
       "      <th></th>\n",
       "      <th></th>\n",
       "      <th></th>\n",
       "      <th></th>\n",
       "      <th></th>\n",
       "      <th></th>\n",
       "      <th></th>\n",
       "      <th></th>\n",
       "    </tr>\n",
       "  </thead>\n",
       "  <tbody>\n",
       "    <tr>\n",
       "      <td>2019-12-15</td>\n",
       "      <td>2019</td>\n",
       "      <td>15</td>\n",
       "      <td>False</td>\n",
       "      <td>Arizona Cardinals</td>\n",
       "      <td>38.0</td>\n",
       "      <td>24.0</td>\n",
       "      <td>Cleveland Browns</td>\n",
       "      <td>CLE</td>\n",
       "      <td>-3.0</td>\n",
       "      <td>49</td>\n",
       "      <td>University of Phoenix Stadium</td>\n",
       "      <td>False</td>\n",
       "      <td>72.5</td>\n",
       "      <td>0.0</td>\n",
       "      <td>NaN</td>\n",
       "      <td>DOME</td>\n",
       "      <td>1</td>\n",
       "    </tr>\n",
       "    <tr>\n",
       "      <td>2019-12-15</td>\n",
       "      <td>2019</td>\n",
       "      <td>15</td>\n",
       "      <td>False</td>\n",
       "      <td>Carolina Panthers</td>\n",
       "      <td>24.0</td>\n",
       "      <td>30.0</td>\n",
       "      <td>Seattle Seahawks</td>\n",
       "      <td>SEA</td>\n",
       "      <td>-6.5</td>\n",
       "      <td>48.5</td>\n",
       "      <td>Bank of America Stadium</td>\n",
       "      <td>False</td>\n",
       "      <td>47.5</td>\n",
       "      <td>5.0</td>\n",
       "      <td>NaN</td>\n",
       "      <td>NaN</td>\n",
       "      <td>1</td>\n",
       "    </tr>\n",
       "    <tr>\n",
       "      <td>2019-12-15</td>\n",
       "      <td>2019</td>\n",
       "      <td>15</td>\n",
       "      <td>False</td>\n",
       "      <td>Cincinnati Bengals</td>\n",
       "      <td>13.0</td>\n",
       "      <td>34.0</td>\n",
       "      <td>New England Patriots</td>\n",
       "      <td>NE</td>\n",
       "      <td>-10.0</td>\n",
       "      <td>41.5</td>\n",
       "      <td>Paul Brown Stadium</td>\n",
       "      <td>False</td>\n",
       "      <td>32.5</td>\n",
       "      <td>4.0</td>\n",
       "      <td>NaN</td>\n",
       "      <td>NaN</td>\n",
       "      <td>0</td>\n",
       "    </tr>\n",
       "    <tr>\n",
       "      <td>2019-12-15</td>\n",
       "      <td>2019</td>\n",
       "      <td>15</td>\n",
       "      <td>False</td>\n",
       "      <td>Dallas Cowboys</td>\n",
       "      <td>44.0</td>\n",
       "      <td>21.0</td>\n",
       "      <td>Los Angeles Rams</td>\n",
       "      <td>LAR</td>\n",
       "      <td>-1.0</td>\n",
       "      <td>48.5</td>\n",
       "      <td>AT&amp;T Stadium</td>\n",
       "      <td>False</td>\n",
       "      <td>72.5</td>\n",
       "      <td>7.0</td>\n",
       "      <td>NaN</td>\n",
       "      <td>DOME</td>\n",
       "      <td>1</td>\n",
       "    </tr>\n",
       "    <tr>\n",
       "      <td>2019-12-15</td>\n",
       "      <td>2019</td>\n",
       "      <td>15</td>\n",
       "      <td>False</td>\n",
       "      <td>Detroit Lions</td>\n",
       "      <td>17.0</td>\n",
       "      <td>38.0</td>\n",
       "      <td>Tampa Bay Buccaneers</td>\n",
       "      <td>TB</td>\n",
       "      <td>-4.5</td>\n",
       "      <td>45.5</td>\n",
       "      <td>Ford Field</td>\n",
       "      <td>False</td>\n",
       "      <td>72.5</td>\n",
       "      <td>0.0</td>\n",
       "      <td>NaN</td>\n",
       "      <td>DOME</td>\n",
       "      <td>0</td>\n",
       "    </tr>\n",
       "    <tr>\n",
       "      <td>2019-12-15</td>\n",
       "      <td>2019</td>\n",
       "      <td>15</td>\n",
       "      <td>False</td>\n",
       "      <td>Green Bay Packers</td>\n",
       "      <td>21.0</td>\n",
       "      <td>13.0</td>\n",
       "      <td>Chicago Bears</td>\n",
       "      <td>GB</td>\n",
       "      <td>-4.5</td>\n",
       "      <td>40.5</td>\n",
       "      <td>Lambeau Field</td>\n",
       "      <td>False</td>\n",
       "      <td>12.5</td>\n",
       "      <td>7.0</td>\n",
       "      <td>NaN</td>\n",
       "      <td>NaN</td>\n",
       "      <td>1</td>\n",
       "    </tr>\n",
       "    <tr>\n",
       "      <td>2019-12-15</td>\n",
       "      <td>2019</td>\n",
       "      <td>15</td>\n",
       "      <td>False</td>\n",
       "      <td>Kansas City Chiefs</td>\n",
       "      <td>23.0</td>\n",
       "      <td>3.0</td>\n",
       "      <td>Denver Broncos</td>\n",
       "      <td>KC</td>\n",
       "      <td>-10.0</td>\n",
       "      <td>45.5</td>\n",
       "      <td>Arrowhead Stadium</td>\n",
       "      <td>False</td>\n",
       "      <td>27.5</td>\n",
       "      <td>11.0</td>\n",
       "      <td>NaN</td>\n",
       "      <td>NaN</td>\n",
       "      <td>1</td>\n",
       "    </tr>\n",
       "    <tr>\n",
       "      <td>2019-12-15</td>\n",
       "      <td>2019</td>\n",
       "      <td>15</td>\n",
       "      <td>False</td>\n",
       "      <td>Los Angeles Chargers</td>\n",
       "      <td>10.0</td>\n",
       "      <td>39.0</td>\n",
       "      <td>Minnesota Vikings</td>\n",
       "      <td>MIN</td>\n",
       "      <td>-1.5</td>\n",
       "      <td>45.5</td>\n",
       "      <td>StubHub Center</td>\n",
       "      <td>False</td>\n",
       "      <td>62.5</td>\n",
       "      <td>11.0</td>\n",
       "      <td>NaN</td>\n",
       "      <td>NaN</td>\n",
       "      <td>0</td>\n",
       "    </tr>\n",
       "    <tr>\n",
       "      <td>2019-12-15</td>\n",
       "      <td>2019</td>\n",
       "      <td>15</td>\n",
       "      <td>False</td>\n",
       "      <td>New York Giants</td>\n",
       "      <td>36.0</td>\n",
       "      <td>20.0</td>\n",
       "      <td>Miami Dolphins</td>\n",
       "      <td>NYG</td>\n",
       "      <td>-3.0</td>\n",
       "      <td>46.5</td>\n",
       "      <td>MetLife Stadium</td>\n",
       "      <td>False</td>\n",
       "      <td>42.5</td>\n",
       "      <td>15.0</td>\n",
       "      <td>NaN</td>\n",
       "      <td>NaN</td>\n",
       "      <td>1</td>\n",
       "    </tr>\n",
       "    <tr>\n",
       "      <td>2019-12-15</td>\n",
       "      <td>2019</td>\n",
       "      <td>15</td>\n",
       "      <td>False</td>\n",
       "      <td>Oakland Raiders</td>\n",
       "      <td>16.0</td>\n",
       "      <td>20.0</td>\n",
       "      <td>Jacksonville Jaguars</td>\n",
       "      <td>OAK</td>\n",
       "      <td>-6.5</td>\n",
       "      <td>46.5</td>\n",
       "      <td>Oakland Coliseum</td>\n",
       "      <td>False</td>\n",
       "      <td>52.5</td>\n",
       "      <td>5.0</td>\n",
       "      <td>NaN</td>\n",
       "      <td>NaN</td>\n",
       "      <td>0</td>\n",
       "    </tr>\n",
       "    <tr>\n",
       "      <td>2019-12-15</td>\n",
       "      <td>2019</td>\n",
       "      <td>15</td>\n",
       "      <td>False</td>\n",
       "      <td>Pittsburgh Steelers</td>\n",
       "      <td>10.0</td>\n",
       "      <td>17.0</td>\n",
       "      <td>Buffalo Bills</td>\n",
       "      <td>PIT</td>\n",
       "      <td>-1.0</td>\n",
       "      <td>37</td>\n",
       "      <td>Heinz Field</td>\n",
       "      <td>False</td>\n",
       "      <td>27.5</td>\n",
       "      <td>3.0</td>\n",
       "      <td>NaN</td>\n",
       "      <td>NaN</td>\n",
       "      <td>0</td>\n",
       "    </tr>\n",
       "    <tr>\n",
       "      <td>2019-12-15</td>\n",
       "      <td>2019</td>\n",
       "      <td>15</td>\n",
       "      <td>False</td>\n",
       "      <td>San Francisco 49ers</td>\n",
       "      <td>22.0</td>\n",
       "      <td>29.0</td>\n",
       "      <td>Atlanta Falcons</td>\n",
       "      <td>SF</td>\n",
       "      <td>-11.0</td>\n",
       "      <td>48.5</td>\n",
       "      <td>Levi's Stadium</td>\n",
       "      <td>False</td>\n",
       "      <td>52.5</td>\n",
       "      <td>6.0</td>\n",
       "      <td>NaN</td>\n",
       "      <td>NaN</td>\n",
       "      <td>0</td>\n",
       "    </tr>\n",
       "    <tr>\n",
       "      <td>2019-12-15</td>\n",
       "      <td>2019</td>\n",
       "      <td>15</td>\n",
       "      <td>False</td>\n",
       "      <td>Tennessee Titans</td>\n",
       "      <td>21.0</td>\n",
       "      <td>24.0</td>\n",
       "      <td>Houston Texans</td>\n",
       "      <td>TEN</td>\n",
       "      <td>-3.0</td>\n",
       "      <td>51</td>\n",
       "      <td>Nissan Stadium</td>\n",
       "      <td>False</td>\n",
       "      <td>47.5</td>\n",
       "      <td>4.0</td>\n",
       "      <td>NaN</td>\n",
       "      <td>NaN</td>\n",
       "      <td>0</td>\n",
       "    </tr>\n",
       "    <tr>\n",
       "      <td>2019-12-15</td>\n",
       "      <td>2019</td>\n",
       "      <td>15</td>\n",
       "      <td>False</td>\n",
       "      <td>Washington Redskins</td>\n",
       "      <td>27.0</td>\n",
       "      <td>37.0</td>\n",
       "      <td>Philadelphia Eagles</td>\n",
       "      <td>PHI</td>\n",
       "      <td>-5.5</td>\n",
       "      <td>39</td>\n",
       "      <td>FedEx Field</td>\n",
       "      <td>False</td>\n",
       "      <td>47.5</td>\n",
       "      <td>11.0</td>\n",
       "      <td>NaN</td>\n",
       "      <td>NaN</td>\n",
       "      <td>0</td>\n",
       "    </tr>\n",
       "  </tbody>\n",
       "</table>\n",
       "</div>"
      ],
      "text/plain": [
       "               schedule_season schedule_week  schedule_playoff  \\\n",
       "schedule_date                                                    \n",
       "2019-12-15                2019            15             False   \n",
       "2019-12-15                2019            15             False   \n",
       "2019-12-15                2019            15             False   \n",
       "2019-12-15                2019            15             False   \n",
       "2019-12-15                2019            15             False   \n",
       "2019-12-15                2019            15             False   \n",
       "2019-12-15                2019            15             False   \n",
       "2019-12-15                2019            15             False   \n",
       "2019-12-15                2019            15             False   \n",
       "2019-12-15                2019            15             False   \n",
       "2019-12-15                2019            15             False   \n",
       "2019-12-15                2019            15             False   \n",
       "2019-12-15                2019            15             False   \n",
       "2019-12-15                2019            15             False   \n",
       "\n",
       "                          team_home  score_home  score_away  \\\n",
       "schedule_date                                                 \n",
       "2019-12-15        Arizona Cardinals        38.0        24.0   \n",
       "2019-12-15        Carolina Panthers        24.0        30.0   \n",
       "2019-12-15       Cincinnati Bengals        13.0        34.0   \n",
       "2019-12-15           Dallas Cowboys        44.0        21.0   \n",
       "2019-12-15            Detroit Lions        17.0        38.0   \n",
       "2019-12-15        Green Bay Packers        21.0        13.0   \n",
       "2019-12-15       Kansas City Chiefs        23.0         3.0   \n",
       "2019-12-15     Los Angeles Chargers        10.0        39.0   \n",
       "2019-12-15          New York Giants        36.0        20.0   \n",
       "2019-12-15          Oakland Raiders        16.0        20.0   \n",
       "2019-12-15      Pittsburgh Steelers        10.0        17.0   \n",
       "2019-12-15      San Francisco 49ers        22.0        29.0   \n",
       "2019-12-15         Tennessee Titans        21.0        24.0   \n",
       "2019-12-15      Washington Redskins        27.0        37.0   \n",
       "\n",
       "                          team_away team_favorite_id  spread_favorite  \\\n",
       "schedule_date                                                           \n",
       "2019-12-15         Cleveland Browns              CLE             -3.0   \n",
       "2019-12-15         Seattle Seahawks              SEA             -6.5   \n",
       "2019-12-15     New England Patriots               NE            -10.0   \n",
       "2019-12-15         Los Angeles Rams              LAR             -1.0   \n",
       "2019-12-15     Tampa Bay Buccaneers               TB             -4.5   \n",
       "2019-12-15            Chicago Bears               GB             -4.5   \n",
       "2019-12-15           Denver Broncos               KC            -10.0   \n",
       "2019-12-15        Minnesota Vikings              MIN             -1.5   \n",
       "2019-12-15           Miami Dolphins              NYG             -3.0   \n",
       "2019-12-15     Jacksonville Jaguars              OAK             -6.5   \n",
       "2019-12-15            Buffalo Bills              PIT             -1.0   \n",
       "2019-12-15          Atlanta Falcons               SF            -11.0   \n",
       "2019-12-15           Houston Texans              TEN             -3.0   \n",
       "2019-12-15      Philadelphia Eagles              PHI             -5.5   \n",
       "\n",
       "              over_under_line                        stadium  stadium_neutral  \\\n",
       "schedule_date                                                                   \n",
       "2019-12-15                 49  University of Phoenix Stadium            False   \n",
       "2019-12-15               48.5        Bank of America Stadium            False   \n",
       "2019-12-15               41.5             Paul Brown Stadium            False   \n",
       "2019-12-15               48.5                   AT&T Stadium            False   \n",
       "2019-12-15               45.5                     Ford Field            False   \n",
       "2019-12-15               40.5                  Lambeau Field            False   \n",
       "2019-12-15               45.5              Arrowhead Stadium            False   \n",
       "2019-12-15               45.5                 StubHub Center            False   \n",
       "2019-12-15               46.5                MetLife Stadium            False   \n",
       "2019-12-15               46.5               Oakland Coliseum            False   \n",
       "2019-12-15                 37                    Heinz Field            False   \n",
       "2019-12-15               48.5                 Levi's Stadium            False   \n",
       "2019-12-15                 51                 Nissan Stadium            False   \n",
       "2019-12-15                 39                    FedEx Field            False   \n",
       "\n",
       "              weather_temperature  weather_wind_mph weather_humidity  \\\n",
       "schedule_date                                                          \n",
       "2019-12-15                   72.5               0.0              NaN   \n",
       "2019-12-15                   47.5               5.0              NaN   \n",
       "2019-12-15                   32.5               4.0              NaN   \n",
       "2019-12-15                   72.5               7.0              NaN   \n",
       "2019-12-15                   72.5               0.0              NaN   \n",
       "2019-12-15                   12.5               7.0              NaN   \n",
       "2019-12-15                   27.5              11.0              NaN   \n",
       "2019-12-15                   62.5              11.0              NaN   \n",
       "2019-12-15                   42.5              15.0              NaN   \n",
       "2019-12-15                   52.5               5.0              NaN   \n",
       "2019-12-15                   27.5               3.0              NaN   \n",
       "2019-12-15                   52.5               6.0              NaN   \n",
       "2019-12-15                   47.5               4.0              NaN   \n",
       "2019-12-15                   47.5              11.0              NaN   \n",
       "\n",
       "              weather_detail  home_win  \n",
       "schedule_date                           \n",
       "2019-12-15              DOME         1  \n",
       "2019-12-15               NaN         1  \n",
       "2019-12-15               NaN         0  \n",
       "2019-12-15              DOME         1  \n",
       "2019-12-15              DOME         0  \n",
       "2019-12-15               NaN         1  \n",
       "2019-12-15               NaN         1  \n",
       "2019-12-15               NaN         0  \n",
       "2019-12-15               NaN         1  \n",
       "2019-12-15               NaN         0  \n",
       "2019-12-15               NaN         0  \n",
       "2019-12-15               NaN         0  \n",
       "2019-12-15               NaN         0  \n",
       "2019-12-15               NaN         0  "
      ]
     },
     "execution_count": 62,
     "metadata": {},
     "output_type": "execute_result"
    }
   ],
   "source": [
    "nfl_1.tail(14)"
   ]
  },
  {
   "cell_type": "code",
   "execution_count": 32,
   "metadata": {},
   "outputs": [],
   "source": [
    "#random forest"
   ]
  },
  {
   "cell_type": "code",
   "execution_count": null,
   "metadata": {},
   "outputs": [],
   "source": [
    "from sklearn.ensemble import RandomForestClassifier\n",
    "from sklearn.datasets import make_classification"
   ]
  },
  {
   "cell_type": "code",
   "execution_count": null,
   "metadata": {},
   "outputs": [],
   "source": [
    "model = RandomForestClassifier(n_estimators=100, max_depth=1,\n",
    "                               random_state=0)"
   ]
  },
  {
   "cell_type": "code",
   "execution_count": null,
   "metadata": {},
   "outputs": [],
   "source": [
    "model.fit(train_data, train_y_data)"
   ]
  },
  {
   "cell_type": "code",
   "execution_count": null,
   "metadata": {},
   "outputs": [],
   "source": [
    "pred = model.predict(x)\n",
    "pred = pd.DataFrame(pred)"
   ]
  },
  {
   "cell_type": "code",
   "execution_count": null,
   "metadata": {},
   "outputs": [],
   "source": [
    "accuracy_score(pred,y)"
   ]
  },
  {
   "cell_type": "code",
   "execution_count": null,
   "metadata": {},
   "outputs": [],
   "source": [
    "stop\n",
    "print('{:>8s} | {:8s}'.format('depth', 'accuracy'))\n",
    "print(20 * '-')\n",
    "for depth in range(1,15):\n",
    "    model = RandomForestClassifier(n_estimators=100, max_depth=depth,\n",
    "                               random_state=0)\n",
    "    model.fit(train_data,train_y_data)\n",
    "    acc = accuracy_score(test_y_data, model.predict(test_data))\n",
    "    print('{:>8d} | {:8.2f}'.format(depth, acc))"
   ]
  },
  {
   "cell_type": "code",
   "execution_count": null,
   "metadata": {},
   "outputs": [],
   "source": [
    "pred.tail(14)"
   ]
  },
  {
   "cell_type": "code",
   "execution_count": null,
   "metadata": {},
   "outputs": [],
   "source": [
    "nfl_1['home_win'].value_counts()"
   ]
  },
  {
   "cell_type": "code",
   "execution_count": null,
   "metadata": {},
   "outputs": [],
   "source": [
    "x.tail(12)"
   ]
  },
  {
   "cell_type": "code",
   "execution_count": null,
   "metadata": {},
   "outputs": [],
   "source": [
    "undecided_2.tail(14)"
   ]
  },
  {
   "cell_type": "code",
   "execution_count": null,
   "metadata": {},
   "outputs": [],
   "source": [
    "#accuracy tests"
   ]
  },
  {
   "cell_type": "code",
   "execution_count": null,
   "metadata": {},
   "outputs": [],
   "source": [
    "from sklearn.metrics import precision_score, recall_score"
   ]
  },
  {
   "cell_type": "code",
   "execution_count": null,
   "metadata": {},
   "outputs": [],
   "source": [
    "precision_score(pred, y)"
   ]
  },
  {
   "cell_type": "code",
   "execution_count": null,
   "metadata": {},
   "outputs": [],
   "source": [
    "recall_score(pred,y)"
   ]
  },
  {
   "cell_type": "code",
   "execution_count": null,
   "metadata": {},
   "outputs": [],
   "source": [
    "from sklearn.metrics import confusion_matrix"
   ]
  },
  {
   "cell_type": "code",
   "execution_count": null,
   "metadata": {},
   "outputs": [],
   "source": [
    "confusion_matrix(pred,y)"
   ]
  },
  {
   "cell_type": "code",
   "execution_count": null,
   "metadata": {},
   "outputs": [],
   "source": [
    "from sklearn.model_selection import cross_val_predict\n",
    "y_scores = cross_val_predict(model, train_data, train_y_data, cv=3,\n",
    "                            method='decision_function')"
   ]
  },
  {
   "cell_type": "code",
   "execution_count": null,
   "metadata": {},
   "outputs": [],
   "source": [
    "from sklearn.metrics import roc_curve\n",
    "fpr, tpr, threshold = roc_curve(pred, y)\n",
    "def plot_roc_curve(fpr, tpr, label=None):\n",
    "    plt.plot(fpr, tpr, linewidth=2, label=label)\n",
    "    plt.plot([0,1], [0,1], 'k--')\n",
    "    plt.axis([0,1,0,1])\n",
    "    plt.xlabel('flase positive rate')\n",
    "    plt.ylabel('tru positive rate')"
   ]
  },
  {
   "cell_type": "code",
   "execution_count": null,
   "metadata": {},
   "outputs": [],
   "source": [
    "plot_roc_curve(fpr, tpr)\n",
    "plt.show()"
   ]
  },
  {
   "cell_type": "code",
   "execution_count": null,
   "metadata": {},
   "outputs": [],
   "source": [
    "from sklearn.metrics import roc_auc_score"
   ]
  },
  {
   "cell_type": "code",
   "execution_count": null,
   "metadata": {},
   "outputs": [],
   "source": [
    "roc_auc_score(y,pred)"
   ]
  },
  {
   "cell_type": "code",
   "execution_count": null,
   "metadata": {},
   "outputs": [],
   "source": [
    "DNN = (MLPClassifier(solver='lbfgs', alpha=1e-5,\n",
    "                     hidden_layer_sizes=8*[94], random_state=10))\n",
    "DT = (DecisionTreeClassifier(max_depth=28,random_state=50))\n",
    "SGD = (SGDClassifier(loss=\"hinge\", penalty=\"l2\", max_iter=100, random_state=42))\n",
    "GBC = (GradientBoostingClassifier(n_estimators=100, learning_rate=.3,\n",
    "        max_depth=6, random_state=0, loss='deviance'))\n",
    "RF = (RandomForestClassifier(n_estimators=100, max_depth=1,\n",
    "                               random_state=0))"
   ]
  },
  {
   "cell_type": "code",
   "execution_count": null,
   "metadata": {},
   "outputs": [],
   "source": [
    "models=(DNN,DT,SGD,GBC,RF)\n",
    "names = ('1','2','3','4','5')"
   ]
  },
  {
   "cell_type": "code",
   "execution_count": null,
   "metadata": {},
   "outputs": [],
   "source": [
    "print('{:>8s} | {:8s}'.format('strategy', 'accuracy'))\n",
    "print(20 * '-')\n",
    "for mod in models:\n",
    "    mod.fit(train_data, train_y_data)\n",
    "    pred = mod.predict(x)\n",
    "    pred = pd.DataFrame(pred)\n",
    "    pred_final = pred.tail(12)\n",
    "    y = nfl_1['home_win']\n",
    "    y_final = y.tail(12)\n",
    "    y_final = pd.DataFrame(y_final)\n",
    "    acc = accuracy_score(pred_final, y_final)\n",
    "    print(f\"'model' | {acc}\")"
   ]
  },
  {
   "cell_type": "code",
   "execution_count": null,
   "metadata": {},
   "outputs": [],
   "source": []
  },
  {
   "cell_type": "code",
   "execution_count": null,
   "metadata": {},
   "outputs": [],
   "source": []
  },
  {
   "cell_type": "code",
   "execution_count": 82,
   "metadata": {},
   "outputs": [
    {
     "name": "stdout",
     "output_type": "stream",
     "text": [
      "   depth | accuracy\n",
      "--------------------\n",
      "       0 |     0.57\n"
     ]
    }
   ],
   "source": [
    "\n",
    "print('{:>8s} | {:8s}'.format('depth', 'accuracy'))\n",
    "print(20 * '-')\n",
    "for depth in range(1):\n",
    "    model = GradientBoostingClassifier(n_estimators=100, learning_rate=0.3,\n",
    "        max_depth=1, random_state=0, loss='deviance')\n",
    "    model.fit(train_data,train_y_data)\n",
    "    pred = model.predict(x)\n",
    "    pred = pd.DataFrame(pred)\n",
    "    pred_final = pred.tail(14)\n",
    "    y = nfl_1['home_win']\n",
    "    y_final = y.tail(14)\n",
    "    y_final = pd.DataFrame(y_final)\n",
    "    acc = accuracy_score(pred_final, y_final)\n",
    "    print('{:>8d} | {:8.2f}'.format(depth, acc))"
   ]
  },
  {
   "cell_type": "code",
   "execution_count": null,
   "metadata": {},
   "outputs": [],
   "source": []
  }
 ],
 "metadata": {
  "kernelspec": {
   "display_name": "Python 3",
   "language": "python",
   "name": "python3"
  },
  "language_info": {
   "codemirror_mode": {
    "name": "ipython",
    "version": 3
   },
   "file_extension": ".py",
   "mimetype": "text/x-python",
   "name": "python",
   "nbconvert_exporter": "python",
   "pygments_lexer": "ipython3",
   "version": "3.7.4"
  }
 },
 "nbformat": 4,
 "nbformat_minor": 2
}
