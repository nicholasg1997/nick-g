{
 "cells": [
  {
   "cell_type": "code",
   "execution_count": 11,
   "metadata": {},
   "outputs": [],
   "source": [
    "from __future__ import absolute_import, division, print_function, unicode_literals\n",
    "import tensorflow as tf\n",
    "#tf.enable_eager_execution()\n",
    "import pandas as pd\n",
    "import numpy as np\n",
    "from sklearn.metrics import accuracy_score\n",
    "import matplotlib.pyplot as plt"
   ]
  },
  {
   "cell_type": "code",
   "execution_count": 12,
   "metadata": {},
   "outputs": [],
   "source": [
    "nfl = pd.read_csv('data/nfl_scores.csv')"
   ]
  },
  {
   "cell_type": "code",
   "execution_count": 13,
   "metadata": {},
   "outputs": [],
   "source": [
    "nfl['schedule_date'] = pd.to_datetime(nfl['schedule_date'])"
   ]
  },
  {
   "cell_type": "code",
   "execution_count": 14,
   "metadata": {},
   "outputs": [],
   "source": [
    "nfl.index = nfl['schedule_date']"
   ]
  },
  {
   "cell_type": "code",
   "execution_count": 15,
   "metadata": {},
   "outputs": [],
   "source": [
    "nfl = nfl.drop(columns='schedule_date')"
   ]
  },
  {
   "cell_type": "code",
   "execution_count": 16,
   "metadata": {},
   "outputs": [],
   "source": [
    "nfl_1 = nfl['2014-09-04':'2019-12-09']"
   ]
  },
  {
   "cell_type": "code",
   "execution_count": 17,
   "metadata": {},
   "outputs": [
    {
     "name": "stderr",
     "output_type": "stream",
     "text": [
      "C:\\Users\\nickg\\Miniconda3\\lib\\site-packages\\ipykernel_launcher.py:6: SettingWithCopyWarning: \n",
      "A value is trying to be set on a copy of a slice from a DataFrame.\n",
      "Try using .loc[row_indexer,col_indexer] = value instead\n",
      "\n",
      "See the caveats in the documentation: http://pandas.pydata.org/pandas-docs/stable/user_guide/indexing.html#returning-a-view-versus-a-copy\n",
      "  \n"
     ]
    }
   ],
   "source": [
    "#normalize weather temp\n",
    "nfl_1['weather_temperature'].max()\n",
    "nfl_1['weather_temperature'] = pd.cut(nfl_1['weather_temperature'],\n",
    "                                     bins = [-10,-5,0,5,10,15,20,25,30,35,40,45,50,55,60,65,70,75,80,85,90,95,100,np.inf],\n",
    "                                     labels = [-7.5,-2.5,2.5,7.5,12.5,17.5,22.5,27.5,32.5,37.5,42.5,\n",
    "                                               47.5,52.5,57.5,62.5,67.5,72.5,77.5,82.5,87.5,92.5,97.5,102.5])"
   ]
  },
  {
   "cell_type": "code",
   "execution_count": null,
   "metadata": {},
   "outputs": [],
   "source": []
  },
  {
   "cell_type": "code",
   "execution_count": null,
   "metadata": {},
   "outputs": [],
   "source": []
  },
  {
   "cell_type": "code",
   "execution_count": 18,
   "metadata": {},
   "outputs": [
    {
     "name": "stderr",
     "output_type": "stream",
     "text": [
      "C:\\Users\\nickg\\Miniconda3\\lib\\site-packages\\ipykernel_launcher.py:1: SettingWithCopyWarning: \n",
      "A value is trying to be set on a copy of a slice from a DataFrame.\n",
      "Try using .loc[row_indexer,col_indexer] = value instead\n",
      "\n",
      "See the caveats in the documentation: http://pandas.pydata.org/pandas-docs/stable/user_guide/indexing.html#returning-a-view-versus-a-copy\n",
      "  \"\"\"Entry point for launching an IPython kernel.\n"
     ]
    }
   ],
   "source": [
    "nfl_1['home_win'] = nfl_1['score_home'] > nfl_1['score_away']\n",
    "    "
   ]
  },
  {
   "cell_type": "code",
   "execution_count": 19,
   "metadata": {},
   "outputs": [],
   "source": [
    "nfl_1.home_win = nfl_1.home_win.astype(int)"
   ]
  },
  {
   "cell_type": "code",
   "execution_count": null,
   "metadata": {},
   "outputs": [],
   "source": []
  },
  {
   "cell_type": "markdown",
   "metadata": {},
   "source": []
  },
  {
   "cell_type": "code",
   "execution_count": 20,
   "metadata": {},
   "outputs": [],
   "source": [
    "undecided = nfl_1"
   ]
  },
  {
   "cell_type": "code",
   "execution_count": null,
   "metadata": {},
   "outputs": [],
   "source": []
  },
  {
   "cell_type": "code",
   "execution_count": 21,
   "metadata": {},
   "outputs": [],
   "source": [
    "undecided_2 = undecided"
   ]
  },
  {
   "cell_type": "code",
   "execution_count": 22,
   "metadata": {},
   "outputs": [],
   "source": [
    "undecided_2 = undecided_2.replace(['Arizona Cardinals', \n",
    "                                  'Atlanta Falcons',\n",
    "                                  'Baltimore Ravens',\n",
    "                                   'Buffalo Bills',\n",
    "                                   'Carolina Panthers',\n",
    "                                   'Chicago Bears',\n",
    "                                   'Cincinnati Bengals',\n",
    "                                   'Cleveland Browns',\n",
    "                                   'Dallas Cowboys',\n",
    "                                   'Denver Broncos',\n",
    "                                   'Detroit Lions',\n",
    "                                   'Green Bay Packers',\n",
    "                                   'Houston Texans',\n",
    "                                   'Indianapolis Colts',\n",
    "                                   'Jacksonville Jaguars',\n",
    "                                   'Kansas City Chiefs',\n",
    "                                   'Los Angeles Chargers',\n",
    "                                   'Los Angeles Rams',\n",
    "                                   'Miami Dolphins',\n",
    "                                   'Minnesota Vikings',\n",
    "                                   'New Orleans Saints',\n",
    "                                   'New York Giants',\n",
    "                                   'New York Jets',\n",
    "                                   'Oakland Raiders',\n",
    "                                   'Philadelphia Eagles',\n",
    "                                   'Pittsburgh Steelers',\n",
    "                                   'San Francisco 49ers',\n",
    "                                   'Seattle Seahawks',\n",
    "                                   'Tampa Bay Buccaneers',\n",
    "                                   'Tennessee Titans',\n",
    "                                   'Washington Redskins',\n",
    "                                  'St. Louis Rams',\n",
    "                                  'San Diego Chargers',\n",
    "                                  'New England Patriots',\n",
    "                                  'Division',\n",
    "                                  'Conference',\n",
    "                                  'SuperBowl',\n",
    "                                   'Superbowl',\n",
    "                                  'WildCard'],\n",
    "                                  [1,2,3,4,5,6,7,8,9,10,11,12,13,14,15,16,17,\n",
    "                                   18,19,20,21,22,23,24,25,26,27,28,29,30,31,\n",
    "                                   32,33,34,35,36,37,37, 38])"
   ]
  },
  {
   "cell_type": "code",
   "execution_count": 23,
   "metadata": {},
   "outputs": [],
   "source": [
    "#fav home\n",
    "undecided_2 = undecided_2.replace(['ARI', \n",
    "                                  'ATL',\n",
    "                                  'BAL',\n",
    "                                   'BUF',\n",
    "                                   'CAR',\n",
    "                                   'CHI',\n",
    "                                   'CIN',\n",
    "                                   'CLE',\n",
    "                                   'DAL',\n",
    "                                   'DEN',\n",
    "                                   'DET',\n",
    "                                   'GB',\n",
    "                                   'HOU',\n",
    "                                   'IND',\n",
    "                                   'JAX',\n",
    "                                   'KC',\n",
    "                                   'LAC',\n",
    "                                   'LAR',\n",
    "                                   'MIA',\n",
    "                                   'MIN',\n",
    "                                   'NO',\n",
    "                                   'NYG',\n",
    "                                   'NYJ',\n",
    "                                   'OAK',\n",
    "                                   'PHI',\n",
    "                                   'PIT',\n",
    "                                   'SF',\n",
    "                                   'SEA',\n",
    "                                   'TB',\n",
    "                                   'TEN',\n",
    "                                   'WAS',\n",
    "                                  'STR',\n",
    "                                  'SDC',\n",
    "                                  'NE',\n",
    "                                  ],\n",
    "                                  [1,2,3,4,5,6,7,8,9,10,11,12,13,14,15,16,17,\n",
    "                                   18,19,20,21,22,23,24,25,26,27,28,29,30,31,\n",
    "                                   32,33,34])"
   ]
  },
  {
   "cell_type": "code",
   "execution_count": null,
   "metadata": {},
   "outputs": [],
   "source": []
  },
  {
   "cell_type": "code",
   "execution_count": 24,
   "metadata": {},
   "outputs": [],
   "source": [
    "#fav home\n",
    "undecided_2['home_fav'] = undecided_2['team_home'] == undecided_2['team_favorite_id']\n",
    "undecided_2.home_fav = undecided_2.home_fav.astype(int)"
   ]
  },
  {
   "cell_type": "code",
   "execution_count": 25,
   "metadata": {},
   "outputs": [],
   "source": [
    "features = ['schedule_week', 'weather_temperature', 'weather_wind_mph',\n",
    "           'team_home', 'team_away', 'spread_favorite', 'over_under_line','home_fav'\n",
    "            ]"
   ]
  },
  {
   "cell_type": "code",
   "execution_count": 26,
   "metadata": {},
   "outputs": [],
   "source": [
    "x = undecided_2.loc[:, features]\n",
    "x = x.replace('Wildcard', 18, regex=True)"
   ]
  },
  {
   "cell_type": "code",
   "execution_count": 27,
   "metadata": {},
   "outputs": [],
   "source": [
    "y = undecided_2.home_win"
   ]
  },
  {
   "cell_type": "code",
   "execution_count": 28,
   "metadata": {},
   "outputs": [],
   "source": [
    "#train data one day behind"
   ]
  },
  {
   "cell_type": "code",
   "execution_count": 29,
   "metadata": {},
   "outputs": [],
   "source": [
    "train_data = x['2014-09-04':'2019-12-08']"
   ]
  },
  {
   "cell_type": "code",
   "execution_count": 30,
   "metadata": {},
   "outputs": [],
   "source": [
    "train_y = undecided_2.home_win"
   ]
  },
  {
   "cell_type": "code",
   "execution_count": 31,
   "metadata": {},
   "outputs": [],
   "source": [
    "train_y_data = train_y['2014-09-04':'2019-12-08']"
   ]
  },
  {
   "cell_type": "code",
   "execution_count": 32,
   "metadata": {},
   "outputs": [],
   "source": [
    "#test range(optional)\n",
    "test_data = x['2019-09-08':'2019-12-04']\n",
    "test_y_data = train_y['2019-09-08':'2019-12-04']"
   ]
  },
  {
   "cell_type": "code",
   "execution_count": 33,
   "metadata": {},
   "outputs": [
    {
     "data": {
      "text/html": [
       "<div>\n",
       "<style scoped>\n",
       "    .dataframe tbody tr th:only-of-type {\n",
       "        vertical-align: middle;\n",
       "    }\n",
       "\n",
       "    .dataframe tbody tr th {\n",
       "        vertical-align: top;\n",
       "    }\n",
       "\n",
       "    .dataframe thead th {\n",
       "        text-align: right;\n",
       "    }\n",
       "</style>\n",
       "<table border=\"1\" class=\"dataframe\">\n",
       "  <thead>\n",
       "    <tr style=\"text-align: right;\">\n",
       "      <th></th>\n",
       "      <th>schedule_season</th>\n",
       "      <th>schedule_week</th>\n",
       "      <th>schedule_playoff</th>\n",
       "      <th>team_home</th>\n",
       "      <th>score_home</th>\n",
       "      <th>score_away</th>\n",
       "      <th>team_away</th>\n",
       "      <th>team_favorite_id</th>\n",
       "      <th>spread_favorite</th>\n",
       "      <th>over_under_line</th>\n",
       "      <th>stadium</th>\n",
       "      <th>stadium_neutral</th>\n",
       "      <th>weather_temperature</th>\n",
       "      <th>weather_wind_mph</th>\n",
       "      <th>weather_humidity</th>\n",
       "      <th>weather_detail</th>\n",
       "      <th>home_win</th>\n",
       "      <th>home_fav</th>\n",
       "    </tr>\n",
       "    <tr>\n",
       "      <th>schedule_date</th>\n",
       "      <th></th>\n",
       "      <th></th>\n",
       "      <th></th>\n",
       "      <th></th>\n",
       "      <th></th>\n",
       "      <th></th>\n",
       "      <th></th>\n",
       "      <th></th>\n",
       "      <th></th>\n",
       "      <th></th>\n",
       "      <th></th>\n",
       "      <th></th>\n",
       "      <th></th>\n",
       "      <th></th>\n",
       "      <th></th>\n",
       "      <th></th>\n",
       "      <th></th>\n",
       "      <th></th>\n",
       "    </tr>\n",
       "  </thead>\n",
       "  <tbody>\n",
       "    <tr>\n",
       "      <td>2014-09-04</td>\n",
       "      <td>2014</td>\n",
       "      <td>1</td>\n",
       "      <td>False</td>\n",
       "      <td>28</td>\n",
       "      <td>36.0</td>\n",
       "      <td>16.0</td>\n",
       "      <td>12</td>\n",
       "      <td>28</td>\n",
       "      <td>-4.5</td>\n",
       "      <td>46.5</td>\n",
       "      <td>CenturyLink Field</td>\n",
       "      <td>False</td>\n",
       "      <td>67.5</td>\n",
       "      <td>5.0</td>\n",
       "      <td>NaN</td>\n",
       "      <td>NaN</td>\n",
       "      <td>1</td>\n",
       "      <td>1</td>\n",
       "    </tr>\n",
       "    <tr>\n",
       "      <td>2014-09-07</td>\n",
       "      <td>2014</td>\n",
       "      <td>1</td>\n",
       "      <td>False</td>\n",
       "      <td>2</td>\n",
       "      <td>37.0</td>\n",
       "      <td>34.0</td>\n",
       "      <td>21</td>\n",
       "      <td>21</td>\n",
       "      <td>-3.0</td>\n",
       "      <td>52</td>\n",
       "      <td>Georgia Dome</td>\n",
       "      <td>False</td>\n",
       "      <td>72.5</td>\n",
       "      <td>0.0</td>\n",
       "      <td>NaN</td>\n",
       "      <td>DOME</td>\n",
       "      <td>1</td>\n",
       "      <td>0</td>\n",
       "    </tr>\n",
       "    <tr>\n",
       "      <td>2014-09-07</td>\n",
       "      <td>2014</td>\n",
       "      <td>1</td>\n",
       "      <td>False</td>\n",
       "      <td>3</td>\n",
       "      <td>16.0</td>\n",
       "      <td>23.0</td>\n",
       "      <td>7</td>\n",
       "      <td>3</td>\n",
       "      <td>-1.0</td>\n",
       "      <td>42.5</td>\n",
       "      <td>M&amp;T Bank Stadium</td>\n",
       "      <td>False</td>\n",
       "      <td>77.5</td>\n",
       "      <td>0.0</td>\n",
       "      <td>NaN</td>\n",
       "      <td>NaN</td>\n",
       "      <td>0</td>\n",
       "      <td>1</td>\n",
       "    </tr>\n",
       "    <tr>\n",
       "      <td>2014-09-07</td>\n",
       "      <td>2014</td>\n",
       "      <td>1</td>\n",
       "      <td>False</td>\n",
       "      <td>6</td>\n",
       "      <td>20.0</td>\n",
       "      <td>23.0</td>\n",
       "      <td>4</td>\n",
       "      <td>6</td>\n",
       "      <td>-7.0</td>\n",
       "      <td>47</td>\n",
       "      <td>Soldier Field</td>\n",
       "      <td>False</td>\n",
       "      <td>77.5</td>\n",
       "      <td>7.0</td>\n",
       "      <td>NaN</td>\n",
       "      <td>NaN</td>\n",
       "      <td>0</td>\n",
       "      <td>1</td>\n",
       "    </tr>\n",
       "    <tr>\n",
       "      <td>2014-09-07</td>\n",
       "      <td>2014</td>\n",
       "      <td>1</td>\n",
       "      <td>False</td>\n",
       "      <td>9</td>\n",
       "      <td>17.0</td>\n",
       "      <td>28.0</td>\n",
       "      <td>27</td>\n",
       "      <td>27</td>\n",
       "      <td>-3.5</td>\n",
       "      <td>51</td>\n",
       "      <td>Cowboys Stadium</td>\n",
       "      <td>False</td>\n",
       "      <td>72.5</td>\n",
       "      <td>0.0</td>\n",
       "      <td>NaN</td>\n",
       "      <td>DOME</td>\n",
       "      <td>0</td>\n",
       "      <td>0</td>\n",
       "    </tr>\n",
       "    <tr>\n",
       "      <td>...</td>\n",
       "      <td>...</td>\n",
       "      <td>...</td>\n",
       "      <td>...</td>\n",
       "      <td>...</td>\n",
       "      <td>...</td>\n",
       "      <td>...</td>\n",
       "      <td>...</td>\n",
       "      <td>...</td>\n",
       "      <td>...</td>\n",
       "      <td>...</td>\n",
       "      <td>...</td>\n",
       "      <td>...</td>\n",
       "      <td>...</td>\n",
       "      <td>...</td>\n",
       "      <td>...</td>\n",
       "      <td>...</td>\n",
       "      <td>...</td>\n",
       "      <td>...</td>\n",
       "    </tr>\n",
       "    <tr>\n",
       "      <td>2019-12-08</td>\n",
       "      <td>2019</td>\n",
       "      <td>14</td>\n",
       "      <td>False</td>\n",
       "      <td>21</td>\n",
       "      <td>46.0</td>\n",
       "      <td>48.0</td>\n",
       "      <td>27</td>\n",
       "      <td>27</td>\n",
       "      <td>-2.5</td>\n",
       "      <td>43.5</td>\n",
       "      <td>Mercedes-Benz Superdome</td>\n",
       "      <td>False</td>\n",
       "      <td>72.5</td>\n",
       "      <td>0.0</td>\n",
       "      <td>NaN</td>\n",
       "      <td>DOME</td>\n",
       "      <td>0</td>\n",
       "      <td>0</td>\n",
       "    </tr>\n",
       "    <tr>\n",
       "      <td>2019-12-08</td>\n",
       "      <td>2019</td>\n",
       "      <td>14</td>\n",
       "      <td>False</td>\n",
       "      <td>23</td>\n",
       "      <td>22.0</td>\n",
       "      <td>21.0</td>\n",
       "      <td>19</td>\n",
       "      <td>23</td>\n",
       "      <td>-5.0</td>\n",
       "      <td>46</td>\n",
       "      <td>MetLife Stadium</td>\n",
       "      <td>False</td>\n",
       "      <td>37.5</td>\n",
       "      <td>5.0</td>\n",
       "      <td>NaN</td>\n",
       "      <td>NaN</td>\n",
       "      <td>1</td>\n",
       "      <td>1</td>\n",
       "    </tr>\n",
       "    <tr>\n",
       "      <td>2019-12-08</td>\n",
       "      <td>2019</td>\n",
       "      <td>14</td>\n",
       "      <td>False</td>\n",
       "      <td>24</td>\n",
       "      <td>21.0</td>\n",
       "      <td>42.0</td>\n",
       "      <td>30</td>\n",
       "      <td>30</td>\n",
       "      <td>-3.0</td>\n",
       "      <td>47.5</td>\n",
       "      <td>Oakland Coliseum</td>\n",
       "      <td>False</td>\n",
       "      <td>57.5</td>\n",
       "      <td>6.0</td>\n",
       "      <td>NaN</td>\n",
       "      <td>NaN</td>\n",
       "      <td>0</td>\n",
       "      <td>0</td>\n",
       "    </tr>\n",
       "    <tr>\n",
       "      <td>2019-12-08</td>\n",
       "      <td>2019</td>\n",
       "      <td>14</td>\n",
       "      <td>False</td>\n",
       "      <td>29</td>\n",
       "      <td>38.0</td>\n",
       "      <td>35.0</td>\n",
       "      <td>14</td>\n",
       "      <td>29</td>\n",
       "      <td>-3.0</td>\n",
       "      <td>47</td>\n",
       "      <td>Raymond James Stadium</td>\n",
       "      <td>False</td>\n",
       "      <td>72.5</td>\n",
       "      <td>8.0</td>\n",
       "      <td>NaN</td>\n",
       "      <td>NaN</td>\n",
       "      <td>1</td>\n",
       "      <td>1</td>\n",
       "    </tr>\n",
       "    <tr>\n",
       "      <td>2019-12-09</td>\n",
       "      <td>2019</td>\n",
       "      <td>14</td>\n",
       "      <td>False</td>\n",
       "      <td>25</td>\n",
       "      <td>23.0</td>\n",
       "      <td>17.0</td>\n",
       "      <td>22</td>\n",
       "      <td>25</td>\n",
       "      <td>-9.5</td>\n",
       "      <td>45</td>\n",
       "      <td>Lincoln Financial Field</td>\n",
       "      <td>False</td>\n",
       "      <td>52.5</td>\n",
       "      <td>14.0</td>\n",
       "      <td>NaN</td>\n",
       "      <td>NaN</td>\n",
       "      <td>1</td>\n",
       "      <td>1</td>\n",
       "    </tr>\n",
       "  </tbody>\n",
       "</table>\n",
       "<p>1543 rows × 18 columns</p>\n",
       "</div>"
      ],
      "text/plain": [
       "               schedule_season schedule_week  schedule_playoff  team_home  \\\n",
       "schedule_date                                                               \n",
       "2014-09-04                2014             1             False         28   \n",
       "2014-09-07                2014             1             False          2   \n",
       "2014-09-07                2014             1             False          3   \n",
       "2014-09-07                2014             1             False          6   \n",
       "2014-09-07                2014             1             False          9   \n",
       "...                        ...           ...               ...        ...   \n",
       "2019-12-08                2019            14             False         21   \n",
       "2019-12-08                2019            14             False         23   \n",
       "2019-12-08                2019            14             False         24   \n",
       "2019-12-08                2019            14             False         29   \n",
       "2019-12-09                2019            14             False         25   \n",
       "\n",
       "               score_home  score_away  team_away team_favorite_id  \\\n",
       "schedule_date                                                       \n",
       "2014-09-04           36.0        16.0         12               28   \n",
       "2014-09-07           37.0        34.0         21               21   \n",
       "2014-09-07           16.0        23.0          7                3   \n",
       "2014-09-07           20.0        23.0          4                6   \n",
       "2014-09-07           17.0        28.0         27               27   \n",
       "...                   ...         ...        ...              ...   \n",
       "2019-12-08           46.0        48.0         27               27   \n",
       "2019-12-08           22.0        21.0         19               23   \n",
       "2019-12-08           21.0        42.0         30               30   \n",
       "2019-12-08           38.0        35.0         14               29   \n",
       "2019-12-09           23.0        17.0         22               25   \n",
       "\n",
       "               spread_favorite over_under_line                  stadium  \\\n",
       "schedule_date                                                             \n",
       "2014-09-04                -4.5            46.5        CenturyLink Field   \n",
       "2014-09-07                -3.0              52             Georgia Dome   \n",
       "2014-09-07                -1.0            42.5         M&T Bank Stadium   \n",
       "2014-09-07                -7.0              47            Soldier Field   \n",
       "2014-09-07                -3.5              51          Cowboys Stadium   \n",
       "...                        ...             ...                      ...   \n",
       "2019-12-08                -2.5            43.5  Mercedes-Benz Superdome   \n",
       "2019-12-08                -5.0              46          MetLife Stadium   \n",
       "2019-12-08                -3.0            47.5         Oakland Coliseum   \n",
       "2019-12-08                -3.0              47    Raymond James Stadium   \n",
       "2019-12-09                -9.5              45  Lincoln Financial Field   \n",
       "\n",
       "               stadium_neutral weather_temperature  weather_wind_mph  \\\n",
       "schedule_date                                                          \n",
       "2014-09-04               False                67.5               5.0   \n",
       "2014-09-07               False                72.5               0.0   \n",
       "2014-09-07               False                77.5               0.0   \n",
       "2014-09-07               False                77.5               7.0   \n",
       "2014-09-07               False                72.5               0.0   \n",
       "...                        ...                 ...               ...   \n",
       "2019-12-08               False                72.5               0.0   \n",
       "2019-12-08               False                37.5               5.0   \n",
       "2019-12-08               False                57.5               6.0   \n",
       "2019-12-08               False                72.5               8.0   \n",
       "2019-12-09               False                52.5              14.0   \n",
       "\n",
       "               weather_humidity weather_detail  home_win  home_fav  \n",
       "schedule_date                                                       \n",
       "2014-09-04                  NaN            NaN         1         1  \n",
       "2014-09-07                  NaN           DOME         1         0  \n",
       "2014-09-07                  NaN            NaN         0         1  \n",
       "2014-09-07                  NaN            NaN         0         1  \n",
       "2014-09-07                  NaN           DOME         0         0  \n",
       "...                         ...            ...       ...       ...  \n",
       "2019-12-08                  NaN           DOME         0         0  \n",
       "2019-12-08                  NaN            NaN         1         1  \n",
       "2019-12-08                  NaN            NaN         0         0  \n",
       "2019-12-08                  NaN            NaN         1         1  \n",
       "2019-12-09                  NaN            NaN         1         1  \n",
       "\n",
       "[1543 rows x 18 columns]"
      ]
     },
     "execution_count": 33,
     "metadata": {},
     "output_type": "execute_result"
    }
   ],
   "source": [
    "undecided_2"
   ]
  },
  {
   "cell_type": "code",
   "execution_count": 34,
   "metadata": {},
   "outputs": [],
   "source": [
    "#scikit DNN"
   ]
  },
  {
   "cell_type": "code",
   "execution_count": 35,
   "metadata": {},
   "outputs": [],
   "source": [
    "from sklearn.neural_network import MLPClassifier"
   ]
  },
  {
   "cell_type": "code",
   "execution_count": 36,
   "metadata": {},
   "outputs": [],
   "source": [
    "from sklearn.model_selection import train_test_split"
   ]
  },
  {
   "cell_type": "code",
   "execution_count": 37,
   "metadata": {},
   "outputs": [],
   "source": [
    "model = MLPClassifier(solver='lbfgs', alpha=1e-5,\n",
    "                     hidden_layer_sizes=8*[94], random_state=10)"
   ]
  },
  {
   "cell_type": "code",
   "execution_count": 38,
   "metadata": {},
   "outputs": [
    {
     "data": {
      "text/plain": [
       "MLPClassifier(activation='relu', alpha=1e-05, batch_size='auto', beta_1=0.9,\n",
       "              beta_2=0.999, early_stopping=False, epsilon=1e-08,\n",
       "              hidden_layer_sizes=[94, 94, 94, 94, 94, 94, 94, 94],\n",
       "              learning_rate='constant', learning_rate_init=0.001, max_iter=200,\n",
       "              momentum=0.9, n_iter_no_change=10, nesterovs_momentum=True,\n",
       "              power_t=0.5, random_state=10, shuffle=True, solver='lbfgs',\n",
       "              tol=0.0001, validation_fraction=0.1, verbose=False,\n",
       "              warm_start=False)"
      ]
     },
     "execution_count": 38,
     "metadata": {},
     "output_type": "execute_result"
    }
   ],
   "source": [
    "model.fit(train_data,train_y_data)"
   ]
  },
  {
   "cell_type": "code",
   "execution_count": 39,
   "metadata": {},
   "outputs": [],
   "source": [
    "pred = model.predict(x)"
   ]
  },
  {
   "cell_type": "code",
   "execution_count": 40,
   "metadata": {},
   "outputs": [],
   "source": [
    "pred = pd.DataFrame(pred)"
   ]
  },
  {
   "cell_type": "code",
   "execution_count": 41,
   "metadata": {},
   "outputs": [
    {
     "data": {
      "text/html": [
       "<div>\n",
       "<style scoped>\n",
       "    .dataframe tbody tr th:only-of-type {\n",
       "        vertical-align: middle;\n",
       "    }\n",
       "\n",
       "    .dataframe tbody tr th {\n",
       "        vertical-align: top;\n",
       "    }\n",
       "\n",
       "    .dataframe thead th {\n",
       "        text-align: right;\n",
       "    }\n",
       "</style>\n",
       "<table border=\"1\" class=\"dataframe\">\n",
       "  <thead>\n",
       "    <tr style=\"text-align: right;\">\n",
       "      <th></th>\n",
       "      <th>schedule_season</th>\n",
       "      <th>schedule_week</th>\n",
       "      <th>schedule_playoff</th>\n",
       "      <th>team_home</th>\n",
       "      <th>score_home</th>\n",
       "      <th>score_away</th>\n",
       "      <th>team_away</th>\n",
       "      <th>team_favorite_id</th>\n",
       "      <th>spread_favorite</th>\n",
       "      <th>over_under_line</th>\n",
       "      <th>stadium</th>\n",
       "      <th>stadium_neutral</th>\n",
       "      <th>weather_temperature</th>\n",
       "      <th>weather_wind_mph</th>\n",
       "      <th>weather_humidity</th>\n",
       "      <th>weather_detail</th>\n",
       "      <th>home_win</th>\n",
       "    </tr>\n",
       "    <tr>\n",
       "      <th>schedule_date</th>\n",
       "      <th></th>\n",
       "      <th></th>\n",
       "      <th></th>\n",
       "      <th></th>\n",
       "      <th></th>\n",
       "      <th></th>\n",
       "      <th></th>\n",
       "      <th></th>\n",
       "      <th></th>\n",
       "      <th></th>\n",
       "      <th></th>\n",
       "      <th></th>\n",
       "      <th></th>\n",
       "      <th></th>\n",
       "      <th></th>\n",
       "      <th></th>\n",
       "      <th></th>\n",
       "    </tr>\n",
       "  </thead>\n",
       "  <tbody>\n",
       "    <tr>\n",
       "      <td>2019-12-08</td>\n",
       "      <td>2019</td>\n",
       "      <td>14</td>\n",
       "      <td>False</td>\n",
       "      <td>Atlanta Falcons</td>\n",
       "      <td>40.0</td>\n",
       "      <td>20.0</td>\n",
       "      <td>Carolina Panthers</td>\n",
       "      <td>ATL</td>\n",
       "      <td>-3.5</td>\n",
       "      <td>48</td>\n",
       "      <td>Mercedes-Benz Stadium</td>\n",
       "      <td>False</td>\n",
       "      <td>72.5</td>\n",
       "      <td>0.0</td>\n",
       "      <td>NaN</td>\n",
       "      <td>DOME</td>\n",
       "      <td>1</td>\n",
       "    </tr>\n",
       "    <tr>\n",
       "      <td>2019-12-08</td>\n",
       "      <td>2019</td>\n",
       "      <td>14</td>\n",
       "      <td>False</td>\n",
       "      <td>Buffalo Bills</td>\n",
       "      <td>17.0</td>\n",
       "      <td>24.0</td>\n",
       "      <td>Baltimore Ravens</td>\n",
       "      <td>BAL</td>\n",
       "      <td>-6.0</td>\n",
       "      <td>44</td>\n",
       "      <td>New Era Field</td>\n",
       "      <td>False</td>\n",
       "      <td>32.5</td>\n",
       "      <td>16.0</td>\n",
       "      <td>NaN</td>\n",
       "      <td>NaN</td>\n",
       "      <td>0</td>\n",
       "    </tr>\n",
       "    <tr>\n",
       "      <td>2019-12-08</td>\n",
       "      <td>2019</td>\n",
       "      <td>14</td>\n",
       "      <td>False</td>\n",
       "      <td>Cleveland Browns</td>\n",
       "      <td>27.0</td>\n",
       "      <td>19.0</td>\n",
       "      <td>Cincinnati Bengals</td>\n",
       "      <td>CLE</td>\n",
       "      <td>-7.0</td>\n",
       "      <td>42.5</td>\n",
       "      <td>FirstEnergy Stadium</td>\n",
       "      <td>False</td>\n",
       "      <td>42.5</td>\n",
       "      <td>15.0</td>\n",
       "      <td>NaN</td>\n",
       "      <td>NaN</td>\n",
       "      <td>1</td>\n",
       "    </tr>\n",
       "    <tr>\n",
       "      <td>2019-12-08</td>\n",
       "      <td>2019</td>\n",
       "      <td>14</td>\n",
       "      <td>False</td>\n",
       "      <td>Green Bay Packers</td>\n",
       "      <td>20.0</td>\n",
       "      <td>15.0</td>\n",
       "      <td>Washington Redskins</td>\n",
       "      <td>GB</td>\n",
       "      <td>-13.5</td>\n",
       "      <td>41.5</td>\n",
       "      <td>Lambeau Field</td>\n",
       "      <td>False</td>\n",
       "      <td>37.5</td>\n",
       "      <td>12.0</td>\n",
       "      <td>NaN</td>\n",
       "      <td>NaN</td>\n",
       "      <td>1</td>\n",
       "    </tr>\n",
       "    <tr>\n",
       "      <td>2019-12-08</td>\n",
       "      <td>2019</td>\n",
       "      <td>14</td>\n",
       "      <td>False</td>\n",
       "      <td>Houston Texans</td>\n",
       "      <td>24.0</td>\n",
       "      <td>38.0</td>\n",
       "      <td>Denver Broncos</td>\n",
       "      <td>HOU</td>\n",
       "      <td>-9.0</td>\n",
       "      <td>43</td>\n",
       "      <td>NRG Stadium</td>\n",
       "      <td>False</td>\n",
       "      <td>62.5</td>\n",
       "      <td>6.0</td>\n",
       "      <td>NaN</td>\n",
       "      <td>DOME</td>\n",
       "      <td>0</td>\n",
       "    </tr>\n",
       "    <tr>\n",
       "      <td>2019-12-08</td>\n",
       "      <td>2019</td>\n",
       "      <td>14</td>\n",
       "      <td>False</td>\n",
       "      <td>Jacksonville Jaguars</td>\n",
       "      <td>10.0</td>\n",
       "      <td>45.0</td>\n",
       "      <td>Los Angeles Chargers</td>\n",
       "      <td>LAC</td>\n",
       "      <td>-3.0</td>\n",
       "      <td>43.5</td>\n",
       "      <td>TIAA Bank Field</td>\n",
       "      <td>False</td>\n",
       "      <td>62.5</td>\n",
       "      <td>11.0</td>\n",
       "      <td>NaN</td>\n",
       "      <td>NaN</td>\n",
       "      <td>0</td>\n",
       "    </tr>\n",
       "    <tr>\n",
       "      <td>2019-12-08</td>\n",
       "      <td>2019</td>\n",
       "      <td>14</td>\n",
       "      <td>False</td>\n",
       "      <td>Los Angeles Rams</td>\n",
       "      <td>28.0</td>\n",
       "      <td>12.0</td>\n",
       "      <td>Seattle Seahawks</td>\n",
       "      <td>LAR</td>\n",
       "      <td>-1.0</td>\n",
       "      <td>47</td>\n",
       "      <td>Los Angeles Memorial Coliseum</td>\n",
       "      <td>False</td>\n",
       "      <td>62.5</td>\n",
       "      <td>8.0</td>\n",
       "      <td>NaN</td>\n",
       "      <td>NaN</td>\n",
       "      <td>1</td>\n",
       "    </tr>\n",
       "    <tr>\n",
       "      <td>2019-12-08</td>\n",
       "      <td>2019</td>\n",
       "      <td>14</td>\n",
       "      <td>False</td>\n",
       "      <td>Minnesota Vikings</td>\n",
       "      <td>20.0</td>\n",
       "      <td>7.0</td>\n",
       "      <td>Detroit Lions</td>\n",
       "      <td>MIN</td>\n",
       "      <td>-12.5</td>\n",
       "      <td>43.5</td>\n",
       "      <td>U.S. Bank Stadium</td>\n",
       "      <td>False</td>\n",
       "      <td>72.5</td>\n",
       "      <td>0.0</td>\n",
       "      <td>NaN</td>\n",
       "      <td>DOME</td>\n",
       "      <td>1</td>\n",
       "    </tr>\n",
       "    <tr>\n",
       "      <td>2019-12-08</td>\n",
       "      <td>2019</td>\n",
       "      <td>14</td>\n",
       "      <td>False</td>\n",
       "      <td>New England Patriots</td>\n",
       "      <td>16.0</td>\n",
       "      <td>23.0</td>\n",
       "      <td>Kansas City Chiefs</td>\n",
       "      <td>NE</td>\n",
       "      <td>-3.0</td>\n",
       "      <td>49</td>\n",
       "      <td>Gillette Stadium</td>\n",
       "      <td>False</td>\n",
       "      <td>32.5</td>\n",
       "      <td>6.0</td>\n",
       "      <td>NaN</td>\n",
       "      <td>NaN</td>\n",
       "      <td>0</td>\n",
       "    </tr>\n",
       "    <tr>\n",
       "      <td>2019-12-08</td>\n",
       "      <td>2019</td>\n",
       "      <td>14</td>\n",
       "      <td>False</td>\n",
       "      <td>New Orleans Saints</td>\n",
       "      <td>46.0</td>\n",
       "      <td>48.0</td>\n",
       "      <td>San Francisco 49ers</td>\n",
       "      <td>SF</td>\n",
       "      <td>-2.5</td>\n",
       "      <td>43.5</td>\n",
       "      <td>Mercedes-Benz Superdome</td>\n",
       "      <td>False</td>\n",
       "      <td>72.5</td>\n",
       "      <td>0.0</td>\n",
       "      <td>NaN</td>\n",
       "      <td>DOME</td>\n",
       "      <td>0</td>\n",
       "    </tr>\n",
       "    <tr>\n",
       "      <td>2019-12-08</td>\n",
       "      <td>2019</td>\n",
       "      <td>14</td>\n",
       "      <td>False</td>\n",
       "      <td>New York Jets</td>\n",
       "      <td>22.0</td>\n",
       "      <td>21.0</td>\n",
       "      <td>Miami Dolphins</td>\n",
       "      <td>NYJ</td>\n",
       "      <td>-5.0</td>\n",
       "      <td>46</td>\n",
       "      <td>MetLife Stadium</td>\n",
       "      <td>False</td>\n",
       "      <td>37.5</td>\n",
       "      <td>5.0</td>\n",
       "      <td>NaN</td>\n",
       "      <td>NaN</td>\n",
       "      <td>1</td>\n",
       "    </tr>\n",
       "    <tr>\n",
       "      <td>2019-12-08</td>\n",
       "      <td>2019</td>\n",
       "      <td>14</td>\n",
       "      <td>False</td>\n",
       "      <td>Oakland Raiders</td>\n",
       "      <td>21.0</td>\n",
       "      <td>42.0</td>\n",
       "      <td>Tennessee Titans</td>\n",
       "      <td>TEN</td>\n",
       "      <td>-3.0</td>\n",
       "      <td>47.5</td>\n",
       "      <td>Oakland Coliseum</td>\n",
       "      <td>False</td>\n",
       "      <td>57.5</td>\n",
       "      <td>6.0</td>\n",
       "      <td>NaN</td>\n",
       "      <td>NaN</td>\n",
       "      <td>0</td>\n",
       "    </tr>\n",
       "    <tr>\n",
       "      <td>2019-12-08</td>\n",
       "      <td>2019</td>\n",
       "      <td>14</td>\n",
       "      <td>False</td>\n",
       "      <td>Tampa Bay Buccaneers</td>\n",
       "      <td>38.0</td>\n",
       "      <td>35.0</td>\n",
       "      <td>Indianapolis Colts</td>\n",
       "      <td>TB</td>\n",
       "      <td>-3.0</td>\n",
       "      <td>47</td>\n",
       "      <td>Raymond James Stadium</td>\n",
       "      <td>False</td>\n",
       "      <td>72.5</td>\n",
       "      <td>8.0</td>\n",
       "      <td>NaN</td>\n",
       "      <td>NaN</td>\n",
       "      <td>1</td>\n",
       "    </tr>\n",
       "    <tr>\n",
       "      <td>2019-12-09</td>\n",
       "      <td>2019</td>\n",
       "      <td>14</td>\n",
       "      <td>False</td>\n",
       "      <td>Philadelphia Eagles</td>\n",
       "      <td>23.0</td>\n",
       "      <td>17.0</td>\n",
       "      <td>New York Giants</td>\n",
       "      <td>PHI</td>\n",
       "      <td>-9.5</td>\n",
       "      <td>45</td>\n",
       "      <td>Lincoln Financial Field</td>\n",
       "      <td>False</td>\n",
       "      <td>52.5</td>\n",
       "      <td>14.0</td>\n",
       "      <td>NaN</td>\n",
       "      <td>NaN</td>\n",
       "      <td>1</td>\n",
       "    </tr>\n",
       "  </tbody>\n",
       "</table>\n",
       "</div>"
      ],
      "text/plain": [
       "               schedule_season schedule_week  schedule_playoff  \\\n",
       "schedule_date                                                    \n",
       "2019-12-08                2019            14             False   \n",
       "2019-12-08                2019            14             False   \n",
       "2019-12-08                2019            14             False   \n",
       "2019-12-08                2019            14             False   \n",
       "2019-12-08                2019            14             False   \n",
       "2019-12-08                2019            14             False   \n",
       "2019-12-08                2019            14             False   \n",
       "2019-12-08                2019            14             False   \n",
       "2019-12-08                2019            14             False   \n",
       "2019-12-08                2019            14             False   \n",
       "2019-12-08                2019            14             False   \n",
       "2019-12-08                2019            14             False   \n",
       "2019-12-08                2019            14             False   \n",
       "2019-12-09                2019            14             False   \n",
       "\n",
       "                          team_home  score_home  score_away  \\\n",
       "schedule_date                                                 \n",
       "2019-12-08          Atlanta Falcons        40.0        20.0   \n",
       "2019-12-08            Buffalo Bills        17.0        24.0   \n",
       "2019-12-08         Cleveland Browns        27.0        19.0   \n",
       "2019-12-08        Green Bay Packers        20.0        15.0   \n",
       "2019-12-08           Houston Texans        24.0        38.0   \n",
       "2019-12-08     Jacksonville Jaguars        10.0        45.0   \n",
       "2019-12-08         Los Angeles Rams        28.0        12.0   \n",
       "2019-12-08        Minnesota Vikings        20.0         7.0   \n",
       "2019-12-08     New England Patriots        16.0        23.0   \n",
       "2019-12-08       New Orleans Saints        46.0        48.0   \n",
       "2019-12-08            New York Jets        22.0        21.0   \n",
       "2019-12-08          Oakland Raiders        21.0        42.0   \n",
       "2019-12-08     Tampa Bay Buccaneers        38.0        35.0   \n",
       "2019-12-09      Philadelphia Eagles        23.0        17.0   \n",
       "\n",
       "                          team_away team_favorite_id  spread_favorite  \\\n",
       "schedule_date                                                           \n",
       "2019-12-08        Carolina Panthers              ATL             -3.5   \n",
       "2019-12-08         Baltimore Ravens              BAL             -6.0   \n",
       "2019-12-08       Cincinnati Bengals              CLE             -7.0   \n",
       "2019-12-08      Washington Redskins               GB            -13.5   \n",
       "2019-12-08           Denver Broncos              HOU             -9.0   \n",
       "2019-12-08     Los Angeles Chargers              LAC             -3.0   \n",
       "2019-12-08         Seattle Seahawks              LAR             -1.0   \n",
       "2019-12-08            Detroit Lions              MIN            -12.5   \n",
       "2019-12-08       Kansas City Chiefs               NE             -3.0   \n",
       "2019-12-08      San Francisco 49ers               SF             -2.5   \n",
       "2019-12-08           Miami Dolphins              NYJ             -5.0   \n",
       "2019-12-08         Tennessee Titans              TEN             -3.0   \n",
       "2019-12-08       Indianapolis Colts               TB             -3.0   \n",
       "2019-12-09          New York Giants              PHI             -9.5   \n",
       "\n",
       "              over_under_line                        stadium  stadium_neutral  \\\n",
       "schedule_date                                                                   \n",
       "2019-12-08                 48          Mercedes-Benz Stadium            False   \n",
       "2019-12-08                 44                  New Era Field            False   \n",
       "2019-12-08               42.5            FirstEnergy Stadium            False   \n",
       "2019-12-08               41.5                  Lambeau Field            False   \n",
       "2019-12-08                 43                    NRG Stadium            False   \n",
       "2019-12-08               43.5                TIAA Bank Field            False   \n",
       "2019-12-08                 47  Los Angeles Memorial Coliseum            False   \n",
       "2019-12-08               43.5              U.S. Bank Stadium            False   \n",
       "2019-12-08                 49               Gillette Stadium            False   \n",
       "2019-12-08               43.5        Mercedes-Benz Superdome            False   \n",
       "2019-12-08                 46                MetLife Stadium            False   \n",
       "2019-12-08               47.5               Oakland Coliseum            False   \n",
       "2019-12-08                 47          Raymond James Stadium            False   \n",
       "2019-12-09                 45        Lincoln Financial Field            False   \n",
       "\n",
       "              weather_temperature  weather_wind_mph weather_humidity  \\\n",
       "schedule_date                                                          \n",
       "2019-12-08                   72.5               0.0              NaN   \n",
       "2019-12-08                   32.5              16.0              NaN   \n",
       "2019-12-08                   42.5              15.0              NaN   \n",
       "2019-12-08                   37.5              12.0              NaN   \n",
       "2019-12-08                   62.5               6.0              NaN   \n",
       "2019-12-08                   62.5              11.0              NaN   \n",
       "2019-12-08                   62.5               8.0              NaN   \n",
       "2019-12-08                   72.5               0.0              NaN   \n",
       "2019-12-08                   32.5               6.0              NaN   \n",
       "2019-12-08                   72.5               0.0              NaN   \n",
       "2019-12-08                   37.5               5.0              NaN   \n",
       "2019-12-08                   57.5               6.0              NaN   \n",
       "2019-12-08                   72.5               8.0              NaN   \n",
       "2019-12-09                   52.5              14.0              NaN   \n",
       "\n",
       "              weather_detail  home_win  \n",
       "schedule_date                           \n",
       "2019-12-08              DOME         1  \n",
       "2019-12-08               NaN         0  \n",
       "2019-12-08               NaN         1  \n",
       "2019-12-08               NaN         1  \n",
       "2019-12-08              DOME         0  \n",
       "2019-12-08               NaN         0  \n",
       "2019-12-08               NaN         1  \n",
       "2019-12-08              DOME         1  \n",
       "2019-12-08               NaN         0  \n",
       "2019-12-08              DOME         0  \n",
       "2019-12-08               NaN         1  \n",
       "2019-12-08               NaN         0  \n",
       "2019-12-08               NaN         1  \n",
       "2019-12-09               NaN         1  "
      ]
     },
     "execution_count": 41,
     "metadata": {},
     "output_type": "execute_result"
    }
   ],
   "source": [
    "nfl_1.tail(14)"
   ]
  },
  {
   "cell_type": "code",
   "execution_count": null,
   "metadata": {},
   "outputs": [],
   "source": []
  },
  {
   "cell_type": "code",
   "execution_count": 42,
   "metadata": {},
   "outputs": [
    {
     "data": {
      "text/plain": [
       "0.8571428571428571"
      ]
     },
     "execution_count": 42,
     "metadata": {},
     "output_type": "execute_result"
    }
   ],
   "source": [
    "#accuarcy predictor day of\n",
    "pred_final = pred.tail(14)\n",
    "y = nfl_1['home_win']\n",
    "y_final = y.tail(14)\n",
    "y_final = pd.DataFrame(y_final)\n",
    "accuracy_score(pred_final, y_final)"
   ]
  },
  {
   "cell_type": "code",
   "execution_count": null,
   "metadata": {},
   "outputs": [],
   "source": []
  },
  {
   "cell_type": "code",
   "execution_count": 43,
   "metadata": {},
   "outputs": [
    {
     "data": {
      "text/html": [
       "<div>\n",
       "<style scoped>\n",
       "    .dataframe tbody tr th:only-of-type {\n",
       "        vertical-align: middle;\n",
       "    }\n",
       "\n",
       "    .dataframe tbody tr th {\n",
       "        vertical-align: top;\n",
       "    }\n",
       "\n",
       "    .dataframe thead th {\n",
       "        text-align: right;\n",
       "    }\n",
       "</style>\n",
       "<table border=\"1\" class=\"dataframe\">\n",
       "  <thead>\n",
       "    <tr style=\"text-align: right;\">\n",
       "      <th></th>\n",
       "      <th>0</th>\n",
       "    </tr>\n",
       "  </thead>\n",
       "  <tbody>\n",
       "    <tr>\n",
       "      <td>1529</td>\n",
       "      <td>1</td>\n",
       "    </tr>\n",
       "    <tr>\n",
       "      <td>1530</td>\n",
       "      <td>0</td>\n",
       "    </tr>\n",
       "    <tr>\n",
       "      <td>1531</td>\n",
       "      <td>1</td>\n",
       "    </tr>\n",
       "    <tr>\n",
       "      <td>1532</td>\n",
       "      <td>1</td>\n",
       "    </tr>\n",
       "    <tr>\n",
       "      <td>1533</td>\n",
       "      <td>1</td>\n",
       "    </tr>\n",
       "    <tr>\n",
       "      <td>1534</td>\n",
       "      <td>0</td>\n",
       "    </tr>\n",
       "    <tr>\n",
       "      <td>1535</td>\n",
       "      <td>1</td>\n",
       "    </tr>\n",
       "    <tr>\n",
       "      <td>1536</td>\n",
       "      <td>1</td>\n",
       "    </tr>\n",
       "    <tr>\n",
       "      <td>1537</td>\n",
       "      <td>1</td>\n",
       "    </tr>\n",
       "    <tr>\n",
       "      <td>1538</td>\n",
       "      <td>0</td>\n",
       "    </tr>\n",
       "    <tr>\n",
       "      <td>1539</td>\n",
       "      <td>1</td>\n",
       "    </tr>\n",
       "    <tr>\n",
       "      <td>1540</td>\n",
       "      <td>0</td>\n",
       "    </tr>\n",
       "    <tr>\n",
       "      <td>1541</td>\n",
       "      <td>1</td>\n",
       "    </tr>\n",
       "    <tr>\n",
       "      <td>1542</td>\n",
       "      <td>1</td>\n",
       "    </tr>\n",
       "  </tbody>\n",
       "</table>\n",
       "</div>"
      ],
      "text/plain": [
       "      0\n",
       "1529  1\n",
       "1530  0\n",
       "1531  1\n",
       "1532  1\n",
       "1533  1\n",
       "1534  0\n",
       "1535  1\n",
       "1536  1\n",
       "1537  1\n",
       "1538  0\n",
       "1539  1\n",
       "1540  0\n",
       "1541  1\n",
       "1542  1"
      ]
     },
     "execution_count": 43,
     "metadata": {},
     "output_type": "execute_result"
    }
   ],
   "source": [
    "#TTS 3.0 final predictions\n",
    "pred_final"
   ]
  },
  {
   "cell_type": "code",
   "execution_count": 44,
   "metadata": {},
   "outputs": [
    {
     "ename": "NameError",
     "evalue": "name 'stop' is not defined",
     "output_type": "error",
     "traceback": [
      "\u001b[1;31m---------------------------------------------------------------------------\u001b[0m",
      "\u001b[1;31mNameError\u001b[0m                                 Traceback (most recent call last)",
      "\u001b[1;32m<ipython-input-44-1192ca8a00dc>\u001b[0m in \u001b[0;36m<module>\u001b[1;34m\u001b[0m\n\u001b[1;32m----> 1\u001b[1;33m \u001b[0mstop\u001b[0m\u001b[1;33m\u001b[0m\u001b[1;33m\u001b[0m\u001b[0m\n\u001b[0m\u001b[0;32m      2\u001b[0m \u001b[0mprint\u001b[0m\u001b[1;33m(\u001b[0m\u001b[1;34m'{:>8s} | {:8s}'\u001b[0m\u001b[1;33m.\u001b[0m\u001b[0mformat\u001b[0m\u001b[1;33m(\u001b[0m\u001b[1;34m'depth'\u001b[0m\u001b[1;33m,\u001b[0m \u001b[1;34m'accuracy'\u001b[0m\u001b[1;33m)\u001b[0m\u001b[1;33m)\u001b[0m\u001b[1;33m\u001b[0m\u001b[1;33m\u001b[0m\u001b[0m\n\u001b[0;32m      3\u001b[0m \u001b[0mprint\u001b[0m\u001b[1;33m(\u001b[0m\u001b[1;36m20\u001b[0m \u001b[1;33m*\u001b[0m \u001b[1;34m'-'\u001b[0m\u001b[1;33m)\u001b[0m\u001b[1;33m\u001b[0m\u001b[1;33m\u001b[0m\u001b[0m\n\u001b[0;32m      4\u001b[0m \u001b[1;32mfor\u001b[0m \u001b[0mdepth\u001b[0m \u001b[1;32min\u001b[0m \u001b[0mrange\u001b[0m\u001b[1;33m(\u001b[0m\u001b[1;36m90\u001b[0m\u001b[1;33m,\u001b[0m\u001b[1;36m110\u001b[0m\u001b[1;33m)\u001b[0m\u001b[1;33m:\u001b[0m\u001b[1;33m\u001b[0m\u001b[1;33m\u001b[0m\u001b[0m\n\u001b[0;32m      5\u001b[0m     model = MLPClassifier(solver='lbfgs', alpha=1e-5,\n",
      "\u001b[1;31mNameError\u001b[0m: name 'stop' is not defined"
     ]
    }
   ],
   "source": [
    "stop\n",
    "print('{:>8s} | {:8s}'.format('depth', 'accuracy'))\n",
    "print(20 * '-')\n",
    "for depth in range(90,110):\n",
    "    model = MLPClassifier(solver='lbfgs', alpha=1e-5,\n",
    "                     hidden_layer_sizes=8*[depth], random_state=10)\n",
    "    model.fit(train_data,train_y_data)\n",
    "    acc = accuracy_score(test_y_data, model.predict(test_data))\n",
    "    print('{:>8d} | {:8.2f}'.format(depth, acc))"
   ]
  },
  {
   "cell_type": "code",
   "execution_count": null,
   "metadata": {},
   "outputs": [],
   "source": []
  },
  {
   "cell_type": "code",
   "execution_count": null,
   "metadata": {},
   "outputs": [],
   "source": [
    "accuracy_score(pred,y)"
   ]
  },
  {
   "cell_type": "code",
   "execution_count": null,
   "metadata": {},
   "outputs": [],
   "source": [
    "#decision tree"
   ]
  },
  {
   "cell_type": "code",
   "execution_count": null,
   "metadata": {},
   "outputs": [],
   "source": [
    "from sklearn.tree import DecisionTreeClassifier"
   ]
  },
  {
   "cell_type": "code",
   "execution_count": null,
   "metadata": {},
   "outputs": [],
   "source": [
    "model = DecisionTreeClassifier(max_depth=28,random_state=50)"
   ]
  },
  {
   "cell_type": "code",
   "execution_count": null,
   "metadata": {},
   "outputs": [],
   "source": [
    "model.fit(train_data, train_y_data)"
   ]
  },
  {
   "cell_type": "code",
   "execution_count": null,
   "metadata": {},
   "outputs": [],
   "source": [
    "pred = model.predict(x)"
   ]
  },
  {
   "cell_type": "code",
   "execution_count": null,
   "metadata": {},
   "outputs": [],
   "source": [
    "pred = pd.DataFrame(pred)"
   ]
  },
  {
   "cell_type": "code",
   "execution_count": null,
   "metadata": {},
   "outputs": [],
   "source": [
    "#decision tree predictions\n",
    "pred.tail(14)"
   ]
  },
  {
   "cell_type": "code",
   "execution_count": null,
   "metadata": {},
   "outputs": [],
   "source": [
    "final_pred = pred.tail(11)\n",
    "y = nfl_1['home_win']\n",
    "y_final = y.tail(11)\n",
    "y_final = pd.DataFrame(y_final)"
   ]
  },
  {
   "cell_type": "code",
   "execution_count": null,
   "metadata": {},
   "outputs": [],
   "source": [
    "accuracy_score(final_pred,y_final)"
   ]
  },
  {
   "cell_type": "code",
   "execution_count": null,
   "metadata": {},
   "outputs": [],
   "source": [
    "stop\n",
    "print('{:>8s} | {:8s}'.format('depth', 'accuracy'))\n",
    "print(20 * '-')\n",
    "for depth in range(10,100,10):\n",
    "    model = DecisionTreeClassifier(max_depth=depth, random_state = 50)\n",
    "    model.fit(train_data,train_y_data)\n",
    "    acc = accuracy_score(test_y_data, model.predict(test_data))\n",
    "    print('{:>8d} | {:8.2f}'.format(depth, acc))"
   ]
  },
  {
   "cell_type": "code",
   "execution_count": null,
   "metadata": {},
   "outputs": [],
   "source": [
    "#scalar data"
   ]
  },
  {
   "cell_type": "code",
   "execution_count": null,
   "metadata": {},
   "outputs": [],
   "source": [
    "#from sklearn import preprocessing"
   ]
  },
  {
   "cell_type": "code",
   "execution_count": null,
   "metadata": {},
   "outputs": [],
   "source": [
    "#scaler = preprocessing.MinMaxScaler()"
   ]
  },
  {
   "cell_type": "code",
   "execution_count": null,
   "metadata": {},
   "outputs": [],
   "source": [
    "#train_data = scaler.fit_transform(train_data)"
   ]
  },
  {
   "cell_type": "code",
   "execution_count": null,
   "metadata": {},
   "outputs": [],
   "source": [
    "#train_data = pd.DataFrame(train_data)"
   ]
  },
  {
   "cell_type": "code",
   "execution_count": null,
   "metadata": {},
   "outputs": [],
   "source": [
    "#train_data"
   ]
  },
  {
   "cell_type": "code",
   "execution_count": null,
   "metadata": {},
   "outputs": [],
   "source": [
    "#pred"
   ]
  },
  {
   "cell_type": "code",
   "execution_count": null,
   "metadata": {},
   "outputs": [],
   "source": [
    "#pred[0].value_counts()"
   ]
  },
  {
   "cell_type": "code",
   "execution_count": null,
   "metadata": {},
   "outputs": [],
   "source": [
    "#SGDClassifier\n",
    "from sklearn.linear_model import SGDClassifier"
   ]
  },
  {
   "cell_type": "code",
   "execution_count": null,
   "metadata": {},
   "outputs": [],
   "source": [
    "model = SGDClassifier(loss=\"hinge\", penalty=\"l2\", max_iter=100, random_state=42)"
   ]
  },
  {
   "cell_type": "code",
   "execution_count": null,
   "metadata": {},
   "outputs": [],
   "source": [
    "model.fit(train_data, train_y_data)"
   ]
  },
  {
   "cell_type": "code",
   "execution_count": null,
   "metadata": {},
   "outputs": [],
   "source": [
    "pred = model.predict(x)"
   ]
  },
  {
   "cell_type": "code",
   "execution_count": null,
   "metadata": {},
   "outputs": [],
   "source": [
    "pred = pd.DataFrame(pred)"
   ]
  },
  {
   "cell_type": "code",
   "execution_count": null,
   "metadata": {},
   "outputs": [],
   "source": [
    "pred.tail(12)"
   ]
  },
  {
   "cell_type": "code",
   "execution_count": null,
   "metadata": {},
   "outputs": [],
   "source": [
    "final_pred = pred.tail(12)\n",
    "y = nfl_1['home_win']\n",
    "y_final = y.tail(12)\n",
    "y_final = pd.DataFrame(y_final)"
   ]
  },
  {
   "cell_type": "code",
   "execution_count": null,
   "metadata": {},
   "outputs": [],
   "source": [
    "stop\n",
    "print('{:>8s} | {:8s}'.format('depth', 'accuracy'))\n",
    "print(20 * '-')\n",
    "for depth in range(10,200,10):\n",
    "    model = SGDClassifier(loss=\"hinge\", penalty=\"l2\", max_iter=depth)\n",
    "    model.fit(train_data,train_y_data)\n",
    "    acc = accuracy_score(test_y_data, model.predict(test_data))\n",
    "    print('{:>8d} | {:8.2f}'.format(depth, acc))"
   ]
  },
  {
   "cell_type": "code",
   "execution_count": null,
   "metadata": {},
   "outputs": [],
   "source": [
    "accuracy_score(final_pred, y_final)"
   ]
  },
  {
   "cell_type": "code",
   "execution_count": null,
   "metadata": {},
   "outputs": [],
   "source": [
    "#gradient boosting classifier"
   ]
  },
  {
   "cell_type": "code",
   "execution_count": null,
   "metadata": {},
   "outputs": [],
   "source": [
    "from sklearn.ensemble import GradientBoostingClassifier"
   ]
  },
  {
   "cell_type": "code",
   "execution_count": null,
   "metadata": {},
   "outputs": [],
   "source": [
    "model = GradientBoostingClassifier(n_estimators=100, learning_rate=1.0,\n",
    "        max_depth=1, random_state=0, loss='deviance')"
   ]
  },
  {
   "cell_type": "code",
   "execution_count": null,
   "metadata": {},
   "outputs": [],
   "source": [
    "model.fit(train_data, train_y_data)"
   ]
  },
  {
   "cell_type": "code",
   "execution_count": null,
   "metadata": {},
   "outputs": [],
   "source": [
    "pred = model.predict(x)\n",
    "pred = pd.DataFrame(pred)"
   ]
  },
  {
   "cell_type": "code",
   "execution_count": null,
   "metadata": {},
   "outputs": [],
   "source": [
    "pred.tail(14)"
   ]
  },
  {
   "cell_type": "code",
   "execution_count": null,
   "metadata": {},
   "outputs": [],
   "source": [
    "accuracy_score(pred,y)"
   ]
  },
  {
   "cell_type": "code",
   "execution_count": null,
   "metadata": {},
   "outputs": [],
   "source": [
    "#random forest"
   ]
  },
  {
   "cell_type": "code",
   "execution_count": null,
   "metadata": {},
   "outputs": [],
   "source": [
    "from sklearn.ensemble import RandomForestClassifier\n",
    "from sklearn.datasets import make_classification"
   ]
  },
  {
   "cell_type": "code",
   "execution_count": null,
   "metadata": {},
   "outputs": [],
   "source": [
    "model = RandomForestClassifier(n_estimators=100, max_depth=1,\n",
    "                               random_state=0)"
   ]
  },
  {
   "cell_type": "code",
   "execution_count": null,
   "metadata": {},
   "outputs": [],
   "source": [
    "model.fit(train_data, train_y_data)"
   ]
  },
  {
   "cell_type": "code",
   "execution_count": null,
   "metadata": {},
   "outputs": [],
   "source": [
    "pred = model.predict(x)\n",
    "pred = pd.DataFrame(pred)"
   ]
  },
  {
   "cell_type": "code",
   "execution_count": null,
   "metadata": {},
   "outputs": [],
   "source": [
    "accuracy_score(pred,y)"
   ]
  },
  {
   "cell_type": "code",
   "execution_count": null,
   "metadata": {},
   "outputs": [],
   "source": [
    "stop\n",
    "print('{:>8s} | {:8s}'.format('depth', 'accuracy'))\n",
    "print(20 * '-')\n",
    "for depth in range(1,15):\n",
    "    model = RandomForestClassifier(n_estimators=100, max_depth=depth,\n",
    "                               random_state=0)\n",
    "    model.fit(train_data,train_y_data)\n",
    "    acc = accuracy_score(test_y_data, model.predict(test_data))\n",
    "    print('{:>8d} | {:8.2f}'.format(depth, acc))"
   ]
  },
  {
   "cell_type": "code",
   "execution_count": null,
   "metadata": {},
   "outputs": [],
   "source": [
    "pred.tail(14)"
   ]
  },
  {
   "cell_type": "code",
   "execution_count": null,
   "metadata": {},
   "outputs": [],
   "source": [
    "nfl_1['home_win'].value_counts()"
   ]
  },
  {
   "cell_type": "code",
   "execution_count": null,
   "metadata": {},
   "outputs": [],
   "source": [
    "x.tail(12)"
   ]
  },
  {
   "cell_type": "code",
   "execution_count": null,
   "metadata": {},
   "outputs": [],
   "source": [
    "undecided_2.tail(14)"
   ]
  },
  {
   "cell_type": "code",
   "execution_count": null,
   "metadata": {},
   "outputs": [],
   "source": [
    "#accuracy tests"
   ]
  },
  {
   "cell_type": "code",
   "execution_count": null,
   "metadata": {},
   "outputs": [],
   "source": [
    "from sklearn.metrics import precision_score, recall_score"
   ]
  },
  {
   "cell_type": "code",
   "execution_count": null,
   "metadata": {},
   "outputs": [],
   "source": [
    "precision_score(pred, y)"
   ]
  },
  {
   "cell_type": "code",
   "execution_count": null,
   "metadata": {},
   "outputs": [],
   "source": [
    "recall_score(pred,y)"
   ]
  },
  {
   "cell_type": "code",
   "execution_count": null,
   "metadata": {},
   "outputs": [],
   "source": [
    "from sklearn.metrics import confusion_matrix"
   ]
  },
  {
   "cell_type": "code",
   "execution_count": null,
   "metadata": {},
   "outputs": [],
   "source": [
    "confusion_matrix(pred,y)"
   ]
  },
  {
   "cell_type": "code",
   "execution_count": null,
   "metadata": {},
   "outputs": [],
   "source": [
    "from sklearn.model_selection import cross_val_predict\n",
    "y_scores = cross_val_predict(model, train_data, train_y_data, cv=3,\n",
    "                            method='decision_function')"
   ]
  },
  {
   "cell_type": "code",
   "execution_count": null,
   "metadata": {},
   "outputs": [],
   "source": [
    "from sklearn.metrics import roc_curve\n",
    "fpr, tpr, threshold = roc_curve(pred, y)\n",
    "def plot_roc_curve(fpr, tpr, label=None):\n",
    "    plt.plot(fpr, tpr, linewidth=2, label=label)\n",
    "    plt.plot([0,1], [0,1], 'k--')\n",
    "    plt.axis([0,1,0,1])\n",
    "    plt.xlabel('flase positive rate')\n",
    "    plt.ylabel('tru positive rate')"
   ]
  },
  {
   "cell_type": "code",
   "execution_count": null,
   "metadata": {},
   "outputs": [],
   "source": [
    "plot_roc_curve(fpr, tpr)\n",
    "plt.show()"
   ]
  },
  {
   "cell_type": "code",
   "execution_count": null,
   "metadata": {},
   "outputs": [],
   "source": [
    "from sklearn.metrics import roc_auc_score"
   ]
  },
  {
   "cell_type": "code",
   "execution_count": 45,
   "metadata": {},
   "outputs": [
    {
     "ename": "NameError",
     "evalue": "name 'roc_auc_score' is not defined",
     "output_type": "error",
     "traceback": [
      "\u001b[1;31m---------------------------------------------------------------------------\u001b[0m",
      "\u001b[1;31mNameError\u001b[0m                                 Traceback (most recent call last)",
      "\u001b[1;32m<ipython-input-45-00b862b9713e>\u001b[0m in \u001b[0;36m<module>\u001b[1;34m\u001b[0m\n\u001b[1;32m----> 1\u001b[1;33m \u001b[0mroc_auc_score\u001b[0m\u001b[1;33m(\u001b[0m\u001b[0my\u001b[0m\u001b[1;33m,\u001b[0m\u001b[0mpred\u001b[0m\u001b[1;33m)\u001b[0m\u001b[1;33m\u001b[0m\u001b[1;33m\u001b[0m\u001b[0m\n\u001b[0m",
      "\u001b[1;31mNameError\u001b[0m: name 'roc_auc_score' is not defined"
     ]
    }
   ],
   "source": [
    "roc_auc_score(y,pred)"
   ]
  },
  {
   "cell_type": "code",
   "execution_count": 46,
   "metadata": {},
   "outputs": [
    {
     "ename": "NameError",
     "evalue": "name 'DecisionTreeClassifier' is not defined",
     "output_type": "error",
     "traceback": [
      "\u001b[1;31m---------------------------------------------------------------------------\u001b[0m",
      "\u001b[1;31mNameError\u001b[0m                                 Traceback (most recent call last)",
      "\u001b[1;32m<ipython-input-46-642b68d232f0>\u001b[0m in \u001b[0;36m<module>\u001b[1;34m\u001b[0m\n\u001b[0;32m      1\u001b[0m DNN = (MLPClassifier(solver='lbfgs', alpha=1e-5,\n\u001b[0;32m      2\u001b[0m                      hidden_layer_sizes=8*[94], random_state=10))\n\u001b[1;32m----> 3\u001b[1;33m \u001b[0mDT\u001b[0m \u001b[1;33m=\u001b[0m \u001b[1;33m(\u001b[0m\u001b[0mDecisionTreeClassifier\u001b[0m\u001b[1;33m(\u001b[0m\u001b[0mmax_depth\u001b[0m\u001b[1;33m=\u001b[0m\u001b[1;36m28\u001b[0m\u001b[1;33m,\u001b[0m\u001b[0mrandom_state\u001b[0m\u001b[1;33m=\u001b[0m\u001b[1;36m50\u001b[0m\u001b[1;33m)\u001b[0m\u001b[1;33m)\u001b[0m\u001b[1;33m\u001b[0m\u001b[1;33m\u001b[0m\u001b[0m\n\u001b[0m\u001b[0;32m      4\u001b[0m \u001b[0mSGD\u001b[0m \u001b[1;33m=\u001b[0m \u001b[1;33m(\u001b[0m\u001b[0mSGDClassifier\u001b[0m\u001b[1;33m(\u001b[0m\u001b[0mloss\u001b[0m\u001b[1;33m=\u001b[0m\u001b[1;34m\"hinge\"\u001b[0m\u001b[1;33m,\u001b[0m \u001b[0mpenalty\u001b[0m\u001b[1;33m=\u001b[0m\u001b[1;34m\"l2\"\u001b[0m\u001b[1;33m,\u001b[0m \u001b[0mmax_iter\u001b[0m\u001b[1;33m=\u001b[0m\u001b[1;36m100\u001b[0m\u001b[1;33m,\u001b[0m \u001b[0mrandom_state\u001b[0m\u001b[1;33m=\u001b[0m\u001b[1;36m42\u001b[0m\u001b[1;33m)\u001b[0m\u001b[1;33m)\u001b[0m\u001b[1;33m\u001b[0m\u001b[1;33m\u001b[0m\u001b[0m\n\u001b[0;32m      5\u001b[0m GBC = (GradientBoostingClassifier(n_estimators=100, learning_rate=1.0,\n",
      "\u001b[1;31mNameError\u001b[0m: name 'DecisionTreeClassifier' is not defined"
     ]
    }
   ],
   "source": [
    "DNN = (MLPClassifier(solver='lbfgs', alpha=1e-5,\n",
    "                     hidden_layer_sizes=8*[94], random_state=10))\n",
    "DT = (DecisionTreeClassifier(max_depth=28,random_state=50))\n",
    "SGD = (SGDClassifier(loss=\"hinge\", penalty=\"l2\", max_iter=100, random_state=42))\n",
    "GBC = (GradientBoostingClassifier(n_estimators=100, learning_rate=1.0,\n",
    "        max_depth=1, random_state=0, loss='deviance'))\n",
    "RF = (RandomForestClassifier(n_estimators=100, max_depth=1,\n",
    "                               random_state=0))"
   ]
  },
  {
   "cell_type": "code",
   "execution_count": 47,
   "metadata": {},
   "outputs": [
    {
     "ename": "NameError",
     "evalue": "name 'DT' is not defined",
     "output_type": "error",
     "traceback": [
      "\u001b[1;31m---------------------------------------------------------------------------\u001b[0m",
      "\u001b[1;31mNameError\u001b[0m                                 Traceback (most recent call last)",
      "\u001b[1;32m<ipython-input-47-ec820d666afc>\u001b[0m in \u001b[0;36m<module>\u001b[1;34m\u001b[0m\n\u001b[1;32m----> 1\u001b[1;33m \u001b[0mmodels\u001b[0m\u001b[1;33m=\u001b[0m\u001b[1;33m(\u001b[0m\u001b[0mDNN\u001b[0m\u001b[1;33m,\u001b[0m\u001b[0mDT\u001b[0m\u001b[1;33m,\u001b[0m\u001b[0mSGD\u001b[0m\u001b[1;33m,\u001b[0m\u001b[0mGBC\u001b[0m\u001b[1;33m,\u001b[0m\u001b[0mRF\u001b[0m\u001b[1;33m)\u001b[0m\u001b[1;33m\u001b[0m\u001b[1;33m\u001b[0m\u001b[0m\n\u001b[0m\u001b[0;32m      2\u001b[0m \u001b[0mnames\u001b[0m \u001b[1;33m=\u001b[0m \u001b[1;33m(\u001b[0m\u001b[1;34m'1'\u001b[0m\u001b[1;33m,\u001b[0m\u001b[1;34m'2'\u001b[0m\u001b[1;33m,\u001b[0m\u001b[1;34m'3'\u001b[0m\u001b[1;33m,\u001b[0m\u001b[1;34m'4'\u001b[0m\u001b[1;33m,\u001b[0m\u001b[1;34m'5'\u001b[0m\u001b[1;33m)\u001b[0m\u001b[1;33m\u001b[0m\u001b[1;33m\u001b[0m\u001b[0m\n",
      "\u001b[1;31mNameError\u001b[0m: name 'DT' is not defined"
     ]
    }
   ],
   "source": [
    "models=(DNN,DT,SGD,GBC,RF)\n",
    "names = ('1','2','3','4','5')"
   ]
  },
  {
   "cell_type": "code",
   "execution_count": 48,
   "metadata": {},
   "outputs": [
    {
     "name": "stdout",
     "output_type": "stream",
     "text": [
      "strategy | accuracy\n",
      "--------------------\n"
     ]
    },
    {
     "ename": "NameError",
     "evalue": "name 'models' is not defined",
     "output_type": "error",
     "traceback": [
      "\u001b[1;31m---------------------------------------------------------------------------\u001b[0m",
      "\u001b[1;31mNameError\u001b[0m                                 Traceback (most recent call last)",
      "\u001b[1;32m<ipython-input-48-966ea19e5bcf>\u001b[0m in \u001b[0;36m<module>\u001b[1;34m\u001b[0m\n\u001b[0;32m      1\u001b[0m \u001b[0mprint\u001b[0m\u001b[1;33m(\u001b[0m\u001b[1;34m'{:>8s} | {:8s}'\u001b[0m\u001b[1;33m.\u001b[0m\u001b[0mformat\u001b[0m\u001b[1;33m(\u001b[0m\u001b[1;34m'strategy'\u001b[0m\u001b[1;33m,\u001b[0m \u001b[1;34m'accuracy'\u001b[0m\u001b[1;33m)\u001b[0m\u001b[1;33m)\u001b[0m\u001b[1;33m\u001b[0m\u001b[1;33m\u001b[0m\u001b[0m\n\u001b[0;32m      2\u001b[0m \u001b[0mprint\u001b[0m\u001b[1;33m(\u001b[0m\u001b[1;36m20\u001b[0m \u001b[1;33m*\u001b[0m \u001b[1;34m'-'\u001b[0m\u001b[1;33m)\u001b[0m\u001b[1;33m\u001b[0m\u001b[1;33m\u001b[0m\u001b[0m\n\u001b[1;32m----> 3\u001b[1;33m \u001b[1;32mfor\u001b[0m \u001b[0mmod\u001b[0m \u001b[1;32min\u001b[0m \u001b[0mmodels\u001b[0m\u001b[1;33m:\u001b[0m\u001b[1;33m\u001b[0m\u001b[1;33m\u001b[0m\u001b[0m\n\u001b[0m\u001b[0;32m      4\u001b[0m     \u001b[0mmod\u001b[0m\u001b[1;33m.\u001b[0m\u001b[0mfit\u001b[0m\u001b[1;33m(\u001b[0m\u001b[0mtrain_data\u001b[0m\u001b[1;33m,\u001b[0m \u001b[0mtrain_y_data\u001b[0m\u001b[1;33m)\u001b[0m\u001b[1;33m\u001b[0m\u001b[1;33m\u001b[0m\u001b[0m\n\u001b[0;32m      5\u001b[0m     \u001b[0mpred\u001b[0m \u001b[1;33m=\u001b[0m \u001b[0mmod\u001b[0m\u001b[1;33m.\u001b[0m\u001b[0mpredict\u001b[0m\u001b[1;33m(\u001b[0m\u001b[0mx\u001b[0m\u001b[1;33m)\u001b[0m\u001b[1;33m\u001b[0m\u001b[1;33m\u001b[0m\u001b[0m\n",
      "\u001b[1;31mNameError\u001b[0m: name 'models' is not defined"
     ]
    }
   ],
   "source": [
    "print('{:>8s} | {:8s}'.format('strategy', 'accuracy'))\n",
    "print(20 * '-')\n",
    "for mod in models:\n",
    "    mod.fit(train_data, train_y_data)\n",
    "    pred = mod.predict(x)\n",
    "    pred = pd.DataFrame(pred)\n",
    "    pred_final = pred.tail(12)\n",
    "    y = nfl_1['home_win']\n",
    "    y_final = y.tail(12)\n",
    "    y_final = pd.DataFrame(y_final)\n",
    "    acc = accuracy_score(pred_final, y_final)\n",
    "    print(f\"'model' | {acc}\")"
   ]
  },
  {
   "cell_type": "code",
   "execution_count": null,
   "metadata": {},
   "outputs": [],
   "source": []
  },
  {
   "cell_type": "code",
   "execution_count": null,
   "metadata": {},
   "outputs": [],
   "source": []
  },
  {
   "cell_type": "code",
   "execution_count": 52,
   "metadata": {},
   "outputs": [],
   "source": [
    "away = undecided_2[undecided_2.team_away == 3]    "
   ]
  },
  {
   "cell_type": "code",
   "execution_count": 60,
   "metadata": {},
   "outputs": [
    {
     "data": {
      "text/plain": [
       "<matplotlib.axes._subplots.AxesSubplot at 0x23d9dca0b08>"
      ]
     },
     "execution_count": 60,
     "metadata": {},
     "output_type": "execute_result"
    },
    {
     "data": {
      "image/png": "[encoded data removed]",
      "text/plain": [
       "<Figure size 432x288 with 1 Axes>"
      ]
     },
     "metadata": {
      "needs_background": "light"
     },
     "output_type": "display_data"
    }
   ],
   "source": [
    "away.score_away.hist()\n",
    "away.score_home.hist()"
   ]
  },
  {
   "cell_type": "code",
   "execution_count": null,
   "metadata": {},
   "outputs": [],
   "source": []
  },
  {
   "cell_type": "code",
   "execution_count": null,
   "metadata": {},
   "outputs": [],
   "source": []
  },
  {
   "cell_type": "code",
   "execution_count": 63,
   "metadata": {},
   "outputs": [
    {
     "data": {
      "text/plain": [
       "home_win            1.000000\n",
       "score_home          0.672558\n",
       "home_fav            0.259706\n",
       "stadium_neutral     0.135755\n",
       "team_home           0.015669\n",
       "schedule_playoff   -0.012653\n",
       "spread_favorite    -0.172569\n",
       "weather_wind_mph   -0.204227\n",
       "schedule_season    -0.238120\n",
       "score_away         -0.493458\n",
       "team_away                NaN\n",
       "weather_humidity         NaN\n",
       "Name: home_win, dtype: float64"
      ]
     },
     "execution_count": 63,
     "metadata": {},
     "output_type": "execute_result"
    }
   ],
   "source": [
    "away.corr()['home_win'].sort_values(ascending=False)"
   ]
  },
  {
   "cell_type": "code",
   "execution_count": 50,
   "metadata": {},
   "outputs": [
    {
     "data": {
      "text/html": [
       "<div>\n",
       "<style scoped>\n",
       "    .dataframe tbody tr th:only-of-type {\n",
       "        vertical-align: middle;\n",
       "    }\n",
       "\n",
       "    .dataframe tbody tr th {\n",
       "        vertical-align: top;\n",
       "    }\n",
       "\n",
       "    .dataframe thead th {\n",
       "        text-align: right;\n",
       "    }\n",
       "</style>\n",
       "<table border=\"1\" class=\"dataframe\">\n",
       "  <thead>\n",
       "    <tr style=\"text-align: right;\">\n",
       "      <th></th>\n",
       "      <th>schedule_season</th>\n",
       "      <th>schedule_week</th>\n",
       "      <th>schedule_playoff</th>\n",
       "      <th>team_home</th>\n",
       "      <th>score_home</th>\n",
       "      <th>score_away</th>\n",
       "      <th>team_away</th>\n",
       "      <th>team_favorite_id</th>\n",
       "      <th>spread_favorite</th>\n",
       "      <th>over_under_line</th>\n",
       "      <th>stadium</th>\n",
       "      <th>stadium_neutral</th>\n",
       "      <th>weather_temperature</th>\n",
       "      <th>weather_wind_mph</th>\n",
       "      <th>weather_humidity</th>\n",
       "      <th>weather_detail</th>\n",
       "      <th>home_win</th>\n",
       "      <th>home_fav</th>\n",
       "    </tr>\n",
       "    <tr>\n",
       "      <th>schedule_date</th>\n",
       "      <th></th>\n",
       "      <th></th>\n",
       "      <th></th>\n",
       "      <th></th>\n",
       "      <th></th>\n",
       "      <th></th>\n",
       "      <th></th>\n",
       "      <th></th>\n",
       "      <th></th>\n",
       "      <th></th>\n",
       "      <th></th>\n",
       "      <th></th>\n",
       "      <th></th>\n",
       "      <th></th>\n",
       "      <th></th>\n",
       "      <th></th>\n",
       "      <th></th>\n",
       "      <th></th>\n",
       "    </tr>\n",
       "  </thead>\n",
       "  <tbody>\n",
       "    <tr>\n",
       "      <td>2014-09-04</td>\n",
       "      <td>2014</td>\n",
       "      <td>1</td>\n",
       "      <td>False</td>\n",
       "      <td>28</td>\n",
       "      <td>36.0</td>\n",
       "      <td>16.0</td>\n",
       "      <td>12</td>\n",
       "      <td>28</td>\n",
       "      <td>-4.5</td>\n",
       "      <td>46.5</td>\n",
       "      <td>CenturyLink Field</td>\n",
       "      <td>False</td>\n",
       "      <td>67.5</td>\n",
       "      <td>5.0</td>\n",
       "      <td>NaN</td>\n",
       "      <td>NaN</td>\n",
       "      <td>1</td>\n",
       "      <td>1</td>\n",
       "    </tr>\n",
       "    <tr>\n",
       "      <td>2014-09-07</td>\n",
       "      <td>2014</td>\n",
       "      <td>1</td>\n",
       "      <td>False</td>\n",
       "      <td>2</td>\n",
       "      <td>37.0</td>\n",
       "      <td>34.0</td>\n",
       "      <td>21</td>\n",
       "      <td>21</td>\n",
       "      <td>-3.0</td>\n",
       "      <td>52</td>\n",
       "      <td>Georgia Dome</td>\n",
       "      <td>False</td>\n",
       "      <td>72.5</td>\n",
       "      <td>0.0</td>\n",
       "      <td>NaN</td>\n",
       "      <td>DOME</td>\n",
       "      <td>1</td>\n",
       "      <td>0</td>\n",
       "    </tr>\n",
       "    <tr>\n",
       "      <td>2014-09-07</td>\n",
       "      <td>2014</td>\n",
       "      <td>1</td>\n",
       "      <td>False</td>\n",
       "      <td>3</td>\n",
       "      <td>16.0</td>\n",
       "      <td>23.0</td>\n",
       "      <td>7</td>\n",
       "      <td>3</td>\n",
       "      <td>-1.0</td>\n",
       "      <td>42.5</td>\n",
       "      <td>M&amp;T Bank Stadium</td>\n",
       "      <td>False</td>\n",
       "      <td>77.5</td>\n",
       "      <td>0.0</td>\n",
       "      <td>NaN</td>\n",
       "      <td>NaN</td>\n",
       "      <td>0</td>\n",
       "      <td>1</td>\n",
       "    </tr>\n",
       "    <tr>\n",
       "      <td>2014-09-07</td>\n",
       "      <td>2014</td>\n",
       "      <td>1</td>\n",
       "      <td>False</td>\n",
       "      <td>6</td>\n",
       "      <td>20.0</td>\n",
       "      <td>23.0</td>\n",
       "      <td>4</td>\n",
       "      <td>6</td>\n",
       "      <td>-7.0</td>\n",
       "      <td>47</td>\n",
       "      <td>Soldier Field</td>\n",
       "      <td>False</td>\n",
       "      <td>77.5</td>\n",
       "      <td>7.0</td>\n",
       "      <td>NaN</td>\n",
       "      <td>NaN</td>\n",
       "      <td>0</td>\n",
       "      <td>1</td>\n",
       "    </tr>\n",
       "    <tr>\n",
       "      <td>2014-09-07</td>\n",
       "      <td>2014</td>\n",
       "      <td>1</td>\n",
       "      <td>False</td>\n",
       "      <td>9</td>\n",
       "      <td>17.0</td>\n",
       "      <td>28.0</td>\n",
       "      <td>27</td>\n",
       "      <td>27</td>\n",
       "      <td>-3.5</td>\n",
       "      <td>51</td>\n",
       "      <td>Cowboys Stadium</td>\n",
       "      <td>False</td>\n",
       "      <td>72.5</td>\n",
       "      <td>0.0</td>\n",
       "      <td>NaN</td>\n",
       "      <td>DOME</td>\n",
       "      <td>0</td>\n",
       "      <td>0</td>\n",
       "    </tr>\n",
       "    <tr>\n",
       "      <td>...</td>\n",
       "      <td>...</td>\n",
       "      <td>...</td>\n",
       "      <td>...</td>\n",
       "      <td>...</td>\n",
       "      <td>...</td>\n",
       "      <td>...</td>\n",
       "      <td>...</td>\n",
       "      <td>...</td>\n",
       "      <td>...</td>\n",
       "      <td>...</td>\n",
       "      <td>...</td>\n",
       "      <td>...</td>\n",
       "      <td>...</td>\n",
       "      <td>...</td>\n",
       "      <td>...</td>\n",
       "      <td>...</td>\n",
       "      <td>...</td>\n",
       "      <td>...</td>\n",
       "    </tr>\n",
       "    <tr>\n",
       "      <td>2019-12-08</td>\n",
       "      <td>2019</td>\n",
       "      <td>14</td>\n",
       "      <td>False</td>\n",
       "      <td>21</td>\n",
       "      <td>46.0</td>\n",
       "      <td>48.0</td>\n",
       "      <td>27</td>\n",
       "      <td>27</td>\n",
       "      <td>-2.5</td>\n",
       "      <td>43.5</td>\n",
       "      <td>Mercedes-Benz Superdome</td>\n",
       "      <td>False</td>\n",
       "      <td>72.5</td>\n",
       "      <td>0.0</td>\n",
       "      <td>NaN</td>\n",
       "      <td>DOME</td>\n",
       "      <td>0</td>\n",
       "      <td>0</td>\n",
       "    </tr>\n",
       "    <tr>\n",
       "      <td>2019-12-08</td>\n",
       "      <td>2019</td>\n",
       "      <td>14</td>\n",
       "      <td>False</td>\n",
       "      <td>23</td>\n",
       "      <td>22.0</td>\n",
       "      <td>21.0</td>\n",
       "      <td>19</td>\n",
       "      <td>23</td>\n",
       "      <td>-5.0</td>\n",
       "      <td>46</td>\n",
       "      <td>MetLife Stadium</td>\n",
       "      <td>False</td>\n",
       "      <td>37.5</td>\n",
       "      <td>5.0</td>\n",
       "      <td>NaN</td>\n",
       "      <td>NaN</td>\n",
       "      <td>1</td>\n",
       "      <td>1</td>\n",
       "    </tr>\n",
       "    <tr>\n",
       "      <td>2019-12-08</td>\n",
       "      <td>2019</td>\n",
       "      <td>14</td>\n",
       "      <td>False</td>\n",
       "      <td>24</td>\n",
       "      <td>21.0</td>\n",
       "      <td>42.0</td>\n",
       "      <td>30</td>\n",
       "      <td>30</td>\n",
       "      <td>-3.0</td>\n",
       "      <td>47.5</td>\n",
       "      <td>Oakland Coliseum</td>\n",
       "      <td>False</td>\n",
       "      <td>57.5</td>\n",
       "      <td>6.0</td>\n",
       "      <td>NaN</td>\n",
       "      <td>NaN</td>\n",
       "      <td>0</td>\n",
       "      <td>0</td>\n",
       "    </tr>\n",
       "    <tr>\n",
       "      <td>2019-12-08</td>\n",
       "      <td>2019</td>\n",
       "      <td>14</td>\n",
       "      <td>False</td>\n",
       "      <td>29</td>\n",
       "      <td>38.0</td>\n",
       "      <td>35.0</td>\n",
       "      <td>14</td>\n",
       "      <td>29</td>\n",
       "      <td>-3.0</td>\n",
       "      <td>47</td>\n",
       "      <td>Raymond James Stadium</td>\n",
       "      <td>False</td>\n",
       "      <td>72.5</td>\n",
       "      <td>8.0</td>\n",
       "      <td>NaN</td>\n",
       "      <td>NaN</td>\n",
       "      <td>1</td>\n",
       "      <td>1</td>\n",
       "    </tr>\n",
       "    <tr>\n",
       "      <td>2019-12-09</td>\n",
       "      <td>2019</td>\n",
       "      <td>14</td>\n",
       "      <td>False</td>\n",
       "      <td>25</td>\n",
       "      <td>23.0</td>\n",
       "      <td>17.0</td>\n",
       "      <td>22</td>\n",
       "      <td>25</td>\n",
       "      <td>-9.5</td>\n",
       "      <td>45</td>\n",
       "      <td>Lincoln Financial Field</td>\n",
       "      <td>False</td>\n",
       "      <td>52.5</td>\n",
       "      <td>14.0</td>\n",
       "      <td>NaN</td>\n",
       "      <td>NaN</td>\n",
       "      <td>1</td>\n",
       "      <td>1</td>\n",
       "    </tr>\n",
       "  </tbody>\n",
       "</table>\n",
       "<p>1543 rows × 18 columns</p>\n",
       "</div>"
      ],
      "text/plain": [
       "               schedule_season schedule_week  schedule_playoff  team_home  \\\n",
       "schedule_date                                                               \n",
       "2014-09-04                2014             1             False         28   \n",
       "2014-09-07                2014             1             False          2   \n",
       "2014-09-07                2014             1             False          3   \n",
       "2014-09-07                2014             1             False          6   \n",
       "2014-09-07                2014             1             False          9   \n",
       "...                        ...           ...               ...        ...   \n",
       "2019-12-08                2019            14             False         21   \n",
       "2019-12-08                2019            14             False         23   \n",
       "2019-12-08                2019            14             False         24   \n",
       "2019-12-08                2019            14             False         29   \n",
       "2019-12-09                2019            14             False         25   \n",
       "\n",
       "               score_home  score_away  team_away team_favorite_id  \\\n",
       "schedule_date                                                       \n",
       "2014-09-04           36.0        16.0         12               28   \n",
       "2014-09-07           37.0        34.0         21               21   \n",
       "2014-09-07           16.0        23.0          7                3   \n",
       "2014-09-07           20.0        23.0          4                6   \n",
       "2014-09-07           17.0        28.0         27               27   \n",
       "...                   ...         ...        ...              ...   \n",
       "2019-12-08           46.0        48.0         27               27   \n",
       "2019-12-08           22.0        21.0         19               23   \n",
       "2019-12-08           21.0        42.0         30               30   \n",
       "2019-12-08           38.0        35.0         14               29   \n",
       "2019-12-09           23.0        17.0         22               25   \n",
       "\n",
       "               spread_favorite over_under_line                  stadium  \\\n",
       "schedule_date                                                             \n",
       "2014-09-04                -4.5            46.5        CenturyLink Field   \n",
       "2014-09-07                -3.0              52             Georgia Dome   \n",
       "2014-09-07                -1.0            42.5         M&T Bank Stadium   \n",
       "2014-09-07                -7.0              47            Soldier Field   \n",
       "2014-09-07                -3.5              51          Cowboys Stadium   \n",
       "...                        ...             ...                      ...   \n",
       "2019-12-08                -2.5            43.5  Mercedes-Benz Superdome   \n",
       "2019-12-08                -5.0              46          MetLife Stadium   \n",
       "2019-12-08                -3.0            47.5         Oakland Coliseum   \n",
       "2019-12-08                -3.0              47    Raymond James Stadium   \n",
       "2019-12-09                -9.5              45  Lincoln Financial Field   \n",
       "\n",
       "               stadium_neutral weather_temperature  weather_wind_mph  \\\n",
       "schedule_date                                                          \n",
       "2014-09-04               False                67.5               5.0   \n",
       "2014-09-07               False                72.5               0.0   \n",
       "2014-09-07               False                77.5               0.0   \n",
       "2014-09-07               False                77.5               7.0   \n",
       "2014-09-07               False                72.5               0.0   \n",
       "...                        ...                 ...               ...   \n",
       "2019-12-08               False                72.5               0.0   \n",
       "2019-12-08               False                37.5               5.0   \n",
       "2019-12-08               False                57.5               6.0   \n",
       "2019-12-08               False                72.5               8.0   \n",
       "2019-12-09               False                52.5              14.0   \n",
       "\n",
       "               weather_humidity weather_detail  home_win  home_fav  \n",
       "schedule_date                                                       \n",
       "2014-09-04                  NaN            NaN         1         1  \n",
       "2014-09-07                  NaN           DOME         1         0  \n",
       "2014-09-07                  NaN            NaN         0         1  \n",
       "2014-09-07                  NaN            NaN         0         1  \n",
       "2014-09-07                  NaN           DOME         0         0  \n",
       "...                         ...            ...       ...       ...  \n",
       "2019-12-08                  NaN           DOME         0         0  \n",
       "2019-12-08                  NaN            NaN         1         1  \n",
       "2019-12-08                  NaN            NaN         0         0  \n",
       "2019-12-08                  NaN            NaN         1         1  \n",
       "2019-12-09                  NaN            NaN         1         1  \n",
       "\n",
       "[1543 rows x 18 columns]"
      ]
     },
     "execution_count": 50,
     "metadata": {},
     "output_type": "execute_result"
    }
   ],
   "source": []
  },
  {
   "cell_type": "code",
   "execution_count": null,
   "metadata": {},
   "outputs": [],
   "source": []
  }
 ],
 "metadata": {
  "kernelspec": {
   "display_name": "Python 3",
   "language": "python",
   "name": "python3"
  },
  "language_info": {
   "codemirror_mode": {
    "name": "ipython",
    "version": 3
   },
   "file_extension": ".py",
   "mimetype": "text/x-python",
   "name": "python",
   "nbconvert_exporter": "python",
   "pygments_lexer": "ipython3",
   "version": "3.7.4"
  }
 },
 "nbformat": 4,
 "nbformat_minor": 2
}
