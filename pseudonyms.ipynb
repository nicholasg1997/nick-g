{
 "cells": [
  {
   "cell_type": "code",
   "execution_count": 6,
   "metadata": {},
   "outputs": [],
   "source": [
    "import sys\n",
    "import random"
   ]
  },
  {
   "cell_type": "code",
   "execution_count": 4,
   "metadata": {},
   "outputs": [
    {
     "name": "stdout",
     "output_type": "stream",
     "text": [
      "Welcome to the psych 'Sidekick name generator'\n"
     ]
    }
   ],
   "source": [
    "print(\"Welcome to the psych 'Sidekick name generator'\")"
   ]
  },
  {
   "cell_type": "code",
   "execution_count": 2,
   "metadata": {},
   "outputs": [],
   "source": [
    "first = ('Baby Oil', 'Bad News', 'Big Burps', \"Bill 'Beenie-Weenie'\",\n",
    "         \"Bob 'Stinkbug'\", 'Bowel Noises', 'Boxelder', \"Bud 'Lite' \",\n",
    "         'Butterbean', 'Buttermilk', 'Buttocks', 'Chad', 'Chesterfield',\n",
    "         'Chewy', 'Chigger', 'Cinnabuns', 'Cleet', 'Cornbread', 'Crab Meat',\n",
    "         'Crapps', 'Dark Skies', 'Dennis Clawhammer', 'Dicman', 'Elphonso',\n",
    "         'Fancypants', 'Figgs', 'Foncy', 'Gootsy', 'Greasy Jim', 'Huckleberry',\n",
    "         'Huggy', 'Ignatious', 'Jimbo', \"Joe 'Pottin Soil'\", 'Johnny',\n",
    "         'Lemongrass', 'Lil Debil', 'Longbranch', '\"Lunch Money\"', 'Mergatroid',\n",
    "         '\"Mr Peabody\"', 'Oil-Can', 'Oinks', 'Old Scratch', 'Ovaltine',\n",
    "         'Pennywhistle', 'Pitchfork Ben', 'Potato Bug', 'Pushmeet',\n",
    "         'Rock Candy', 'Schlomo', 'Scratchensniff', 'Scut',\n",
    "         \"Sid 'The Squirts'\", 'Skidmark', 'Slaps', 'Snakes', 'Snoobs',\n",
    "         'Snorki', 'Soupcan Sam', 'Spitzitout', 'Squids', 'Stinky',\n",
    "         'Storyboard', 'Sweet Tea', 'TeeTee', 'Wheezy Joe',\n",
    "         \"Winston 'Jazz Hands'\", 'Worms')\n",
    "\n",
    "last = ('Appleyard', 'Bigmeat', 'Bloominshine', 'Boogerbottom',\n",
    "        'Breedslovetrout', 'Butterbaugh', 'Clovenhoof', 'Clutterbuck',\n",
    "        'Cocktoasten', 'Endicott', 'Fewhairs', 'Gooberdapple', 'Goodensmith',\n",
    "        'Goodpasture', 'Guster', 'Henderson', 'Hooperbag', 'Hoosenater',\n",
    "        'Hootkins', 'Jefferson', 'Jenkins', 'Jingley-Schmidt', 'Johnson',\n",
    "        'Kingfish', 'Listenbee', \"M'Bembo\", 'McFadden', 'Moonshine', 'Nettles',\n",
    "        'Noseworthy', 'Olivetti', 'Outerbridge', 'Overpeck', 'Overturf',\n",
    "        'Oxhandler', 'Pealike', 'Pennywhistle', 'Peterson', 'Pieplow',\n",
    "        'Pinkerton', 'Porkins', 'Putney', 'Quakenbush', 'Rainwater',\n",
    "        'Rosenthal', 'Rubbins', 'Sackrider', 'Snuggleshine', 'Splern',\n",
    "        'Stevens', 'Stroganoff', 'Sugar-Gold', 'Swackhamer', 'Tippins',\n",
    "        'Turnipseed', 'Vinaigrette', 'Walkingstick', 'Wallbanger', 'Weewax',\n",
    "        'Weiners', 'Whipkey', 'Wigglesworth', 'Wimplesnatch', 'Winterkorn',\n",
    "        'Woolysocks')"
   ]
  },
  {
   "cell_type": "code",
   "execution_count": 3,
   "metadata": {},
   "outputs": [
    {
     "name": "stderr",
     "output_type": "stream",
     "text": [
      "Pennywhistle Overpeck\n"
     ]
    },
    {
     "name": "stdout",
     "output_type": "stream",
     "text": [
      "\n",
      "\n",
      "\n",
      "\n",
      "\n",
      "\n",
      "\n",
      "\n",
      "Try again? (press ENTER else n to quit)\n",
      "\n"
     ]
    },
    {
     "name": "stderr",
     "output_type": "stream",
     "text": [
      "Bowel Noises Guster\n"
     ]
    },
    {
     "name": "stdout",
     "output_type": "stream",
     "text": [
      "\n",
      "\n",
      "\n",
      "\n",
      "\n",
      "\n",
      "\n",
      "\n",
      "Try again? (press ENTER else n to quit)\n",
      "\n"
     ]
    },
    {
     "name": "stderr",
     "output_type": "stream",
     "text": [
      "Cinnabuns Hoosenater\n"
     ]
    },
    {
     "name": "stdout",
     "output_type": "stream",
     "text": [
      "\n",
      "\n",
      "\n",
      "\n",
      "\n",
      "\n",
      "\n",
      "\n",
      "Try again? (press ENTER else n to quit)\n",
      "n\n",
      "\n",
      "Press ENTER to exit\n"
     ]
    },
    {
     "data": {
      "text/plain": [
       "''"
      ]
     },
     "execution_count": 3,
     "metadata": {},
     "output_type": "execute_result"
    }
   ],
   "source": [
    "while True:\n",
    "    firstname = random.choice(first)\n",
    "    \n",
    "    lastname = random.choice(last)\n",
    "    \n",
    "    print('\\n\\n')\n",
    "    print(\"{} {}\".format(firstname, lastname), file=sys.stderr)\n",
    "    print(\"\\n\\n\")\n",
    "    \n",
    "    try_again= input(\"\\n\\nTry again? (press ENTER else n to quit)\\n\")\n",
    "    if try_again.lower() == 'n':\n",
    "        break\n",
    "        \n",
    "input(\"\\nPress ENTER to exit\")"
   ]
  },
  {
   "cell_type": "code",
   "execution_count": 1,
   "metadata": {},
   "outputs": [],
   "source": [
    "#pig latin"
   ]
  },
  {
   "cell_type": "code",
   "execution_count": 2,
   "metadata": {},
   "outputs": [],
   "source": [
    "vowels = 'aeiouy'"
   ]
  },
  {
   "cell_type": "code",
   "execution_count": 7,
   "metadata": {},
   "outputs": [
    {
     "name": "stdout",
     "output_type": "stream",
     "text": [
      "type word to get pig latin translationbanana\n"
     ]
    },
    {
     "name": "stderr",
     "output_type": "stream",
     "text": [
      "ananabay\n"
     ]
    },
    {
     "name": "stdout",
     "output_type": "stream",
     "text": [
      "\n",
      "would you like to try again (y/n)y\n",
      "type word to get pig latin translationapple\n"
     ]
    },
    {
     "name": "stderr",
     "output_type": "stream",
     "text": [
      "appleway\n"
     ]
    },
    {
     "name": "stdout",
     "output_type": "stream",
     "text": [
      "\n",
      "would you like to try again (y/n)banana\n",
      "type word to get pig latin translationbanana\n"
     ]
    },
    {
     "name": "stderr",
     "output_type": "stream",
     "text": [
      "ananabay\n"
     ]
    },
    {
     "name": "stdout",
     "output_type": "stream",
     "text": [
      "\n",
      "would you like to try again (y/n)earl\n",
      "type word to get pig latin translationearl\n"
     ]
    },
    {
     "name": "stderr",
     "output_type": "stream",
     "text": [
      "earlway\n"
     ]
    },
    {
     "name": "stdout",
     "output_type": "stream",
     "text": [
      "\n",
      "would you like to try again (y/n)n\n"
     ]
    }
   ],
   "source": [
    "while True:\n",
    "    word = input('type word to get pig latin translation')\n",
    "    \n",
    "    if word[0] in vowels:\n",
    "        pig_latin = word + 'way'\n",
    "    else:\n",
    "        pig_latin = word[1:] + word[0] + 'ay'\n",
    "    print()\n",
    "    print(\"{}\".format(pig_latin), file=sys.stderr)\n",
    "    \n",
    "    try_again = input(\"would you like to try again (y/n)\")\n",
    "    if try_again.lower() == 'n':\n",
    "        break"
   ]
  },
  {
   "cell_type": "code",
   "execution_count": 10,
   "metadata": {},
   "outputs": [],
   "source": [
    "#poor mans bar chart"
   ]
  },
  {
   "cell_type": "code",
   "execution_count": 11,
   "metadata": {},
   "outputs": [
    {
     "name": "stdout",
     "output_type": "stream",
     "text": [
      "\n",
      "You may need to stretch console window if text wrapping occurs.\n",
      "\n",
      "text = defaultdict(<class 'list'>,\n",
      "            {'a': ['a', 'a', 'a', 'a', 'a', 'a', 'a'],\n",
      "             'b': ['b', 'b'],\n",
      "             'c': ['c', 'c'],\n",
      "             'd': ['d', 'd'],\n",
      "             'e': ['e', 'e', 'e', 'e', 'e', 'e', 'e', 'e', 'e', 'e', 'e', 'e', 'e', 'e', 'e', 'e', 'e'],\n",
      "             'f': ['f'],\n",
      "             'g': ['g'],\n",
      "             'h': ['h', 'h', 'h'],\n",
      "             'i': ['i', 'i', 'i', 'i', 'i', 'i', 'i', 'i'],\n",
      "             'j': ['j'],\n",
      "             'k': ['k'],\n",
      "             'l': ['l', 'l', 'l', 'l', 'l'],\n",
      "             'm': ['m', 'm', 'm'],\n",
      "             'n': ['n', 'n', 'n', 'n'],\n",
      "             'o': ['o', 'o', 'o'],\n",
      "             'r': ['r', 'r', 'r', 'r', 'r', 'r', 'r'],\n",
      "             's': ['s', 's', 's', 's', 's', 's'],\n",
      "             't': ['t', 't', 't', 't', 't', 't', 't', 't'],\n",
      "             'u': ['u', 'u'],\n",
      "             'v': ['v'],\n",
      "             'y': ['y']})\n"
     ]
    },
    {
     "name": "stderr",
     "output_type": "stream",
     "text": [
      "Like the castle in its corner in a medieval game, I foresee terrible trouble and I stay here just the same.\n",
      "\n"
     ]
    }
   ],
   "source": [
    "\"\"\"Map letters from string into dictionary & print bar chart of frequency.\"\"\"\n",
    "import sys\n",
    "import pprint\n",
    "from collections import defaultdict\n",
    "\n",
    "# Note: text should be a short phrase for bars to fit in IDLE window\n",
    "text = 'Like the castle in its corner in a medieval game, I foresee terrible \\\n",
    "trouble and I stay here just the same.'\n",
    "\n",
    "ALPHABET = 'abcdefghijklmnopqrstuvwxyz'\n",
    "\n",
    "# defaultdict module lets you build dictionary keys on the fly!\n",
    "mapped = defaultdict(list)\n",
    "for character in text:\n",
    "    character = character.lower()\n",
    "    if character in ALPHABET:\n",
    "        mapped[character].append(character)\n",
    "\n",
    "# pprint lets you print stacked output\n",
    "print(\"\\nYou may need to stretch console window if text wrapping occurs.\\n\")\n",
    "print(\"text = \", end='')\n",
    "print(\"{}\\n\".format(text), file=sys.stderr)\n",
    "pprint.pprint(mapped, width=110)"
   ]
  },
  {
   "cell_type": "code",
   "execution_count": null,
   "metadata": {},
   "outputs": [],
   "source": [
    "#"
   ]
  }
 ],
 "metadata": {
  "kernelspec": {
   "display_name": "Python 3",
   "language": "python",
   "name": "python3"
  },
  "language_info": {
   "codemirror_mode": {
    "name": "ipython",
    "version": 3
   },
   "file_extension": ".py",
   "mimetype": "text/x-python",
   "name": "python",
   "nbconvert_exporter": "python",
   "pygments_lexer": "ipython3",
   "version": "3.7.4"
  }
 },
 "nbformat": 4,
 "nbformat_minor": 2
}
